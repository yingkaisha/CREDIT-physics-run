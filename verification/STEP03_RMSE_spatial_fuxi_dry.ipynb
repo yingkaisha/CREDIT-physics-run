{
 "cells": [
  {
   "cell_type": "markdown",
   "id": "ac814c7e-dee1-4b45-9239-8d9cd98b9ada",
   "metadata": {},
   "source": [
    "# RMSE Spatial distribution"
   ]
  },
  {
   "cell_type": "code",
   "execution_count": 1,
   "id": "8deb4be5-9191-4fb6-afb1-9b6c2351f719",
   "metadata": {},
   "outputs": [],
   "source": [
    "import os\n",
    "import sys\n",
    "import yaml\n",
    "from glob import glob\n",
    "from datetime import datetime, timedelta\n",
    "\n",
    "import numpy as np\n",
    "import xarray as xr"
   ]
  },
  {
   "cell_type": "code",
   "execution_count": 2,
   "id": "cbb5d545-cc77-464d-9704-173ea0a307c0",
   "metadata": {},
   "outputs": [],
   "source": [
    "import matplotlib.pyplot as plt\n",
    "%matplotlib inline"
   ]
  },
  {
   "cell_type": "code",
   "execution_count": 3,
   "id": "4f276d5d-e0b9-4639-911f-44566f18e248",
   "metadata": {},
   "outputs": [],
   "source": [
    "sys.path.insert(0, os.path.realpath('../libs/'))\n",
    "import verif_utils as vu"
   ]
  },
  {
   "cell_type": "code",
   "execution_count": 4,
   "id": "04614252-cb60-44ef-afa4-3732f1a34dae",
   "metadata": {},
   "outputs": [],
   "source": [
    "config_name = os.path.realpath('verif_config.yml')\n",
    "\n",
    "with open(config_name, 'r') as stream:\n",
    "    conf = yaml.safe_load(stream)"
   ]
  },
  {
   "cell_type": "code",
   "execution_count": 5,
   "id": "b4563bda-c954-46e3-b0d3-c52e91465af7",
   "metadata": {},
   "outputs": [],
   "source": [
    "model_name = 'fuxi_dry'\n",
    "lead_range = conf[model_name]['lead_range']\n",
    "verif_lead = [240,]\n",
    "leads_exist = list(np.arange(lead_range[0], lead_range[-1]+lead_range[0], lead_range[0]))\n",
    "ind_lead = vu.lead_to_index(leads_exist, verif_lead)"
   ]
  },
  {
   "cell_type": "code",
   "execution_count": 6,
   "id": "78708828-93ce-4ac9-80dd-5f9b40cd80a4",
   "metadata": {},
   "outputs": [],
   "source": [
    "verif_ind_start = 0; verif_ind_end = 3\n",
    "\n",
    "path_verif = conf[model_name]['save_loc_verif']+'combined_rmse_spatial_{:04d}_{:04d}_{:03d}h_{}.nc'.format(\n",
    "    verif_ind_start, verif_ind_end, verif_lead[-1], model_name)"
   ]
  },
  {
   "cell_type": "markdown",
   "id": "7bbb12c4-f60e-4398-adde-bfb7367c544d",
   "metadata": {},
   "source": [
    "## Verification setup"
   ]
  },
  {
   "cell_type": "code",
   "execution_count": 7,
   "id": "5d9d3246-64ea-497c-aeb2-9702b62fe591",
   "metadata": {},
   "outputs": [],
   "source": [
    "# ---------------------------------------------------------------------------------------- #\n",
    "# ERA5 verif target\n",
    "filename_ERA5 = sorted(glob(conf['ERA5_ours']['save_loc']))\n",
    "\n",
    "# pick years\n",
    "year_range = conf['ERA5_ours']['year_range']\n",
    "years_pick = np.arange(year_range[0], year_range[1]+1, 1).astype(str)\n",
    "filename_ERA5 = [fn for fn in filename_ERA5 if any(year in fn for year in years_pick)]\n",
    "\n",
    "# merge yearly ERA5 as one\n",
    "ds_ERA5 = [vu.get_forward_data(fn) for fn in filename_ERA5]\n",
    "ds_ERA5_merge = xr.concat(ds_ERA5, dim='time')\n",
    "\n",
    "# ---------------------------------------------------------------------------------------- #\n",
    "# forecast\n",
    "filename_OURS = sorted(glob(conf[model_name]['save_loc_gather']+'*.nc'))\n",
    "\n",
    "# pick years\n",
    "year_range = conf[model_name]['year_range']\n",
    "years_pick = np.arange(year_range[0], year_range[1]+1, 1).astype(str)\n",
    "filename_OURS = [fn for fn in filename_OURS if any(year in fn for year in years_pick)]\n",
    "\n",
    "L_max = len(filename_OURS)\n",
    "assert verif_ind_end <= L_max, 'verified indices (days) exceeds the max index available'\n",
    "\n",
    "filename_OURS = filename_OURS[verif_ind_start:verif_ind_end]\n"
   ]
  },
  {
   "cell_type": "code",
   "execution_count": 8,
   "id": "62b53182-2b2e-40f3-b265-0a250e7d0246",
   "metadata": {},
   "outputs": [],
   "source": [
    "# ---------------------------------------------------------------------------------------- #\n",
    "# RMSE compute\n",
    "verif_results = []\n",
    "\n",
    "for fn_ours in filename_OURS:\n",
    "    ds_ours = xr.open_dataset(fn_ours)\n",
    "    ds_ours = ds_ours.isel(time=ind_lead)\n",
    "    ds_ours = ds_ours.compute()\n",
    "    \n",
    "    ds_target = ds_ERA5_merge.sel(time=ds_ours['time']).compute()\n",
    "\n",
    "    ds_ours['level'] = ds_target['level']\n",
    "    \n",
    "    # RMSE with latitude-based cosine weighting (check w_lat)\n",
    "    RMSE = np.sqrt((ds_ours - ds_target)**2)\n",
    "    \n",
    "    verif_results.append(RMSE.drop_vars('time'))\n",
    "    \n",
    "# Combine verif results\n",
    "ds_verif = xr.concat(verif_results, dim='days')\n",
    "\n",
    "# Save the combined dataset\n",
    "# print('Save to {}'.format(path_verif))\n",
    "# ds_verif.to_netcdf(path_verif, mode='w')"
   ]
  },
  {
   "cell_type": "code",
   "execution_count": null,
   "id": "56ad3c87-b56c-4eaf-87db-527f4bf9ead3",
   "metadata": {},
   "outputs": [],
   "source": []
  }
 ],
 "metadata": {
  "kernelspec": {
   "display_name": "Python 3 (ipykernel)",
   "language": "python",
   "name": "python3"
  },
  "language_info": {
   "codemirror_mode": {
    "name": "ipython",
    "version": 3
   },
   "file_extension": ".py",
   "mimetype": "text/x-python",
   "name": "python",
   "nbconvert_exporter": "python",
   "pygments_lexer": "ipython3",
   "version": "3.11.9"
  }
 },
 "nbformat": 4,
 "nbformat_minor": 5
}
