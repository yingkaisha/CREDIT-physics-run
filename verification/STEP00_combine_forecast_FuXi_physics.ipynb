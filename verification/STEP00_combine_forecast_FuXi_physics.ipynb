{
 "cells": [
  {
   "cell_type": "markdown",
   "id": "c299464f-36e8-4536-aa51-b421eb7b5fe5",
   "metadata": {},
   "source": [
    "# Combining forecast files on lead time dimension "
   ]
  },
  {
   "cell_type": "code",
   "execution_count": 1,
   "id": "399abbd9-da47-4728-82a4-2c52c89273f4",
   "metadata": {},
   "outputs": [],
   "source": [
    "import os\n",
    "import sys\n",
    "import yaml\n",
    "from glob import glob\n",
    "from datetime import datetime\n",
    "\n",
    "import numpy as np\n",
    "import xarray as xr\n",
    "\n",
    "from concurrent.futures import ThreadPoolExecutor\n",
    "\n",
    "import warnings\n",
    "warnings.filterwarnings('ignore')"
   ]
  },
  {
   "cell_type": "code",
   "execution_count": 2,
   "id": "7634dd59-cec9-4609-826a-a7f3b8463a8b",
   "metadata": {},
   "outputs": [],
   "source": [
    "sys.path.insert(0, os.path.realpath('../libs/'))\n",
    "import verif_utils as vu"
   ]
  },
  {
   "cell_type": "code",
   "execution_count": 3,
   "id": "43fbba18-3576-4618-bd22-2528364427f9",
   "metadata": {},
   "outputs": [],
   "source": [
    "config_name = os.path.realpath('verif_config.yml')\n",
    "\n",
    "with open(config_name, 'r') as stream:\n",
    "    conf = yaml.safe_load(stream)"
   ]
  },
  {
   "cell_type": "code",
   "execution_count": 4,
   "id": "b0307a7a-15eb-49e7-9962-d347fef0a3fd",
   "metadata": {},
   "outputs": [],
   "source": [
    "model_name = 'fuxi_physics'"
   ]
  },
  {
   "cell_type": "code",
   "execution_count": 5,
   "id": "bcfd137f-b0a1-4043-945e-b91602b1fb9c",
   "metadata": {},
   "outputs": [],
   "source": [
    "variables_levels = None #conf[model_name]['verif_variables']\n",
    "base_dir = conf[model_name]['save_loc_rollout']\n",
    "output_dir = conf[model_name]['save_loc_gather']\n",
    "time_intervals = None\n",
    "\n",
    "# Get list of nc files\n",
    "all_files_list = vu.get_nc_files(base_dir)"
   ]
  },
  {
   "cell_type": "code",
   "execution_count": 6,
   "id": "4e2e28d4-f67c-4563-96ed-757ff4598b78",
   "metadata": {},
   "outputs": [
    {
     "data": {
      "text/plain": [
       "1536"
      ]
     },
     "execution_count": 6,
     "metadata": {},
     "output_type": "execute_result"
    }
   ],
   "source": [
    "len(all_files_list) # <-- all files; it goes beyond 2020, may need a year filter"
   ]
  },
  {
   "cell_type": "markdown",
   "id": "135e13e2-b3ef-4dc3-859f-538b3654f4da",
   "metadata": {},
   "source": [
    "## Scenario: combine on a range of initializations"
   ]
  },
  {
   "cell_type": "code",
   "execution_count": 8,
   "id": "5ac2035b-f326-46d3-9952-dc539f66e484",
   "metadata": {
    "scrolled": true
   },
   "outputs": [],
   "source": [
    "# ind_start = 0\n",
    "# ind_end = 2*(365+366)\n",
    "\n",
    "# flag_overall = False\n",
    "\n",
    "# while flag_overall is False:\n",
    "    \n",
    "#     flag_overall = True\n",
    "#     for i in range(ind_start, ind_end):\n",
    "#         # True: process can pass\n",
    "#         flag = vu.process_file_group(all_files_list[i], output_dir, variables_levels, size_thres=0)\n",
    "\n",
    "#         flag_overall = flag_overall and flag"
   ]
  },
  {
   "cell_type": "code",
   "execution_count": null,
   "id": "e5ac6c4f-6829-4dee-8b93-5499c28a4ed5",
   "metadata": {},
   "outputs": [],
   "source": []
  },
  {
   "cell_type": "code",
   "execution_count": null,
   "id": "e8bfb2a9-18cb-4778-a905-ef72f181b963",
   "metadata": {},
   "outputs": [],
   "source": []
  }
 ],
 "metadata": {
  "kernelspec": {
   "display_name": "Python 3 (ipykernel)",
   "language": "python",
   "name": "python3"
  },
  "language_info": {
   "codemirror_mode": {
    "name": "ipython",
    "version": 3
   },
   "file_extension": ".py",
   "mimetype": "text/x-python",
   "name": "python",
   "nbconvert_exporter": "python",
   "pygments_lexer": "ipython3",
   "version": "3.11.9"
  }
 },
 "nbformat": 4,
 "nbformat_minor": 5
}
