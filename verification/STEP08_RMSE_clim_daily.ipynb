{
 "cells": [
  {
   "cell_type": "code",
   "execution_count": 17,
   "id": "13a8e72d-474f-4504-98eb-1fd4b01d6c61",
   "metadata": {},
   "outputs": [],
   "source": [
    "import os\n",
    "import sys\n",
    "import yaml\n",
    "from glob import glob\n",
    "from datetime import datetime, timedelta\n",
    "\n",
    "import numpy as np\n",
    "import xarray as xr\n",
    "import pandas as pd"
   ]
  },
  {
   "cell_type": "code",
   "execution_count": 2,
   "id": "c91becdc-cd3b-45f2-b614-759234e3bfa2",
   "metadata": {},
   "outputs": [],
   "source": [
    "import matplotlib.pyplot as plt\n",
    "%matplotlib inline"
   ]
  },
  {
   "cell_type": "code",
   "execution_count": 3,
   "id": "ad421aa5-6c2a-40db-ab00-1a003d0da526",
   "metadata": {},
   "outputs": [],
   "source": [
    "sys.path.insert(0, os.path.realpath('../libs/'))\n",
    "import verif_utils as vu"
   ]
  },
  {
   "cell_type": "code",
   "execution_count": 4,
   "id": "f232d077-7583-4f6c-a666-b0fc95726f60",
   "metadata": {},
   "outputs": [],
   "source": [
    "config_name = os.path.realpath('verif_config.yml')\n",
    "\n",
    "with open(config_name, 'r') as stream:\n",
    "    conf = yaml.safe_load(stream)"
   ]
  },
  {
   "cell_type": "code",
   "execution_count": 18,
   "id": "6560aff6-6da7-4637-a5d0-6b7a8db7f9cd",
   "metadata": {},
   "outputs": [],
   "source": [
    "def map_hour_to_clim_hour(clim_hours, hour):\n",
    "    if hour in clim_hours:\n",
    "        ind = np.where(clim_hours == hour)[0][0]\n",
    "        return ind\n",
    "    else:\n",
    "        print('Verification target and climatology reference have different time resolutions')\n",
    "        raise;\n",
    "        return -1\n",
    "\n",
    "def accum_6h_24h(ds_ours, ini=0, copy=True):\n",
    "    h_shift = ini + 6\n",
    "    h_convert_ending_time = 24 + ini\n",
    "    \n",
    "    if copy:\n",
    "        ds_ours_shift = ds_ours.copy(deep=True)\n",
    "        # convert to start time to work with xarray resample\n",
    "        ds_ours_shift['time'] = ds_ours_shift['time'] - pd.Timedelta(hours=h_shift)\n",
    "        # accumulate\n",
    "        ds_ours_24h = ds_ours_shift.resample(time='24h').sum()\n",
    "    else:\n",
    "        ds_ours['time'] = ds_ours['time'] - pd.Timedelta(hours=h_shift)\n",
    "        ds_ours_24h = ds_ours.resample(time='24h').sum()\n",
    "        \n",
    "    ds_ours_24h['time'] = ds_ours_24h['time'] + pd.Timedelta(hours=h_convert_ending_time)\n",
    "    \n",
    "    return ds_ours_24h"
   ]
  },
  {
   "cell_type": "markdown",
   "id": "b386e9ff-6f6b-4ed3-88b8-696b53bc19f2",
   "metadata": {},
   "source": [
    "### Weatherbench2 to ours mapping"
   ]
  },
  {
   "cell_type": "code",
   "execution_count": 6,
   "id": "6de06f2f-6fb7-4443-bb64-73f539fb05ab",
   "metadata": {},
   "outputs": [],
   "source": [
    "variable_levels = {\n",
    "    'surface_net_solar_radiation': None,\n",
    "    'surface_net_thermal_radiation': None,\n",
    "    'surface_sensible_heat_flux': None,\n",
    "    'surface_latent_heat_flux': None,\n",
    "    'top_net_solar_radiation': None,\n",
    "    'top_net_thermal_radiation': None,\n",
    "}\n",
    "\n",
    "# variable_levels_clim = {\n",
    "#     'mean_surface_net_short_wave_radiation_flux': None,\n",
    "#     'mean_surface_net_long_wave_radiation_flux': None,\n",
    "#     'mean_surface_sensible_heat_flux': None,\n",
    "#     'mean_surface_latent_heat_flux': None,\n",
    "#     'mean_top_net_short_wave_radiation_flux': None,\n",
    "#     'mean_top_net_long_wave_radiation_flux': None,\n",
    "# }\n",
    "\n",
    "# rename_IFS_to_ERA5 = {\n",
    "#     'mean_surface_net_short_wave_radiation_flux': 'surface_net_solar_radiation',\n",
    "#     'mean_surface_net_long_wave_radiation_flux': 'surface_net_thermal_radiation',\n",
    "#     'mean_surface_sensible_heat_flux': 'surface_sensible_heat_flux',\n",
    "#     'mean_surface_latent_heat_flux': 'surface_latent_heat_flux',\n",
    "#     'mean_top_net_short_wave_radiation_flux': 'top_net_solar_radiation',\n",
    "#     'mean_top_net_long_wave_radiation_flux': 'top_net_thermal_radiation',\n",
    "# }"
   ]
  },
  {
   "cell_type": "markdown",
   "id": "cf3e9210-4c3e-4931-9cb6-1ec264da7d46",
   "metadata": {},
   "source": [
    "### ERA5 verif target"
   ]
  },
  {
   "cell_type": "code",
   "execution_count": 7,
   "id": "3d4d1aad-df19-4fdd-9e89-22d41f07f921",
   "metadata": {},
   "outputs": [],
   "source": [
    "# ---------------------------------------------------------------------------------------- #\n",
    "# ERA5 verif target\n",
    "filename_ERA5 = sorted(glob(conf['ERA5_ours']['save_loc']))\n",
    "\n",
    "# pick years\n",
    "year_range = conf['ERA5_ours']['year_range']\n",
    "years_pick = np.arange(year_range[0], year_range[1]+1, 1).astype(str)\n",
    "filename_ERA5 = [fn for fn in filename_ERA5 if any(year in fn for year in years_pick)]\n",
    "\n",
    "# merge yearly ERA5 as one\n",
    "ds_ERA5 = [vu.get_forward_data(fn) for fn in filename_ERA5]\n",
    "ds_ERA5_merge = xr.concat(ds_ERA5, dim='time')\n",
    "\n",
    "ds_ERA5_merge = vu.ds_subset_everything(ds_ERA5_merge, variable_levels)\n",
    "\n",
    "# latitude weighting\n",
    "lat = xr.open_zarr(filename_ERA5[0])[\"latitude\"]\n",
    "w_lat = np.cos(np.deg2rad(lat))\n",
    "w_lat = w_lat / w_lat.mean()"
   ]
  },
  {
   "cell_type": "code",
   "execution_count": 19,
   "id": "acc9604b-66c1-4080-8dac-bc4763ebbbe1",
   "metadata": {},
   "outputs": [],
   "source": [
    "ds_ERA5_merge_24h = accum_6h_24h(ds_ERA5_merge, copy=False)"
   ]
  },
  {
   "cell_type": "markdown",
   "id": "55d529f8-a957-438f-b97a-109adb14e2a4",
   "metadata": {},
   "source": [
    "### ERA5 clim"
   ]
  },
  {
   "cell_type": "code",
   "execution_count": 26,
   "id": "d830bc7b-fefb-470e-a4d5-85f8579a7f87",
   "metadata": {},
   "outputs": [],
   "source": [
    "# ERA5_clim = xr.open_dataset(conf['ERA5_weatherbench']['save_loc_clim']+'ERA5_clim_1990_2019_6h_1deg_interp.nc')\n",
    "# ERA5_clim = vu.ds_subset_everything(ERA5_clim, variable_levels_clim)\n",
    "ERA5_clim = xr.open_dataset(conf['ERA5_weatherbench']['save_loc_clim']+'ERA5_clim_1990_2019_daily_1deg_interp.nc')"
   ]
  },
  {
   "cell_type": "markdown",
   "id": "a6e41f34-7406-496b-9332-c1a49433fb3d",
   "metadata": {},
   "source": [
    "### RMSE from clim"
   ]
  },
  {
   "cell_type": "code",
   "execution_count": 27,
   "id": "295b594b-57e9-4a2a-92b9-547a88a6c75a",
   "metadata": {},
   "outputs": [],
   "source": [
    "varname_verif = list(ds_ERA5_merge.keys())"
   ]
  },
  {
   "cell_type": "code",
   "execution_count": 28,
   "id": "e95bc642-34e6-4120-814b-3901f722a5bf",
   "metadata": {},
   "outputs": [],
   "source": [
    "# ======================================================================================== #\n",
    "# RMSE computation\n",
    "rmse_dict = {}\n",
    "\n",
    "for varname in varname_verif:\n",
    "    var_analysis = ds_ERA5_merge_24h[varname]\n",
    "    var_clim = ERA5_clim[varname]\n",
    "    var_rmse = np.sqrt((w_lat* (var_clim - var_analysis)**2).mean(['latitude', 'longitude']))\n",
    "    rmse_dict[varname] = var_rmse\n",
    "\n",
    "rmse_dataset = xr.Dataset(rmse_dict)"
   ]
  },
  {
   "cell_type": "code",
   "execution_count": 30,
   "id": "5e5d5f28-47a9-43a2-9094-d58e51f4cfb3",
   "metadata": {},
   "outputs": [],
   "source": [
    "path_verif = conf['ERA5_weatherbench']['save_loc_clim']+'combined_rmse_clim_2020_2022_daily_1deg.nc'\n",
    "# rmse_dataset.to_netcdf(path_verif, compute=True, format='NETCDF4')"
   ]
  },
  {
   "cell_type": "code",
   "execution_count": 24,
   "id": "02c06724-fe3c-4eff-a07f-47f977b637b2",
   "metadata": {},
   "outputs": [
    {
     "data": {
      "text/plain": [
       "'/glade/campaign/cisl/aiml/ksha/CREDIT_physics/VERIF/ERA5_clim/combined_rmse_clim_2020_2022_daily_1deg.nc'"
      ]
     },
     "execution_count": 24,
     "metadata": {},
     "output_type": "execute_result"
    }
   ],
   "source": [
    "conf['ERA5_weatherbench']['save_loc_clim']+'combined_rmse_clim_2020_2022_daily_1deg.nc'"
   ]
  },
  {
   "cell_type": "code",
   "execution_count": 62,
   "id": "47acbc06-20d5-4a9b-894f-6993eba5dc2a",
   "metadata": {},
   "outputs": [],
   "source": [
    "# chunk_size_clim = {'dayofyear': 1, 'hour': 1, 'latitude': 640, 'longitude': 1280}\n",
    "# chunk_size_ERA5 = {'time': 1, 'latitude': 640, 'longitude': 1280}\n",
    "\n",
    "# # get data in chunked version\n",
    "# ds_actual = ds_ERA5_merge.chunk(chunk_size_ERA5)\n",
    "# ds_clim = ERA5_clim.chunk(chunk_size_clim)\n",
    "\n",
    "# # ======================================================================================== #\n",
    "# # for ds_actual, convert its 'time' dimension to 'dayofyear' and 'hour'\n",
    "\n",
    "# # extract 'dayofyear' and 'hour' from actual data\n",
    "# dayofyear_da = ds_actual['time'].dt.dayofyear\n",
    "# hour_da = ds_actual['time'].dt.hour\n",
    "\n",
    "# # map actual hours to the corresponding climatology hour\n",
    "# clim_hours = ds_clim['hour'].values\n",
    "# mapped_hours = np.array([map_hour_to_clim_hour(clim_hours, h) for h in hour_da.values])\n",
    "\n",
    "# # create xr.DataArrays to hold dayofyear and mapped hours\n",
    "# dayofyear_da = xr.DataArray(dayofyear_da.values, dims='time', coords={'time': ds_actual['time']})\n",
    "# mapped_hours_da = xr.DataArray(mapped_hours, dims='time', coords={'time': ds_actual['time']})\n",
    "\n",
    "# # ======================================================================================== #\n",
    "# # for ds_clim, identify its indices that matches with ds_actual on 'dayofyear' and 'hour'\n",
    "\n",
    "# # get indices of ds_actual from climatology data\n",
    "# clim_dayofyear_index = ds_clim.get_index('dayofyear')\n",
    "\n",
    "# ds_clim['hour'] = np.array([0, 1, 2, 3]) # <----- convert actual hour values to hour indeices\n",
    "# clim_hour_index = ds_clim.get_index('hour')\n",
    "\n",
    "# dayofyear_indices = clim_dayofyear_index.get_indexer(dayofyear_da.values)\n",
    "# hour_indices = clim_hour_index.get_indexer(mapped_hours_da.values)\n",
    "\n",
    "# # check for unmatched indices\n",
    "# if np.any(dayofyear_indices == -1):\n",
    "#     raise ValueError(\"Some 'dayofyear' values not found in climatology data\")\n",
    "# if np.any(hour_indices == -1):\n",
    "#     raise ValueError(\"Some 'hour' values not found in climatology data\")\n",
    "\n",
    "# # create xr.DataArrays for indices from ds_actual to ds_clim\n",
    "# dayofyear_indices_da = xr.DataArray(dayofyear_indices, dims='time', coords={'time': ds_actual['time']})\n",
    "# hour_indices_da = xr.DataArray(hour_indices, dims='time', coords={'time': ds_actual['time']})\n",
    "\n",
    "# # ======================================================================================== #\n",
    "# # boradcast ds_clim to the size of ds_actual with matched 'dayofyear' and 'hour'\n",
    "# clim_matched = ds_clim.isel(dayofyear=dayofyear_indices_da, hour=hour_indices_da)\n",
    "\n",
    "# # ======================================================================================== #\n",
    "# # RMSE computation\n",
    "# rmse_dict = {}\n",
    "\n",
    "# for varname in varname_verif:\n",
    "#     var_analysis = ds_ERA5_merge[varname]\n",
    "#     var_clim = clim_matched[varname]\n",
    "#     var_rmse = np.sqrt((w_lat* (var_clim - var_analysis)**2).mean(['latitude', 'longitude']))\n",
    "#     rmse_dict[varname] = var_rmse\n",
    "\n",
    "# rmse_dataset = xr.Dataset(rmse_dict)"
   ]
  },
  {
   "cell_type": "markdown",
   "id": "8e419125-f8bd-4ba2-8e36-c55ac05d98a9",
   "metadata": {},
   "source": [
    "**GPH RMSE**"
   ]
  },
  {
   "cell_type": "code",
   "execution_count": 65,
   "id": "70105ae2-cc46-467c-9b50-3b3f24756920",
   "metadata": {},
   "outputs": [
    {
     "data": {
      "text/plain": [
       "array([1225.0531 , 1020.5859 , 1086.869  , 1136.2949 , 1109.3829 ,\n",
       "        959.7517 ,  815.8004 ,  705.2293 ,  625.3326 ,  559.9109 ,\n",
       "        557.0431 ,  568.50244], dtype=float32)"
      ]
     },
     "execution_count": 65,
     "metadata": {},
     "output_type": "execute_result"
    }
   ],
   "source": [
    "rmse_dataset['Z'].mean(dim='time').values"
   ]
  },
  {
   "cell_type": "markdown",
   "id": "f952dcc7-356c-40e2-a175-c0b681dbd6f6",
   "metadata": {},
   "source": [
    "**Save**"
   ]
  },
  {
   "cell_type": "code",
   "execution_count": 66,
   "id": "0fca203d-feb6-4e21-a69b-efaa51958849",
   "metadata": {},
   "outputs": [],
   "source": [
    "path_verif = conf['ERA5_weatherbench']['save_loc_clim']+'combined_rmse_clim_2020_2022_6h_1deg.nc'\n",
    "# rmse_dataset.to_netcdf(path_verif, compute=True, format='NETCDF4')"
   ]
  },
  {
   "cell_type": "code",
   "execution_count": null,
   "id": "d307d01c-0b4b-457c-a97e-3212703cc3ae",
   "metadata": {},
   "outputs": [],
   "source": []
  }
 ],
 "metadata": {
  "kernelspec": {
   "display_name": "Python 3 (ipykernel)",
   "language": "python",
   "name": "python3"
  },
  "language_info": {
   "codemirror_mode": {
    "name": "ipython",
    "version": 3
   },
   "file_extension": ".py",
   "mimetype": "text/x-python",
   "name": "python",
   "nbconvert_exporter": "python",
   "pygments_lexer": "ipython3",
   "version": "3.11.9"
  }
 },
 "nbformat": 4,
 "nbformat_minor": 5
}
