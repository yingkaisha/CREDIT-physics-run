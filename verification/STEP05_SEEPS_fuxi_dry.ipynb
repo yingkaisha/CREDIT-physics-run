{
 "cells": [
  {
   "cell_type": "markdown",
   "id": "ac814c7e-dee1-4b45-9239-8d9cd98b9ada",
   "metadata": {},
   "source": [
    "# SEEPS"
   ]
  },
  {
   "cell_type": "code",
   "execution_count": 1,
   "id": "8deb4be5-9191-4fb6-afb1-9b6c2351f719",
   "metadata": {},
   "outputs": [],
   "source": [
    "import os\n",
    "import sys\n",
    "import yaml\n",
    "from glob import glob\n",
    "from datetime import datetime, timedelta\n",
    "\n",
    "import numpy as np\n",
    "import xarray as xr\n",
    "import pandas as pd"
   ]
  },
  {
   "cell_type": "code",
   "execution_count": 2,
   "id": "cbb5d545-cc77-464d-9704-173ea0a307c0",
   "metadata": {},
   "outputs": [],
   "source": [
    "import matplotlib.pyplot as plt\n",
    "%matplotlib inline"
   ]
  },
  {
   "cell_type": "code",
   "execution_count": 3,
   "id": "4f276d5d-e0b9-4639-911f-44566f18e248",
   "metadata": {},
   "outputs": [],
   "source": [
    "sys.path.insert(0, os.path.realpath('../libs/'))\n",
    "import verif_utils as vu\n",
    "import seeps_utils as seeps"
   ]
  },
  {
   "cell_type": "code",
   "execution_count": 4,
   "id": "04614252-cb60-44ef-afa4-3732f1a34dae",
   "metadata": {},
   "outputs": [],
   "source": [
    "config_name = os.path.realpath('verif_config.yml')\n",
    "\n",
    "with open(config_name, 'r') as stream:\n",
    "    conf = yaml.safe_load(stream)"
   ]
  },
  {
   "cell_type": "code",
   "execution_count": 5,
   "id": "9df393c4-af29-4ef1-857c-403bd2342dcb",
   "metadata": {},
   "outputs": [
    {
     "name": "stdout",
     "output_type": "stream",
     "text": [
      "Verifying lead times: [6, 12, 18, 24, 30, 36, 42, 48, 54, 60, 66, 72, 78, 84, 90, 96, 102, 108, 114, 120, 126, 132, 138, 144, 150, 156, 162, 168, 174, 180, 186, 192, 198, 204, 210, 216, 222, 228, 234, 240, 246, 252, 258, 264, 270, 276, 282, 288, 294, 300, 306, 312, 318, 324, 330, 336, 342, 348, 354, 360]\n",
      "Verifying lead indices: [0, 1, 2, 3, 4, 5, 6, 7, 8, 9, 10, 11, 12, 13, 14, 15, 16, 17, 18, 19, 20, 21, 22, 23, 24, 25, 26, 27, 28, 29, 30, 31, 32, 33, 34, 35, 36, 37, 38, 39, 40, 41, 42, 43, 44, 45, 46, 47, 48, 49, 50, 51, 52, 53, 54, 55, 56, 57, 58, 59]\n"
     ]
    }
   ],
   "source": [
    "model_name = 'fuxi_dry'\n",
    "lead_range = conf[model_name]['lead_range']\n",
    "verif_lead_range = conf[model_name]['verif_lead_range']\n",
    "\n",
    "leads_exist = list(np.arange(lead_range[0], lead_range[-1]+lead_range[0], lead_range[0]))\n",
    "leads_verif = list(np.arange(verif_lead_range[0], verif_lead_range[-1]+verif_lead_range[0], verif_lead_range[0]))\n",
    "ind_lead = vu.lead_to_index(leads_exist, leads_verif)\n",
    "\n",
    "print('Verifying lead times: {}'.format(leads_verif))\n",
    "print('Verifying lead indices: {}'.format(ind_lead))"
   ]
  },
  {
   "cell_type": "code",
   "execution_count": 6,
   "id": "78708828-93ce-4ac9-80dd-5f9b40cd80a4",
   "metadata": {},
   "outputs": [],
   "source": [
    "verif_ind_start = 0; verif_ind_end = 3\n",
    "path_verif = conf[model_name]['save_loc_verif']+'combined_SEEPS_{:04d}_{:04d}_{:03d}h_{:03d}h_{}.nc'.format(\n",
    "    verif_ind_start, verif_ind_end, verif_lead_range[0], verif_lead_range[-1], model_name)"
   ]
  },
  {
   "cell_type": "markdown",
   "id": "7bbb12c4-f60e-4398-adde-bfb7367c544d",
   "metadata": {},
   "source": [
    "## Verification setup"
   ]
  },
  {
   "cell_type": "code",
   "execution_count": 7,
   "id": "88345923-03bf-44dd-ba60-d88be35010ca",
   "metadata": {},
   "outputs": [],
   "source": [
    "ds_clim = xr.open_dataset(\n",
    "    '/glade/campaign/cisl/aiml/ksha/CREDIT_physics/VERIF/ERA5_clim/ERA5_clim_1990_2019_SEEPS.nc'\n",
    ")\n",
    "\n",
    "seeps_calc = seeps.SpatialSEEPS(climatology=ds_clim, precip_name='total_precipitation')"
   ]
  },
  {
   "cell_type": "code",
   "execution_count": 8,
   "id": "5d9d3246-64ea-497c-aeb2-9702b62fe591",
   "metadata": {},
   "outputs": [],
   "source": [
    "# ---------------------------------------------------------------------------------------- #\n",
    "# ERA5 verif target\n",
    "filename_ERA5 = sorted(glob(conf['ERA5_ours']['save_loc']))\n",
    "\n",
    "# pick years\n",
    "year_range = conf['ERA5_ours']['year_range']\n",
    "years_pick = np.arange(year_range[0], year_range[1]+1, 1).astype(str)\n",
    "filename_ERA5 = [fn for fn in filename_ERA5 if any(year in fn for year in years_pick)]\n",
    "\n",
    "# merge yearly ERA5 as one\n",
    "ds_ERA5 = [vu.get_forward_data(fn) for fn in filename_ERA5]\n",
    "ds_ERA5_merge = xr.concat(ds_ERA5, dim='time')\n",
    "\n",
    "# ---------------------------------------------------------------------------------------- #\n",
    "# forecast\n",
    "filename_OURS = sorted(glob(conf[model_name]['save_loc_gather']+'*.nc'))\n",
    "\n",
    "# pick years\n",
    "year_range = conf[model_name]['year_range']\n",
    "years_pick = np.arange(year_range[0], year_range[1]+1, 1).astype(str)\n",
    "filename_OURS = [fn for fn in filename_OURS if any(year in fn for year in years_pick)]\n",
    "# filename_OURS = [fn for fn in filename_OURS if '00Z' in fn]\n",
    "\n",
    "L_max = len(filename_OURS)\n",
    "assert verif_ind_end <= L_max, 'verified indices (days) exceeds the max index available'\n",
    "\n",
    "filename_OURS = filename_OURS[verif_ind_start:verif_ind_end]\n",
    "\n",
    "# latitude weighting\n",
    "lat = xr.open_dataset(filename_OURS[0])[\"latitude\"]\n",
    "w_lat = np.cos(np.deg2rad(lat))\n",
    "w_lat = w_lat / w_lat.mean()"
   ]
  },
  {
   "cell_type": "code",
   "execution_count": 9,
   "id": "73e1a96d-b962-4d71-a740-cb48bc1c9a3c",
   "metadata": {},
   "outputs": [],
   "source": [
    "variable_levels = {\n",
    "    'total_precipitation': None,\n",
    "}"
   ]
  },
  {
   "cell_type": "code",
   "execution_count": 12,
   "id": "62b53182-2b2e-40f3-b265-0a250e7d0246",
   "metadata": {},
   "outputs": [],
   "source": [
    "# ---------------------------------------------------------------------------------------- #\n",
    "# RMSE compute\n",
    "verif_results = []\n",
    "\n",
    "for fn_ours in filename_OURS:\n",
    "    # detect 00Z vs 12Z\n",
    "    ini = int(fn_ours[-6:-4])\n",
    "    \n",
    "    ds_ours = xr.open_dataset(fn_ours)\n",
    "    ds_ours = ds_ours.isel(time=ind_lead)\n",
    "    ds_ours = vu.ds_subset_everything(ds_ours, variable_levels)\n",
    "    \n",
    "    # ------------------------------------------- #\n",
    "    # convert neg precip to 0 before accumulation \n",
    "    ds_ours['total_precipitation'] = xr.where(\n",
    "        ds_ours['total_precipitation'] < 0, 0, ds_ours['total_precipitation']\n",
    "    )\n",
    "    ds_ours_24h = vu.accum_6h_24h(ds_ours, ini)\n",
    "    ds_ours_24h = ds_ours_24h.compute()\n",
    "\n",
    "    ds_target = ds_ERA5_merge.sel(time=ds_ours['time'])\n",
    "    ds_target = vu.ds_subset_everything(ds_target, variable_levels)\n",
    "    ds_target_24h = vu.accum_6h_24h(ds_target, ini)\n",
    "    ds_target_24h = ds_target_24h.compute()\n",
    "    \n",
    "    # SEEPS\n",
    "    seeps_score = seeps_calc.compute_chunk(ds_ours_24h, ds_target_24h)\n",
    "    seeps_score_mean = (w_lat * seeps_score).mean(['latitude', 'longitude'])\n",
    "    \n",
    "    verif_results.append(seeps_score_mean.drop_vars('time'))\n",
    "    \n",
    "# Combine verif results\n",
    "ds_verif_24h = xr.concat(verif_results, dim='days')\n",
    "\n",
    "# # Save the combined dataset\n",
    "# print('Save to {}'.format(path_verif))\n",
    "# #ds_verif_24h.to_netcdf(path_verif)"
   ]
  },
  {
   "cell_type": "code",
   "execution_count": 17,
   "id": "81e7b971-249f-48cc-a0c7-17d99e7c9492",
   "metadata": {},
   "outputs": [
    {
     "data": {
      "text/plain": [
       "array([0.34444919, 0.38650722, 0.42557546, 0.47876387, 0.52635558,\n",
       "       0.57218271, 0.60417105, 0.62111797, 0.65624053, 0.69229021,\n",
       "       0.73458559, 0.76217784, 0.76773855, 0.78922674, 0.83668542])"
      ]
     },
     "execution_count": 17,
     "metadata": {},
     "output_type": "execute_result"
    }
   ],
   "source": [
    "ds_verif_24h['total_precipitation'].values.mean(axis=0)"
   ]
  },
  {
   "cell_type": "code",
   "execution_count": 15,
   "id": "c270725c-ea9e-4f9a-b46f-290014e249b2",
   "metadata": {},
   "outputs": [
    {
     "data": {
      "text/plain": [
       "[<matplotlib.lines.Line2D at 0x149318f07a50>]"
      ]
     },
     "execution_count": 15,
     "metadata": {},
     "output_type": "execute_result"
    },
    {
     "data": {
      "image/png": "[encoded data removed]",
      "text/plain": [
       "<Figure size 640x480 with 1 Axes>"
      ]
     },
     "metadata": {},
     "output_type": "display_data"
    }
   ],
   "source": [
    "plt.plot(1-ds_verif_24h['total_precipitation'].values.mean(axis=0))"
   ]
  },
  {
   "cell_type": "code",
   "execution_count": 12,
   "id": "2c2ca198-eb75-49ae-b379-e8b78d02e93e",
   "metadata": {},
   "outputs": [],
   "source": []
  },
  {
   "cell_type": "code",
   "execution_count": 13,
   "id": "9f8f9148-89c6-4dbb-ba9b-d7e996e02fc9",
   "metadata": {},
   "outputs": [],
   "source": []
  },
  {
   "cell_type": "code",
   "execution_count": 14,
   "id": "7176402a-1520-4ea0-b966-ff944dad498f",
   "metadata": {},
   "outputs": [
    {
     "data": {
      "text/plain": [
       "(15, 181, 360)"
      ]
     },
     "execution_count": 14,
     "metadata": {},
     "output_type": "execute_result"
    }
   ],
   "source": [
    "seeps_score['total_precipitation'].values.shape"
   ]
  },
  {
   "cell_type": "code",
   "execution_count": 17,
   "id": "a230dd68-a4c0-4cb7-9fa1-22835aff3f5c",
   "metadata": {},
   "outputs": [],
   "source": []
  },
  {
   "cell_type": "code",
   "execution_count": 20,
   "id": "325037f7-f66a-4294-adc4-071325967c83",
   "metadata": {},
   "outputs": [
    {
     "data": {
      "text/plain": [
       "[<matplotlib.lines.Line2D at 0x14db37f10d90>]"
      ]
     },
     "execution_count": 20,
     "metadata": {},
     "output_type": "execute_result"
    },
    {
     "data": {
      "image/png": "[encoded data removed]",
      "text/plain": [
       "<Figure size 640x480 with 1 Axes>"
      ]
     },
     "metadata": {},
     "output_type": "display_data"
    }
   ],
   "source": [
    "plt.plot(seeps_score_mean['total_precipitation'].values)"
   ]
  },
  {
   "cell_type": "code",
   "execution_count": null,
   "id": "639ce1d4-5707-4937-a7ee-10a0b0db30b7",
   "metadata": {},
   "outputs": [],
   "source": []
  },
  {
   "cell_type": "code",
   "execution_count": null,
   "id": "2c653cf2-d4a2-4927-8e54-c5076adcda74",
   "metadata": {},
   "outputs": [],
   "source": []
  },
  {
   "cell_type": "code",
   "execution_count": 15,
   "id": "d63a2d45-23d4-4709-a76c-4e4033730fe3",
   "metadata": {},
   "outputs": [
    {
     "data": {
      "text/plain": [
       "<matplotlib.colorbar.Colorbar at 0x14db37fa9410>"
      ]
     },
     "execution_count": 15,
     "metadata": {},
     "output_type": "execute_result"
    },
    {
     "data": {
      "image/png": "[encoded data removed]",
      "text/plain": [
       "<Figure size 640x480 with 2 Axes>"
      ]
     },
     "metadata": {},
     "output_type": "display_data"
    }
   ],
   "source": [
    "plt.pcolormesh(seeps_score['total_precipitation'].values[0, ...], vmin=0, vmax=5, cmap=plt.cm.jet)\n",
    "plt.colorbar()"
   ]
  },
  {
   "cell_type": "code",
   "execution_count": 27,
   "id": "ff404be3-6763-4f34-9b6d-839e5fa1608d",
   "metadata": {},
   "outputs": [
    {
     "data": {
      "text/html": [
       "<div><svg style=\"position: absolute; width: 0; height: 0; overflow: hidden\">\n",
       "<defs>\n",
       "<symbol id=\"icon-database\" viewBox=\"0 0 32 32\">\n",
       "<path d=\"M16 0c-8.837 0-16 2.239-16 5v4c0 2.761 7.163 5 16 5s16-2.239 16-5v-4c0-2.761-7.163-5-16-5z\"></path>\n",
       "<path d=\"M16 17c-8.837 0-16-2.239-16-5v6c0 2.761 7.163 5 16 5s16-2.239 16-5v-6c0 2.761-7.163 5-16 5z\"></path>\n",
       "<path d=\"M16 26c-8.837 0-16-2.239-16-5v6c0 2.761 7.163 5 16 5s16-2.239 16-5v-6c0 2.761-7.163 5-16 5z\"></path>\n",
       "</symbol>\n",
       "<symbol id=\"icon-file-text2\" viewBox=\"0 0 32 32\">\n",
       "<path d=\"M28.681 7.159c-0.694-0.947-1.662-2.053-2.724-3.116s-2.169-2.030-3.116-2.724c-1.612-1.182-2.393-1.319-2.841-1.319h-15.5c-1.378 0-2.5 1.121-2.5 2.5v27c0 1.378 1.122 2.5 2.5 2.5h23c1.378 0 2.5-1.122 2.5-2.5v-19.5c0-0.448-0.137-1.23-1.319-2.841zM24.543 5.457c0.959 0.959 1.712 1.825 2.268 2.543h-4.811v-4.811c0.718 0.556 1.584 1.309 2.543 2.268zM28 29.5c0 0.271-0.229 0.5-0.5 0.5h-23c-0.271 0-0.5-0.229-0.5-0.5v-27c0-0.271 0.229-0.5 0.5-0.5 0 0 15.499-0 15.5 0v7c0 0.552 0.448 1 1 1h7v19.5z\"></path>\n",
       "<path d=\"M23 26h-14c-0.552 0-1-0.448-1-1s0.448-1 1-1h14c0.552 0 1 0.448 1 1s-0.448 1-1 1z\"></path>\n",
       "<path d=\"M23 22h-14c-0.552 0-1-0.448-1-1s0.448-1 1-1h14c0.552 0 1 0.448 1 1s-0.448 1-1 1z\"></path>\n",
       "<path d=\"M23 18h-14c-0.552 0-1-0.448-1-1s0.448-1 1-1h14c0.552 0 1 0.448 1 1s-0.448 1-1 1z\"></path>\n",
       "</symbol>\n",
       "</defs>\n",
       "</svg>\n",
       "<style>/* CSS stylesheet for displaying xarray objects in jupyterlab.\n",
       " *\n",
       " */\n",
       "\n",
       ":root {\n",
       "  --xr-font-color0: var(--jp-content-font-color0, rgba(0, 0, 0, 1));\n",
       "  --xr-font-color2: var(--jp-content-font-color2, rgba(0, 0, 0, 0.54));\n",
       "  --xr-font-color3: var(--jp-content-font-color3, rgba(0, 0, 0, 0.38));\n",
       "  --xr-border-color: var(--jp-border-color2, #e0e0e0);\n",
       "  --xr-disabled-color: var(--jp-layout-color3, #bdbdbd);\n",
       "  --xr-background-color: var(--jp-layout-color0, white);\n",
       "  --xr-background-color-row-even: var(--jp-layout-color1, white);\n",
       "  --xr-background-color-row-odd: var(--jp-layout-color2, #eeeeee);\n",
       "}\n",
       "\n",
       "html[theme=dark],\n",
       "body[data-theme=dark],\n",
       "body.vscode-dark {\n",
       "  --xr-font-color0: rgba(255, 255, 255, 1);\n",
       "  --xr-font-color2: rgba(255, 255, 255, 0.54);\n",
       "  --xr-font-color3: rgba(255, 255, 255, 0.38);\n",
       "  --xr-border-color: #1F1F1F;\n",
       "  --xr-disabled-color: #515151;\n",
       "  --xr-background-color: #111111;\n",
       "  --xr-background-color-row-even: #111111;\n",
       "  --xr-background-color-row-odd: #313131;\n",
       "}\n",
       "\n",
       ".xr-wrap {\n",
       "  display: block !important;\n",
       "  min-width: 300px;\n",
       "  max-width: 700px;\n",
       "}\n",
       "\n",
       ".xr-text-repr-fallback {\n",
       "  /* fallback to plain text repr when CSS is not injected (untrusted notebook) */\n",
       "  display: none;\n",
       "}\n",
       "\n",
       ".xr-header {\n",
       "  padding-top: 6px;\n",
       "  padding-bottom: 6px;\n",
       "  margin-bottom: 4px;\n",
       "  border-bottom: solid 1px var(--xr-border-color);\n",
       "}\n",
       "\n",
       ".xr-header > div,\n",
       ".xr-header > ul {\n",
       "  display: inline;\n",
       "  margin-top: 0;\n",
       "  margin-bottom: 0;\n",
       "}\n",
       "\n",
       ".xr-obj-type,\n",
       ".xr-array-name {\n",
       "  margin-left: 2px;\n",
       "  margin-right: 10px;\n",
       "}\n",
       "\n",
       ".xr-obj-type {\n",
       "  color: var(--xr-font-color2);\n",
       "}\n",
       "\n",
       ".xr-sections {\n",
       "  padding-left: 0 !important;\n",
       "  display: grid;\n",
       "  grid-template-columns: 150px auto auto 1fr 20px 20px;\n",
       "}\n",
       "\n",
       ".xr-section-item {\n",
       "  display: contents;\n",
       "}\n",
       "\n",
       ".xr-section-item input {\n",
       "  display: none;\n",
       "}\n",
       "\n",
       ".xr-section-item input + label {\n",
       "  color: var(--xr-disabled-color);\n",
       "}\n",
       "\n",
       ".xr-section-item input:enabled + label {\n",
       "  cursor: pointer;\n",
       "  color: var(--xr-font-color2);\n",
       "}\n",
       "\n",
       ".xr-section-item input:enabled + label:hover {\n",
       "  color: var(--xr-font-color0);\n",
       "}\n",
       "\n",
       ".xr-section-summary {\n",
       "  grid-column: 1;\n",
       "  color: var(--xr-font-color2);\n",
       "  font-weight: 500;\n",
       "}\n",
       "\n",
       ".xr-section-summary > span {\n",
       "  display: inline-block;\n",
       "  padding-left: 0.5em;\n",
       "}\n",
       "\n",
       ".xr-section-summary-in:disabled + label {\n",
       "  color: var(--xr-font-color2);\n",
       "}\n",
       "\n",
       ".xr-section-summary-in + label:before {\n",
       "  display: inline-block;\n",
       "  content: '►';\n",
       "  font-size: 11px;\n",
       "  width: 15px;\n",
       "  text-align: center;\n",
       "}\n",
       "\n",
       ".xr-section-summary-in:disabled + label:before {\n",
       "  color: var(--xr-disabled-color);\n",
       "}\n",
       "\n",
       ".xr-section-summary-in:checked + label:before {\n",
       "  content: '▼';\n",
       "}\n",
       "\n",
       ".xr-section-summary-in:checked + label > span {\n",
       "  display: none;\n",
       "}\n",
       "\n",
       ".xr-section-summary,\n",
       ".xr-section-inline-details {\n",
       "  padding-top: 4px;\n",
       "  padding-bottom: 4px;\n",
       "}\n",
       "\n",
       ".xr-section-inline-details {\n",
       "  grid-column: 2 / -1;\n",
       "}\n",
       "\n",
       ".xr-section-details {\n",
       "  display: none;\n",
       "  grid-column: 1 / -1;\n",
       "  margin-bottom: 5px;\n",
       "}\n",
       "\n",
       ".xr-section-summary-in:checked ~ .xr-section-details {\n",
       "  display: contents;\n",
       "}\n",
       "\n",
       ".xr-array-wrap {\n",
       "  grid-column: 1 / -1;\n",
       "  display: grid;\n",
       "  grid-template-columns: 20px auto;\n",
       "}\n",
       "\n",
       ".xr-array-wrap > label {\n",
       "  grid-column: 1;\n",
       "  vertical-align: top;\n",
       "}\n",
       "\n",
       ".xr-preview {\n",
       "  color: var(--xr-font-color3);\n",
       "}\n",
       "\n",
       ".xr-array-preview,\n",
       ".xr-array-data {\n",
       "  padding: 0 5px !important;\n",
       "  grid-column: 2;\n",
       "}\n",
       "\n",
       ".xr-array-data,\n",
       ".xr-array-in:checked ~ .xr-array-preview {\n",
       "  display: none;\n",
       "}\n",
       "\n",
       ".xr-array-in:checked ~ .xr-array-data,\n",
       ".xr-array-preview {\n",
       "  display: inline-block;\n",
       "}\n",
       "\n",
       ".xr-dim-list {\n",
       "  display: inline-block !important;\n",
       "  list-style: none;\n",
       "  padding: 0 !important;\n",
       "  margin: 0;\n",
       "}\n",
       "\n",
       ".xr-dim-list li {\n",
       "  display: inline-block;\n",
       "  padding: 0;\n",
       "  margin: 0;\n",
       "}\n",
       "\n",
       ".xr-dim-list:before {\n",
       "  content: '(';\n",
       "}\n",
       "\n",
       ".xr-dim-list:after {\n",
       "  content: ')';\n",
       "}\n",
       "\n",
       ".xr-dim-list li:not(:last-child):after {\n",
       "  content: ',';\n",
       "  padding-right: 5px;\n",
       "}\n",
       "\n",
       ".xr-has-index {\n",
       "  font-weight: bold;\n",
       "}\n",
       "\n",
       ".xr-var-list,\n",
       ".xr-var-item {\n",
       "  display: contents;\n",
       "}\n",
       "\n",
       ".xr-var-item > div,\n",
       ".xr-var-item label,\n",
       ".xr-var-item > .xr-var-name span {\n",
       "  background-color: var(--xr-background-color-row-even);\n",
       "  margin-bottom: 0;\n",
       "}\n",
       "\n",
       ".xr-var-item > .xr-var-name:hover span {\n",
       "  padding-right: 5px;\n",
       "}\n",
       "\n",
       ".xr-var-list > li:nth-child(odd) > div,\n",
       ".xr-var-list > li:nth-child(odd) > label,\n",
       ".xr-var-list > li:nth-child(odd) > .xr-var-name span {\n",
       "  background-color: var(--xr-background-color-row-odd);\n",
       "}\n",
       "\n",
       ".xr-var-name {\n",
       "  grid-column: 1;\n",
       "}\n",
       "\n",
       ".xr-var-dims {\n",
       "  grid-column: 2;\n",
       "}\n",
       "\n",
       ".xr-var-dtype {\n",
       "  grid-column: 3;\n",
       "  text-align: right;\n",
       "  color: var(--xr-font-color2);\n",
       "}\n",
       "\n",
       ".xr-var-preview {\n",
       "  grid-column: 4;\n",
       "}\n",
       "\n",
       ".xr-index-preview {\n",
       "  grid-column: 2 / 5;\n",
       "  color: var(--xr-font-color2);\n",
       "}\n",
       "\n",
       ".xr-var-name,\n",
       ".xr-var-dims,\n",
       ".xr-var-dtype,\n",
       ".xr-preview,\n",
       ".xr-attrs dt {\n",
       "  white-space: nowrap;\n",
       "  overflow: hidden;\n",
       "  text-overflow: ellipsis;\n",
       "  padding-right: 10px;\n",
       "}\n",
       "\n",
       ".xr-var-name:hover,\n",
       ".xr-var-dims:hover,\n",
       ".xr-var-dtype:hover,\n",
       ".xr-attrs dt:hover {\n",
       "  overflow: visible;\n",
       "  width: auto;\n",
       "  z-index: 1;\n",
       "}\n",
       "\n",
       ".xr-var-attrs,\n",
       ".xr-var-data,\n",
       ".xr-index-data {\n",
       "  display: none;\n",
       "  background-color: var(--xr-background-color) !important;\n",
       "  padding-bottom: 5px !important;\n",
       "}\n",
       "\n",
       ".xr-var-attrs-in:checked ~ .xr-var-attrs,\n",
       ".xr-var-data-in:checked ~ .xr-var-data,\n",
       ".xr-index-data-in:checked ~ .xr-index-data {\n",
       "  display: block;\n",
       "}\n",
       "\n",
       ".xr-var-data > table {\n",
       "  float: right;\n",
       "}\n",
       "\n",
       ".xr-var-name span,\n",
       ".xr-var-data,\n",
       ".xr-index-name div,\n",
       ".xr-index-data,\n",
       ".xr-attrs {\n",
       "  padding-left: 25px !important;\n",
       "}\n",
       "\n",
       ".xr-attrs,\n",
       ".xr-var-attrs,\n",
       ".xr-var-data,\n",
       ".xr-index-data {\n",
       "  grid-column: 1 / -1;\n",
       "}\n",
       "\n",
       "dl.xr-attrs {\n",
       "  padding: 0;\n",
       "  margin: 0;\n",
       "  display: grid;\n",
       "  grid-template-columns: 125px auto;\n",
       "}\n",
       "\n",
       ".xr-attrs dt,\n",
       ".xr-attrs dd {\n",
       "  padding: 0;\n",
       "  margin: 0;\n",
       "  float: left;\n",
       "  padding-right: 10px;\n",
       "  width: auto;\n",
       "}\n",
       "\n",
       ".xr-attrs dt {\n",
       "  font-weight: normal;\n",
       "  grid-column: 1;\n",
       "}\n",
       "\n",
       ".xr-attrs dt:hover span {\n",
       "  display: inline-block;\n",
       "  background: var(--xr-background-color);\n",
       "  padding-right: 10px;\n",
       "}\n",
       "\n",
       ".xr-attrs dd {\n",
       "  grid-column: 2;\n",
       "  white-space: pre-wrap;\n",
       "  word-break: break-all;\n",
       "}\n",
       "\n",
       ".xr-icon-database,\n",
       ".xr-icon-file-text2,\n",
       ".xr-no-icon {\n",
       "  display: inline-block;\n",
       "  vertical-align: middle;\n",
       "  width: 1em;\n",
       "  height: 1.5em !important;\n",
       "  stroke-width: 0;\n",
       "  stroke: currentColor;\n",
       "  fill: currentColor;\n",
       "}\n",
       "</style><pre class='xr-text-repr-fallback'>&lt;xarray.DataArray &#x27;dayofyear&#x27; (time: 15)&gt;\n",
       "array([ 2,  3,  4,  5,  6,  7,  8,  9, 10, 11, 12, 13, 14, 15, 16])\n",
       "Coordinates:\n",
       "  * time     (time) datetime64[ns] 2020-01-02 2020-01-03 ... 2020-01-16</pre><div class='xr-wrap' style='display:none'><div class='xr-header'><div class='xr-obj-type'>xarray.DataArray</div><div class='xr-array-name'>'dayofyear'</div><ul class='xr-dim-list'><li><span class='xr-has-index'>time</span>: 15</li></ul></div><ul class='xr-sections'><li class='xr-section-item'><div class='xr-array-wrap'><input id='section-85c11819-197e-4731-b2f2-eb44853f8917' class='xr-array-in' type='checkbox' checked><label for='section-85c11819-197e-4731-b2f2-eb44853f8917' title='Show/hide data repr'><svg class='icon xr-icon-database'><use xlink:href='#icon-database'></use></svg></label><div class='xr-array-preview xr-preview'><span>2 3 4 5 6 7 8 9 10 11 12 13 14 15 16</span></div><div class='xr-array-data'><pre>array([ 2,  3,  4,  5,  6,  7,  8,  9, 10, 11, 12, 13, 14, 15, 16])</pre></div></div></li><li class='xr-section-item'><input id='section-6ac4e359-9cca-4d6d-9965-a35cfa35d03c' class='xr-section-summary-in' type='checkbox'  checked><label for='section-6ac4e359-9cca-4d6d-9965-a35cfa35d03c' class='xr-section-summary' >Coordinates: <span>(1)</span></label><div class='xr-section-inline-details'></div><div class='xr-section-details'><ul class='xr-var-list'><li class='xr-var-item'><div class='xr-var-name'><span class='xr-has-index'>time</span></div><div class='xr-var-dims'>(time)</div><div class='xr-var-dtype'>datetime64[ns]</div><div class='xr-var-preview xr-preview'>2020-01-02 ... 2020-01-16</div><input id='attrs-7fb072db-e35e-46c6-bd8a-7e7610a6bbb2' class='xr-var-attrs-in' type='checkbox' disabled><label for='attrs-7fb072db-e35e-46c6-bd8a-7e7610a6bbb2' title='Show/Hide attributes'><svg class='icon xr-icon-file-text2'><use xlink:href='#icon-file-text2'></use></svg></label><input id='data-60c29e8a-7b49-4ac0-bb04-8274e64ca044' class='xr-var-data-in' type='checkbox'><label for='data-60c29e8a-7b49-4ac0-bb04-8274e64ca044' title='Show/Hide data repr'><svg class='icon xr-icon-database'><use xlink:href='#icon-database'></use></svg></label><div class='xr-var-attrs'><dl class='xr-attrs'></dl></div><div class='xr-var-data'><pre>array([&#x27;2020-01-02T00:00:00.000000000&#x27;, &#x27;2020-01-03T00:00:00.000000000&#x27;,\n",
       "       &#x27;2020-01-04T00:00:00.000000000&#x27;, &#x27;2020-01-05T00:00:00.000000000&#x27;,\n",
       "       &#x27;2020-01-06T00:00:00.000000000&#x27;, &#x27;2020-01-07T00:00:00.000000000&#x27;,\n",
       "       &#x27;2020-01-08T00:00:00.000000000&#x27;, &#x27;2020-01-09T00:00:00.000000000&#x27;,\n",
       "       &#x27;2020-01-10T00:00:00.000000000&#x27;, &#x27;2020-01-11T00:00:00.000000000&#x27;,\n",
       "       &#x27;2020-01-12T00:00:00.000000000&#x27;, &#x27;2020-01-13T00:00:00.000000000&#x27;,\n",
       "       &#x27;2020-01-14T00:00:00.000000000&#x27;, &#x27;2020-01-15T00:00:00.000000000&#x27;,\n",
       "       &#x27;2020-01-16T00:00:00.000000000&#x27;], dtype=&#x27;datetime64[ns]&#x27;)</pre></div></li></ul></div></li><li class='xr-section-item'><input id='section-a30c3476-04fa-45dc-a480-7a759039c6a0' class='xr-section-summary-in' type='checkbox'  ><label for='section-a30c3476-04fa-45dc-a480-7a759039c6a0' class='xr-section-summary' >Indexes: <span>(1)</span></label><div class='xr-section-inline-details'></div><div class='xr-section-details'><ul class='xr-var-list'><li class='xr-var-item'><div class='xr-index-name'><div>time</div></div><div class='xr-index-preview'>PandasIndex</div><div></div><input id='index-0b673716-1d57-48da-a6cd-6825a2016d54' class='xr-index-data-in' type='checkbox'/><label for='index-0b673716-1d57-48da-a6cd-6825a2016d54' title='Show/Hide index repr'><svg class='icon xr-icon-database'><use xlink:href='#icon-database'></use></svg></label><div class='xr-index-data'><pre>PandasIndex(DatetimeIndex([&#x27;2020-01-02&#x27;, &#x27;2020-01-03&#x27;, &#x27;2020-01-04&#x27;, &#x27;2020-01-05&#x27;,\n",
       "               &#x27;2020-01-06&#x27;, &#x27;2020-01-07&#x27;, &#x27;2020-01-08&#x27;, &#x27;2020-01-09&#x27;,\n",
       "               &#x27;2020-01-10&#x27;, &#x27;2020-01-11&#x27;, &#x27;2020-01-12&#x27;, &#x27;2020-01-13&#x27;,\n",
       "               &#x27;2020-01-14&#x27;, &#x27;2020-01-15&#x27;, &#x27;2020-01-16&#x27;],\n",
       "              dtype=&#x27;datetime64[ns]&#x27;, name=&#x27;time&#x27;, freq=None))</pre></div></li></ul></div></li><li class='xr-section-item'><input id='section-84d14b61-82fa-4461-b202-ee98a505dd1a' class='xr-section-summary-in' type='checkbox' disabled ><label for='section-84d14b61-82fa-4461-b202-ee98a505dd1a' class='xr-section-summary'  title='Expand/collapse section'>Attributes: <span>(0)</span></label><div class='xr-section-inline-details'></div><div class='xr-section-details'><dl class='xr-attrs'></dl></div></li></ul></div></div>"
      ],
      "text/plain": [
       "<xarray.DataArray 'dayofyear' (time: 15)>\n",
       "array([ 2,  3,  4,  5,  6,  7,  8,  9, 10, 11, 12, 13, 14, 15, 16])\n",
       "Coordinates:\n",
       "  * time     (time) datetime64[ns] 2020-01-02 2020-01-03 ... 2020-01-16"
      ]
     },
     "execution_count": 27,
     "metadata": {},
     "output_type": "execute_result"
    }
   ],
   "source": [
    "ds_ours_24h.time.dt.dayofyear"
   ]
  },
  {
   "cell_type": "code",
   "execution_count": null,
   "id": "2156bb69-541d-4113-9d81-7d766d1012df",
   "metadata": {},
   "outputs": [],
   "source": []
  }
 ],
 "metadata": {
  "kernelspec": {
   "display_name": "Python 3 (ipykernel)",
   "language": "python",
   "name": "python3"
  },
  "language_info": {
   "codemirror_mode": {
    "name": "ipython",
    "version": 3
   },
   "file_extension": ".py",
   "mimetype": "text/x-python",
   "name": "python",
   "nbconvert_exporter": "python",
   "pygments_lexer": "ipython3",
   "version": "3.11.9"
  }
 },
 "nbformat": 4,
 "nbformat_minor": 5
}
