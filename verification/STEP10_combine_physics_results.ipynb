{
 "cells": [
  {
   "cell_type": "markdown",
   "id": "d56e0d15-21d8-49c0-aed0-0e36b5fefe52",
   "metadata": {},
   "source": [
    "# Combining verification results\n",
    "\n",
    "* This notebook combines verification results on individual initializaitons for visualization.\n",
    "* The notebook runs with `verif_config_6h.yml` in the same folder."
   ]
  },
  {
   "cell_type": "code",
   "execution_count": 1,
   "id": "92825f32-f2f0-4518-91cf-4b45873b57a8",
   "metadata": {},
   "outputs": [],
   "source": [
    "import os\n",
    "import sys\n",
    "import yaml\n",
    "import argparse\n",
    "from glob import glob\n",
    "from datetime import datetime, timedelta\n",
    "\n",
    "import numpy as np\n",
    "import xarray as xr\n",
    "\n",
    "sys.path.insert(0, os.path.realpath('../libs/'))\n",
    "import verif_utils as vu\n",
    "import score_utils as su"
   ]
  },
  {
   "cell_type": "code",
   "execution_count": 2,
   "id": "b607367f-5259-4610-a8a6-c17a9ab89b9b",
   "metadata": {},
   "outputs": [],
   "source": [
    "import matplotlib.pyplot as plt\n",
    "%matplotlib inline"
   ]
  },
  {
   "cell_type": "markdown",
   "id": "5e3ac320-1214-4ace-b23f-302bea6ffb02",
   "metadata": {},
   "source": [
    "### Load config"
   ]
  },
  {
   "cell_type": "code",
   "execution_count": 3,
   "id": "6104c698-762d-48b2-a92c-c8ed62865fd4",
   "metadata": {},
   "outputs": [],
   "source": [
    "config_name = os.path.realpath('verif_config.yml')\n",
    "\n",
    "with open(config_name, 'r') as stream:\n",
    "    conf = conf = yaml.safe_load(stream)"
   ]
  },
  {
   "cell_type": "markdown",
   "id": "a65fcce8-c40d-4c0b-9aa7-4c6a8c52815c",
   "metadata": {},
   "source": [
    "## ERA5 conservation residuals"
   ]
  },
  {
   "cell_type": "code",
   "execution_count": 4,
   "id": "2a20473b-a897-427f-8cd2-78326697dbb9",
   "metadata": {},
   "outputs": [],
   "source": [
    "base_dir = conf['ERA5_weatherbench']['save_loc_clim']\n",
    "files_025_mass = base_dir + 'ERA5_mass_residual_025_full_{:05d}_{:05d}.nc'\n",
    "files_025_water = base_dir + 'ERA5_water_residual_025_full_{:05d}_{:05d}.nc'\n",
    "files_025_energy = base_dir + 'ERA5_energy_residual_025_full_{:05d}_{:05d}.nc'\n",
    "\n",
    "files_1deg_mass = base_dir + 'ERA5_mass_residual_subset_{:05d}_{:05d}.nc'\n",
    "files_1deg_water = base_dir + 'ERA5_water_residual_subset_{:05d}_{:05d}.nc'\n",
    "files_1deg_energy = base_dir + 'ERA5_energy_residual_subset_{:05d}_{:05d}.nc'\n",
    "\n",
    "IND_max = 4*(365+366)\n",
    "INDs = np.arange(0, IND_max+100, 100)\n",
    "INDs[-1] = IND_max"
   ]
  },
  {
   "cell_type": "markdown",
   "id": "be64f349-8b0f-44c2-a10f-141ddc9c2892",
   "metadata": {},
   "source": [
    "### 1 deg subsetted version"
   ]
  },
  {
   "cell_type": "code",
   "execution_count": 5,
   "id": "d081c8a9-2235-47c6-863a-d5887c7fe0b5",
   "metadata": {},
   "outputs": [],
   "source": [
    "collect_mass_residual = []\n",
    "collect_water_residual = []\n",
    "collect_energy_residual = []\n",
    "\n",
    "for i, ind_start in enumerate(INDs[:-1]):\n",
    "    ind_end = INDs[i+1]\n",
    "    collect_mass_residual.append(xr.open_dataset(files_1deg_mass.format(ind_start, ind_end)))\n",
    "    collect_water_residual.append(xr.open_dataset(files_1deg_water.format(ind_start, ind_end)))\n",
    "    collect_energy_residual.append(xr.open_dataset(files_1deg_energy.format(ind_start, ind_end)))\n",
    "\n",
    "ds_mass_1deg = xr.concat(collect_mass_residual, dim='time')\n",
    "ds_water_1deg = xr.concat(collect_water_residual, dim='time')\n",
    "ds_energy_1deg = xr.concat(collect_energy_residual, dim='time')"
   ]
  },
  {
   "cell_type": "markdown",
   "id": "5fda4385-444e-41eb-a6da-c859f7864b20",
   "metadata": {},
   "source": [
    "### 0.25 deg 37 level version"
   ]
  },
  {
   "cell_type": "code",
   "execution_count": 6,
   "id": "f467145d-bc69-46b8-a869-7553fd9c7ba2",
   "metadata": {},
   "outputs": [],
   "source": [
    "collect_mass_residual = []\n",
    "collect_water_residual = []\n",
    "collect_energy_residual = []\n",
    "\n",
    "for i, ind_start in enumerate(INDs[:-1]):\n",
    "    ind_end = INDs[i+1]\n",
    "    collect_mass_residual.append(xr.open_dataset(files_025_mass.format(ind_start, ind_end)))\n",
    "    collect_water_residual.append(xr.open_dataset(files_025_water.format(ind_start, ind_end)))\n",
    "    collect_energy_residual.append(xr.open_dataset(files_025_energy.format(ind_start, ind_end)))\n",
    "\n",
    "ds_mass_025 = xr.concat(collect_mass_residual, dim='time')\n",
    "ds_water_025 = xr.concat(collect_water_residual, dim='time')\n",
    "ds_energy_025 = xr.concat(collect_energy_residual, dim='time')"
   ]
  },
  {
   "cell_type": "markdown",
   "id": "9475df79-6773-40f8-b5f0-532bebf76f54",
   "metadata": {},
   "source": [
    "## Forecast consevation residuals"
   ]
  },
  {
   "cell_type": "markdown",
   "id": "0ec8c7e3-986d-4876-9838-3b1da21cb79f",
   "metadata": {},
   "source": [
    "### FuXi-base"
   ]
  },
  {
   "cell_type": "code",
   "execution_count": 7,
   "id": "95ae07b9-efe6-4d2f-a1d9-36d71db1ba2a",
   "metadata": {},
   "outputs": [],
   "source": [
    "base_dir = conf['fuxi_dry']['save_loc_verif']\n",
    "\n",
    "files_mass = base_dir + 'fuxi_dry_mass_residual_subset_{:05d}_{:05d}.nc'\n",
    "files_water = base_dir + 'fuxi_dry_water_residual_subset_{:05d}_{:05d}.nc'\n",
    "files_energy = base_dir + 'fuxi_dry_energy_residual_subset_{:05d}_{:05d}.nc'\n",
    "\n",
    "IND_max = 365+366\n",
    "INDs = np.arange(0, IND_max+50, 50)\n",
    "INDs[-1] = IND_max"
   ]
  },
  {
   "cell_type": "code",
   "execution_count": 8,
   "id": "edaf309d-7898-4bd4-8ada-1a403334ee14",
   "metadata": {},
   "outputs": [],
   "source": [
    "collect_mass_residual = []\n",
    "collect_water_residual = []\n",
    "collect_energy_residual = []\n",
    "\n",
    "for i, ind_start in enumerate(INDs[:-1]):\n",
    "    ind_end = INDs[i+1]\n",
    "    collect_mass_residual.append(xr.open_dataset(files_mass.format(ind_start, ind_end)))\n",
    "    collect_water_residual.append(xr.open_dataset(files_water.format(ind_start, ind_end)))\n",
    "    collect_energy_residual.append(xr.open_dataset(files_energy.format(ind_start, ind_end)))\n",
    "\n",
    "ds_mass_dry = xr.concat(collect_mass_residual, dim='days')\n",
    "ds_water_dry = xr.concat(collect_water_residual, dim='days')\n",
    "ds_energy_dry = xr.concat(collect_energy_residual, dim='days')"
   ]
  },
  {
   "cell_type": "markdown",
   "id": "72c7d165-1320-4fdc-bb80-7510b336173a",
   "metadata": {},
   "source": [
    "### FuXi-physics"
   ]
  },
  {
   "cell_type": "code",
   "execution_count": 9,
   "id": "644d7bda-6ae6-4c09-9b2c-56b3ff7a8555",
   "metadata": {},
   "outputs": [],
   "source": [
    "base_dir = conf['fuxi_physics']['save_loc_verif']\n",
    "\n",
    "files_mass = base_dir + 'fuxi_physics_mass_residual_subset_{:05d}_{:05d}.nc'\n",
    "files_water = base_dir + 'fuxi_physics_water_residual_subset_{:05d}_{:05d}.nc'\n",
    "files_energy = base_dir + 'fuxi_physics_energy_residual_subset_{:05d}_{:05d}.nc'\n",
    "\n",
    "IND_max = 365+366\n",
    "INDs = np.arange(0, IND_max+50, 50)\n",
    "INDs[-1] = IND_max"
   ]
  },
  {
   "cell_type": "code",
   "execution_count": 10,
   "id": "31c53a48-c558-46cb-a8f6-70dac92f9c05",
   "metadata": {},
   "outputs": [],
   "source": [
    "collect_mass_residual = []\n",
    "collect_water_residual = []\n",
    "collect_energy_residual = []\n",
    "\n",
    "for i, ind_start in enumerate(INDs[:-1]):\n",
    "    ind_end = INDs[i+1]\n",
    "    collect_mass_residual.append(xr.open_dataset(files_mass.format(ind_start, ind_end)))\n",
    "    collect_water_residual.append(xr.open_dataset(files_water.format(ind_start, ind_end)))\n",
    "    collect_energy_residual.append(xr.open_dataset(files_energy.format(ind_start, ind_end)))\n",
    "\n",
    "ds_mass_physics = xr.concat(collect_mass_residual, dim='days')\n",
    "ds_water_physics = xr.concat(collect_water_residual, dim='days')\n",
    "ds_energy_physics = xr.concat(collect_energy_residual, dim='days')"
   ]
  },
  {
   "cell_type": "markdown",
   "id": "6e328011-eb11-4869-b1b0-03c2bca0fb3c",
   "metadata": {},
   "source": [
    "## Preparing plot data"
   ]
  },
  {
   "cell_type": "code",
   "execution_count": 11,
   "id": "31cc0267-8c1f-4d26-bfbb-83003d5a4138",
   "metadata": {},
   "outputs": [],
   "source": [
    "data_PLOT = {}\n",
    "\n",
    "model_name = 'ERA5_025'\n",
    "\n",
    "data_PLOT[f'{model_name}_mass_residual'] = ds_mass_025['mass_residual'].values\n",
    "data_PLOT[f'{model_name}_mass_value'] = ds_mass_025['mass_value'].values\n",
    "\n",
    "data_PLOT[f'{model_name}_water_residual'] = ds_water_025['water_residual'].values\n",
    "data_PLOT[f'{model_name}_water_tendency'] = ds_water_025['water_tendency'].values\n",
    "data_PLOT[f'{model_name}_evapor'] = ds_water_025['evapor'].values\n",
    "data_PLOT[f'{model_name}_precip'] = ds_water_025['precip'].values\n",
    "\n",
    "data_PLOT[f'{model_name}_energy_residual'] = ds_energy_025['energy_residual'].values\n",
    "data_PLOT[f'{model_name}_energy_tendency'] = ds_energy_025['energy_tendency'].values\n",
    "data_PLOT[f'{model_name}_atmos_top'] = ds_energy_025['atmos_top'].values\n",
    "data_PLOT[f'{model_name}_surf'] = ds_energy_025['surf'].values\n",
    "\n",
    "model_name = 'ERA5_1deg'\n",
    "\n",
    "data_PLOT[f'{model_name}_mass_residual'] = ds_mass_1deg['mass_residual'].values\n",
    "data_PLOT[f'{model_name}_mass_value'] = ds_mass_1deg['mass_value'].values\n",
    "\n",
    "data_PLOT[f'{model_name}_water_residual'] = ds_water_1deg['water_residual'].values\n",
    "data_PLOT[f'{model_name}_water_tendency'] = ds_water_1deg['water_tendency'].values\n",
    "data_PLOT[f'{model_name}_evapor'] = ds_water_1deg['evapor'].values\n",
    "data_PLOT[f'{model_name}_precip'] = ds_water_1deg['precip'].values\n",
    "\n",
    "data_PLOT[f'{model_name}_energy_residual'] = ds_energy_1deg['energy_residual'].values\n",
    "data_PLOT[f'{model_name}_energy_tendency'] = ds_energy_1deg['energy_tendency'].values\n",
    "data_PLOT[f'{model_name}_atmos_top'] = ds_energy_1deg['atmos_top'].values\n",
    "data_PLOT[f'{model_name}_surf'] = ds_energy_1deg['surf'].values\n",
    "\n",
    "model_name = 'fuxi_dry'\n",
    "\n",
    "data_PLOT[f'{model_name}_mass_residual'] = ds_mass_dry['mass_residual'].values\n",
    "data_PLOT[f'{model_name}_mass_value'] = ds_mass_dry['mass_value'].values\n",
    "\n",
    "data_PLOT[f'{model_name}_water_residual'] = ds_water_dry['water_residual'].values\n",
    "data_PLOT[f'{model_name}_water_tendency'] = ds_water_dry['water_tendency'].values\n",
    "data_PLOT[f'{model_name}_evapor'] = ds_water_dry['evapor'].values\n",
    "data_PLOT[f'{model_name}_precip'] = ds_water_dry['precip'].values\n",
    "\n",
    "data_PLOT[f'{model_name}_energy_residual'] = ds_energy_dry['energy_residual'].values\n",
    "data_PLOT[f'{model_name}_energy_tendency'] = ds_energy_dry['energy_tendency'].values\n",
    "data_PLOT[f'{model_name}_atmos_top'] = ds_energy_dry['atmos_top'].values\n",
    "data_PLOT[f'{model_name}_surf'] = ds_energy_dry['surf'].values\n",
    "\n",
    "model_name = 'fuxi_physics'\n",
    "\n",
    "data_PLOT[f'{model_name}_mass_residual'] = ds_mass_physics['mass_residual'].values\n",
    "data_PLOT[f'{model_name}_mass_value'] = ds_mass_physics['mass_value'].values\n",
    "\n",
    "data_PLOT[f'{model_name}_water_residual'] = ds_water_physics['water_residual'].values\n",
    "data_PLOT[f'{model_name}_water_tendency'] = ds_water_physics['water_tendency'].values\n",
    "data_PLOT[f'{model_name}_evapor'] = ds_water_physics['evapor'].values\n",
    "data_PLOT[f'{model_name}_precip'] = ds_water_physics['precip'].values\n",
    "\n",
    "data_PLOT[f'{model_name}_energy_residual'] = ds_energy_physics['energy_residual'].values\n",
    "data_PLOT[f'{model_name}_energy_tendency'] = ds_energy_physics['energy_tendency'].values\n",
    "data_PLOT[f'{model_name}_atmos_top'] = ds_energy_physics['atmos_top'].values\n",
    "data_PLOT[f'{model_name}_surf'] = ds_energy_physics['surf'].values"
   ]
  },
  {
   "cell_type": "code",
   "execution_count": 16,
   "id": "a54fd97f-818b-4c91-93ed-8dd1323bd0a4",
   "metadata": {},
   "outputs": [],
   "source": [
    "save_name = conf['qsub']['plot_data_loc'] + 'Conservation_results.npy'\n",
    "# np.save(save_name, data_PLOT)"
   ]
  },
  {
   "cell_type": "code",
   "execution_count": null,
   "id": "988a93d8-1daf-4af2-82e9-fa6788a129a1",
   "metadata": {},
   "outputs": [],
   "source": []
  }
 ],
 "metadata": {
  "kernelspec": {
   "display_name": "Python 3 (ipykernel)",
   "language": "python",
   "name": "python3"
  },
  "language_info": {
   "codemirror_mode": {
    "name": "ipython",
    "version": 3
   },
   "file_extension": ".py",
   "mimetype": "text/x-python",
   "name": "python",
   "nbconvert_exporter": "python",
   "pygments_lexer": "ipython3",
   "version": "3.11.9"
  }
 },
 "nbformat": 4,
 "nbformat_minor": 5
}
