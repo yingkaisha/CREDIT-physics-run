{
 "cells": [
  {
   "cell_type": "markdown",
   "id": "ac814c7e-dee1-4b45-9239-8d9cd98b9ada",
   "metadata": {},
   "source": [
    "# Calculate RMSE"
   ]
  },
  {
   "cell_type": "code",
   "execution_count": 1,
   "id": "8deb4be5-9191-4fb6-afb1-9b6c2351f719",
   "metadata": {},
   "outputs": [],
   "source": [
    "import os\n",
    "import sys\n",
    "import yaml\n",
    "from glob import glob\n",
    "from datetime import datetime, timedelta\n",
    "\n",
    "import numpy as np\n",
    "import xarray as xr"
   ]
  },
  {
   "cell_type": "code",
   "execution_count": 2,
   "id": "4f276d5d-e0b9-4639-911f-44566f18e248",
   "metadata": {},
   "outputs": [],
   "source": [
    "sys.path.insert(0, os.path.realpath('../libs/'))\n",
    "import verif_utils as vu"
   ]
  },
  {
   "cell_type": "code",
   "execution_count": 3,
   "id": "87b33f80-2513-4409-8188-e6afde8e14e5",
   "metadata": {},
   "outputs": [],
   "source": [
    "import matplotlib.pyplot as plt\n",
    "%matplotlib inline"
   ]
  },
  {
   "cell_type": "code",
   "execution_count": 4,
   "id": "04614252-cb60-44ef-afa4-3732f1a34dae",
   "metadata": {},
   "outputs": [],
   "source": [
    "config_name = os.path.realpath('verif_config.yml')\n",
    "\n",
    "with open(config_name, 'r') as stream:\n",
    "    conf = yaml.safe_load(stream)"
   ]
  },
  {
   "cell_type": "code",
   "execution_count": 5,
   "id": "9df393c4-af29-4ef1-857c-403bd2342dcb",
   "metadata": {},
   "outputs": [],
   "source": [
    "model_name = 'IFS'\n",
    "lead_range = conf[model_name]['lead_range']\n",
    "verif_lead = [240,]\n",
    "leads_exist = list(np.arange(lead_range[0], lead_range[-1]+lead_range[0], lead_range[0]))\n",
    "ind_lead = vu.lead_to_index(leads_exist, verif_lead)"
   ]
  },
  {
   "cell_type": "code",
   "execution_count": 6,
   "id": "78708828-93ce-4ac9-80dd-5f9b40cd80a4",
   "metadata": {},
   "outputs": [],
   "source": [
    "verif_ind_start = 0; verif_ind_end = 3\n",
    "\n",
    "path_verif = conf[model_name]['save_loc_verif']+'combined_rmse_spatial_{:04d}_{:04d}_{:03d}h_{}.nc'.format(\n",
    "    verif_ind_start, verif_ind_end, verif_lead[-1], model_name)"
   ]
  },
  {
   "cell_type": "markdown",
   "id": "7bbb12c4-f60e-4398-adde-bfb7367c544d",
   "metadata": {},
   "source": [
    "## Verification setup"
   ]
  },
  {
   "cell_type": "code",
   "execution_count": 7,
   "id": "5d9d3246-64ea-497c-aeb2-9702b62fe591",
   "metadata": {},
   "outputs": [],
   "source": [
    "# ---------------------------------------------------------------------------------------- #\n",
    "# ERA5 verif target\n",
    "filename_ERA5 = sorted(glob(conf['ERA5_ours']['save_loc']))\n",
    "\n",
    "# pick years\n",
    "year_range = conf['ERA5_ours']['year_range']\n",
    "years_pick = np.arange(year_range[0], year_range[1]+1, 1).astype(str)\n",
    "filename_ERA5 = [fn for fn in filename_ERA5 if any(year in fn for year in years_pick)]\n",
    "\n",
    "# merge yearly ERA5 as one\n",
    "ds_ERA5 = [vu.get_forward_data(fn) for fn in filename_ERA5]\n",
    "ds_ERA5_merge = xr.concat(ds_ERA5, dim='time')\n",
    "\n",
    "# ---------------------------------------------------------------------------------------- #\n",
    "# forecast\n",
    "filename_OURS = sorted(glob(conf[model_name]['save_loc_gather']+'*.nc'))\n",
    "\n",
    "# pick years\n",
    "year_range = conf[model_name]['year_range']\n",
    "years_pick = np.arange(year_range[0], year_range[1]+1, 1).astype(str)\n",
    "filename_OURS = [fn for fn in filename_OURS if any(year in fn for year in years_pick)]\n",
    "\n",
    "L_max = len(filename_OURS)\n",
    "assert verif_ind_end <= L_max, 'verified indices (days) exceeds the max index available'\n",
    "\n",
    "filename_OURS = filename_OURS[verif_ind_start:verif_ind_end]"
   ]
  },
  {
   "cell_type": "code",
   "execution_count": 8,
   "id": "e50e012a-92bb-4fce-aca8-ac4b7e16b201",
   "metadata": {},
   "outputs": [],
   "source": [
    "rename_IFS_to_ERA5 = {\n",
    "    '10m_u_component_of_wind': 'VAR_10U',\n",
    "    '10m_v_component_of_wind': 'VAR_10V',\n",
    "    '2m_temperature': 'VAR_2T',\n",
    "    'geopotential': 'Z',\n",
    "    'mean_sea_level_pressure': 'MSL',\n",
    "    'specific_humidity': 'Q',\n",
    "    'surface_pressure': 'SP',\n",
    "    'temperature': 'T',\n",
    "    'u_component_of_wind': 'U',\n",
    "    'v_component_of_wind': 'V'\n",
    "}\n",
    "\n",
    "varname_verif = ['MSL', 'Q', 'T', 'U', 'V', 'VAR_2T', 'Z', 'VAR_10U', 'VAR_10V']\n",
    "IFS_levels = np.array([  50,  100,  150,  200,  250,  300,  400,  500,  600,  700,  850, 925, 1000])\n",
    "level_pick = np.array([  50,  150,  200,  250,  300,  400,  500,  600,  700,  850, 925, 1000])"
   ]
  },
  {
   "cell_type": "code",
   "execution_count": 9,
   "id": "62b53182-2b2e-40f3-b265-0a250e7d0246",
   "metadata": {},
   "outputs": [
    {
     "name": "stdout",
     "output_type": "stream",
     "text": [
      "Save to /glade/campaign/cisl/aiml/ksha/CREDIT_physics/VERIF/IFS/combined_rmse_spatial_0000_0003_240h_IFS.nc\n"
     ]
    }
   ],
   "source": [
    "# ---------------------------------------------------------------------------------------- #\n",
    "# RMSE compute\n",
    "verif_results = []\n",
    "\n",
    "for fn_ours in filename_OURS:    \n",
    "    ds_ours = xr.open_dataset(fn_ours)\n",
    "    ds_ours['level'] = IFS_levels\n",
    "    ds_ours = ds_ours.isel(time=ind_lead)\n",
    "    ds_ours = ds_ours.sel(level=level_pick)\n",
    "    ds_ours = ds_ours.rename(rename_IFS_to_ERA5)\n",
    "    ds_ours = ds_ours[varname_verif]\n",
    "    ds_ours = ds_ours.compute()\n",
    "    \n",
    "    ds_target = ds_ERA5_merge.sel(time=ds_ours['time']).compute()\n",
    "    ds_target = ds_target[varname_verif]\n",
    "    ds_target = ds_target.sel(level=level_pick)\n",
    "    \n",
    "    # RMSE with latitude-based cosine weighting (check w_lat)\n",
    "    RMSE = np.sqrt((ds_ours - ds_target)**2)\n",
    "    \n",
    "    verif_results.append(RMSE.drop_vars('time'))\n",
    "    \n",
    "# Combine verif results\n",
    "ds_verif = xr.concat(verif_results, dim='days')\n",
    "\n",
    "# Save the combined dataset\n",
    "print('Save to {}'.format(path_verif))\n",
    "# #ds_verif.to_netcdf(path_verif)"
   ]
  },
  {
   "cell_type": "code",
   "execution_count": null,
   "id": "992ce70f-2a32-4a97-becc-821f4db14611",
   "metadata": {},
   "outputs": [],
   "source": []
  }
 ],
 "metadata": {
  "kernelspec": {
   "display_name": "Python 3 (ipykernel)",
   "language": "python",
   "name": "python3"
  },
  "language_info": {
   "codemirror_mode": {
    "name": "ipython",
    "version": 3
   },
   "file_extension": ".py",
   "mimetype": "text/x-python",
   "name": "python",
   "nbconvert_exporter": "python",
   "pygments_lexer": "ipython3",
   "version": "3.11.9"
  }
 },
 "nbformat": 4,
 "nbformat_minor": 5
}
