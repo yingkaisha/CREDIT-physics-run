{
 "cells": [
  {
   "cell_type": "markdown",
   "id": "d56e0d15-21d8-49c0-aed0-0e36b5fefe52",
   "metadata": {},
   "source": [
    "# Combining verification results"
   ]
  },
  {
   "cell_type": "code",
   "execution_count": 1,
   "id": "92825f32-f2f0-4518-91cf-4b45873b57a8",
   "metadata": {},
   "outputs": [],
   "source": [
    "import os\n",
    "import sys\n",
    "import yaml\n",
    "import argparse\n",
    "from glob import glob\n",
    "from datetime import datetime, timedelta\n",
    "\n",
    "import numpy as np\n",
    "import xarray as xr\n",
    "\n",
    "sys.path.insert(0, os.path.realpath('../libs/'))\n",
    "import verif_utils as vu\n",
    "import score_utils as su"
   ]
  },
  {
   "cell_type": "code",
   "execution_count": 2,
   "id": "b607367f-5259-4610-a8a6-c17a9ab89b9b",
   "metadata": {},
   "outputs": [],
   "source": [
    "import matplotlib.pyplot as plt\n",
    "%matplotlib inline"
   ]
  },
  {
   "cell_type": "markdown",
   "id": "5e3ac320-1214-4ace-b23f-302bea6ffb02",
   "metadata": {},
   "source": [
    "### Load config"
   ]
  },
  {
   "cell_type": "code",
   "execution_count": 3,
   "id": "6104c698-762d-48b2-a92c-c8ed62865fd4",
   "metadata": {},
   "outputs": [],
   "source": [
    "config_name = os.path.realpath('verif_config.yml')\n",
    "\n",
    "with open(config_name, 'r') as stream:\n",
    "    conf = conf = yaml.safe_load(stream)"
   ]
  },
  {
   "cell_type": "markdown",
   "id": "a65fcce8-c40d-4c0b-9aa7-4c6a8c52815c",
   "metadata": {},
   "source": [
    "## RMSE"
   ]
  },
  {
   "cell_type": "code",
   "execution_count": 4,
   "id": "edd00cdb-df70-48cc-8f8d-658942674d04",
   "metadata": {},
   "outputs": [],
   "source": [
    "model_names =  ['fuxi_dry', 'fuxi_physics', 'IFS']\n",
    "IND_max = 1462\n",
    "INDs = np.arange(0, IND_max+50, 50)\n",
    "INDs[-1] = IND_max"
   ]
  },
  {
   "cell_type": "markdown",
   "id": "640174f5-28ad-41c5-b971-463aac3241f8",
   "metadata": {},
   "source": [
    "### RMSE (6 hourly)"
   ]
  },
  {
   "cell_type": "code",
   "execution_count": 50,
   "id": "89ae4c61-c666-465c-9cd7-82ee263b52b0",
   "metadata": {},
   "outputs": [
    {
     "name": "stdout",
     "output_type": "stream",
     "text": [
      "Save to /glade/campaign/cisl/aiml/ksha/CREDIT_physics/VERIF/fuxi_plevel_dry/RMSE_006h_360h_fuxi_dry.nc\n",
      "Save to /glade/campaign/cisl/aiml/ksha/CREDIT_physics/VERIF/fuxi_plevel_physics/RMSE_006h_360h_fuxi_physics.nc\n",
      "Save to /glade/campaign/cisl/aiml/ksha/CREDIT_physics/VERIF/IFS/RMSE_006h_240h_IFS.nc\n"
     ]
    }
   ],
   "source": [
    "VERIF = {}\n",
    "\n",
    "for model_name in model_names:\n",
    "    # file names to load\n",
    "    base_dir = conf[model_name]['save_loc_verif']\n",
    "    \n",
    "    verif_lead_range = conf[model_name]['verif_lead_range']\n",
    "    path_RMSE_verif = base_dir + 'combined_rmse_{:04d}_{:04d}_{:03d}h_{:03d}h_{}.nc'\n",
    "    \n",
    "    # file names to save\n",
    "    path_RMSE_save = base_dir + 'RMSE_{:03d}h_{:03d}h_{}.nc'\n",
    "    \n",
    "    # load xarray.Dataset and merge all verified days\n",
    "    RMSE_verif = []\n",
    "    \n",
    "    for i, ind_start in enumerate(INDs[:-1]):\n",
    "        ind_end = INDs[i+1]\n",
    "        filename = path_RMSE_verif.format(\n",
    "            ind_start, ind_end, verif_lead_range[0], verif_lead_range[-1], model_name)\n",
    "        \n",
    "        ds_verf_temp = xr.open_dataset(filename)\n",
    "        RMSE_verif.append(ds_verf_temp)\n",
    "    \n",
    "    # merge by concat\n",
    "    ds_RMSE_verif = xr.concat(RMSE_verif, dim='days')\n",
    "    \n",
    "    # save to one dictionary for some checking\n",
    "    VERIF['{}_RMSE'.format(model_name)] = ds_RMSE_verif\n",
    "    \n",
    "    # save to nc\n",
    "    save_name_RMSE = path_RMSE_save.format(verif_lead_range[0], verif_lead_range[-1], model_name)\n",
    "    ds_RMSE_verif.to_netcdf(save_name_RMSE, mode='w')\n",
    "    print('Save to {}'.format(save_name_RMSE))"
   ]
  },
  {
   "cell_type": "markdown",
   "id": "05e871a8-bd28-4e9b-9dd2-7eeb228eb7fe",
   "metadata": {},
   "source": [
    "### RMSE (6 hourly spatial)"
   ]
  },
  {
   "cell_type": "code",
   "execution_count": 51,
   "id": "7c306f25-a23f-4fa3-b9fd-2e601c4d78f4",
   "metadata": {},
   "outputs": [],
   "source": [
    "model_names = ['fuxi_dry', 'fuxi_physics', 'IFS']\n",
    "IND_max = 1462\n",
    "INDs = np.arange(0, IND_max+50, 50)\n",
    "INDs[-1] = IND_max"
   ]
  },
  {
   "cell_type": "code",
   "execution_count": 52,
   "id": "089aef17-6d3b-4100-90d2-f9340a9b1bc8",
   "metadata": {},
   "outputs": [
    {
     "name": "stdout",
     "output_type": "stream",
     "text": [
      "Save to /glade/campaign/cisl/aiml/ksha/CREDIT_physics/VERIF/IFS/RMSE_spatial_240h_IFS.nc\n"
     ]
    }
   ],
   "source": [
    "VERIF = {}\n",
    "\n",
    "lead_pick = 240\n",
    "\n",
    "for model_name in model_names:\n",
    "    # file names to load\n",
    "    base_dir = conf[model_name]['save_loc_verif']\n",
    "\n",
    "    verif_lead_range = conf[model_name]['verif_lead_range']\n",
    "    path_RMSE_verif = base_dir + 'combined_rmse_spatial_{:04d}_{:04d}_{:03d}h_{}.nc'\n",
    "    \n",
    "    # file names to save\n",
    "    path_RMSE_save = base_dir + 'RMSE_spatial_{:03d}h_{}.nc'\n",
    "    \n",
    "    # load xarray.Dataset and merge all verified days\n",
    "    RMSE_verif = []\n",
    "    \n",
    "    for i, ind_start in enumerate(INDs[:-1]):\n",
    "        ind_end = INDs[i+1]\n",
    "        filename = path_RMSE_verif.format(\n",
    "            ind_start, ind_end, lead_pick, model_name)\n",
    "        \n",
    "        ds_verf_temp = xr.open_dataset(filename)\n",
    "        RMSE_verif.append(ds_verf_temp)\n",
    "    \n",
    "    # merge by concat\n",
    "    ds_RMSE_verif = xr.concat(RMSE_verif, dim='days')\n",
    "    \n",
    "    # save to one dictionary for some checking\n",
    "    VERIF['{}_RMSE'.format(model_name)] = ds_RMSE_verif\n",
    "    \n",
    "    # save to nc\n",
    "    save_name_RMSE = path_RMSE_save.format(lead_pick, model_name)\n",
    "    ds_RMSE_verif.to_netcdf(save_name_RMSE, mode='w')\n",
    "    print('Save to {}'.format(save_name_RMSE))"
   ]
  },
  {
   "cell_type": "markdown",
   "id": "3675b6df-00b2-4b54-ad33-ad29261dfba9",
   "metadata": {},
   "source": [
    "### RMSE (daily FuXi only)"
   ]
  },
  {
   "cell_type": "code",
   "execution_count": 5,
   "id": "a4f3fbcb-38a1-43e3-8ba3-0500d5da3f37",
   "metadata": {},
   "outputs": [],
   "source": [
    "model_names =  ['fuxi_dry', 'fuxi_physics']\n",
    "IND_max = 1462\n",
    "INDs = np.arange(0, IND_max+50, 50)\n",
    "INDs[-1] = IND_max"
   ]
  },
  {
   "cell_type": "code",
   "execution_count": 7,
   "id": "f4727306-97c2-464b-956c-1615ddbf0e1b",
   "metadata": {},
   "outputs": [
    {
     "name": "stdout",
     "output_type": "stream",
     "text": [
      "Save to /glade/campaign/cisl/aiml/ksha/CREDIT_physics/VERIF/fuxi_plevel_dry/RMSE_daily_006h_360h_fuxi_dry.nc\n",
      "Save to /glade/campaign/cisl/aiml/ksha/CREDIT_physics/VERIF/fuxi_plevel_physics/RMSE_daily_006h_360h_fuxi_physics.nc\n"
     ]
    }
   ],
   "source": [
    "VERIF = {}\n",
    "\n",
    "for model_name in model_names:\n",
    "    # file names to load\n",
    "    base_dir = conf[model_name]['save_loc_verif']\n",
    "    \n",
    "    verif_lead_range = conf[model_name]['verif_lead_range']\n",
    "    path_RMSE_verif = base_dir + 'combined_rmse_daily_{:04d}_{:04d}_{:03d}h_{:03d}h_{}.nc'\n",
    "    \n",
    "    # file names to save\n",
    "    path_RMSE_save = base_dir + 'RMSE_daily_{:03d}h_{:03d}h_{}.nc'\n",
    "    \n",
    "    # load xarray.Dataset and merge all verified days\n",
    "    RMSE_verif = []\n",
    "    \n",
    "    for i, ind_start in enumerate(INDs[:-1]):\n",
    "        ind_end = INDs[i+1]\n",
    "        filename = path_RMSE_verif.format(\n",
    "            ind_start, ind_end, verif_lead_range[0], verif_lead_range[-1], model_name)\n",
    "        \n",
    "        ds_verf_temp = xr.open_dataset(filename)\n",
    "        RMSE_verif.append(ds_verf_temp)\n",
    "    \n",
    "    # merge by concat\n",
    "    ds_RMSE_verif = xr.concat(RMSE_verif, dim='days')\n",
    "    \n",
    "    # save to one dictionary for some checking\n",
    "    VERIF['{}_RMSE'.format(model_name)] = ds_RMSE_verif\n",
    "    \n",
    "    # save to nc\n",
    "    save_name_RMSE = path_RMSE_save.format(verif_lead_range[0], verif_lead_range[-1], model_name)\n",
    "    # ds_RMSE_verif.to_netcdf(save_name_RMSE, mode='w')\n",
    "    print('Save to {}'.format(save_name_RMSE))"
   ]
  },
  {
   "cell_type": "markdown",
   "id": "25511911-4db4-4c9a-bb60-55742945ef8b",
   "metadata": {},
   "source": [
    "### RMSE (daily spatial FuXi only)"
   ]
  },
  {
   "cell_type": "code",
   "execution_count": 32,
   "id": "8164d6e0-d796-464e-b205-4c08c59e104b",
   "metadata": {},
   "outputs": [
    {
     "name": "stdout",
     "output_type": "stream",
     "text": [
      "Save to /glade/campaign/cisl/aiml/ksha/CREDIT_physics/VERIF/fuxi_plevel_dry/RMSE_spatial_daily_240h_fuxi_dry.nc\n",
      "Save to /glade/campaign/cisl/aiml/ksha/CREDIT_physics/VERIF/fuxi_plevel_physics/RMSE_spatial_daily_240h_fuxi_physics.nc\n"
     ]
    }
   ],
   "source": [
    "VERIF = {}\n",
    "\n",
    "lead_pick = 240\n",
    "\n",
    "for model_name in model_names:\n",
    "    # file names to load\n",
    "    base_dir = conf[model_name]['save_loc_verif']\n",
    "\n",
    "    verif_lead_range = conf[model_name]['verif_lead_range']\n",
    "    path_RMSE_verif = base_dir + 'combined_rmse_spatial_daily_{:04d}_{:04d}_{:03d}h_{}.nc'\n",
    "    \n",
    "    # file names to save\n",
    "    path_RMSE_save = base_dir + 'RMSE_spatial_daily_{:03d}h_{}.nc'\n",
    "    \n",
    "    # load xarray.Dataset and merge all verified days\n",
    "    RMSE_verif = []\n",
    "    \n",
    "    for i, ind_start in enumerate(INDs[:-1]):\n",
    "        ind_end = INDs[i+1]\n",
    "        filename = path_RMSE_verif.format(\n",
    "            ind_start, ind_end, lead_pick, model_name)\n",
    "        \n",
    "        ds_verf_temp = xr.open_dataset(filename)\n",
    "        RMSE_verif.append(ds_verf_temp)\n",
    "    \n",
    "    # merge by concat\n",
    "    ds_RMSE_verif = xr.concat(RMSE_verif, dim='days')\n",
    "    \n",
    "    # save to one dictionary for some checking\n",
    "    VERIF['{}_RMSE'.format(model_name)] = ds_RMSE_verif\n",
    "    \n",
    "    # save to nc\n",
    "    save_name_RMSE = path_RMSE_save.format(lead_pick, model_name)\n",
    "    ds_RMSE_verif.to_netcdf(save_name_RMSE, mode='w')\n",
    "    print('Save to {}'.format(save_name_RMSE))"
   ]
  },
  {
   "cell_type": "markdown",
   "id": "21eb4172-48d7-4c37-bae1-3affbe72398a",
   "metadata": {},
   "source": [
    "### Prepare data for visualizaiton (6 hourly)"
   ]
  },
  {
   "cell_type": "code",
   "execution_count": 55,
   "id": "0a4b895a-759d-49be-8530-d12d5ab8a77a",
   "metadata": {},
   "outputs": [],
   "source": [
    "# variables to visualize\n",
    "variable_levels = {\n",
    "    'Z': 500,\n",
    "    'T': 500,\n",
    "    'U': 850,\n",
    "    'V': 850,\n",
    "    'specific_total_water': 850,\n",
    "    'MSL': None,\n",
    "    'VAR_2T': None,\n",
    "    'VAR_10U': None,\n",
    "    'VAR_10V': None,\n",
    "}\n",
    "\n",
    "# variables to visualize\n",
    "variable_levels_IFS = {\n",
    "    'Z': 500,\n",
    "    'T': 500,\n",
    "    'U': 850,\n",
    "    'V': 850,\n",
    "    'Q': 850,\n",
    "    'MSL': None,\n",
    "    'VAR_2T': None,\n",
    "    'VAR_10U': None,\n",
    "    'VAR_10V': None,\n",
    "}"
   ]
  },
  {
   "cell_type": "code",
   "execution_count": 54,
   "id": "2225193d-55de-438c-9f9c-667c171fe40c",
   "metadata": {},
   "outputs": [],
   "source": [
    "model_names =  ['fuxi_dry', 'fuxi_physics']\n",
    "dict_save = {}\n",
    "\n",
    "for model_name in model_names:    \n",
    "    base_dir = conf[model_name]['save_loc_verif']\n",
    "    path_RMSE_verif = base_dir + 'RMSE_{:03d}h_{:03d}h_{}.nc'\n",
    "    save_name_RMSE = path_RMSE_verif.format(verif_lead_range[0], verif_lead_range[-1], model_name)\n",
    "    \n",
    "    ds_RMSE = xr.open_dataset(save_name_RMSE)\n",
    "    \n",
    "    for varname, level in variable_levels.items():\n",
    "        if level is not None:\n",
    "            RMSE_curve = ds_RMSE[varname].sel(level=level).values.mean(axis=0)\n",
    "            dict_save['{}_{}{}'.format(model_name, varname, level)] = RMSE_curve\n",
    "        else:\n",
    "            RMSE_curve = ds_RMSE[varname].values.mean(axis=0)\n",
    "            dict_save['{}_{}'.format(model_name, varname)] = RMSE_curve\n",
    "\n",
    "model_names =  ['IFS',]\n",
    "for model_name in model_names:\n",
    "    verif_lead_range = conf[model_name]['verif_lead_range']\n",
    "    \n",
    "    base_dir = conf[model_name]['save_loc_verif']\n",
    "    path_RMSE_verif = base_dir + 'RMSE_{:03d}h_{:03d}h_{}.nc'\n",
    "    save_name_RMSE = path_RMSE_verif.format(verif_lead_range[0], verif_lead_range[-1], model_name)\n",
    "    \n",
    "    ds_RMSE = xr.open_dataset(save_name_RMSE)\n",
    "    \n",
    "    for varname, level in variable_levels_IFS.items():\n",
    "        if level is not None:\n",
    "            RMSE_curve = ds_RMSE[varname].sel(level=level).values.mean(axis=0)\n",
    "            dict_save['{}_{}{}'.format(model_name, varname, level)] = RMSE_curve\n",
    "        else:\n",
    "            RMSE_curve = ds_RMSE[varname].values.mean(axis=0)\n",
    "            dict_save['{}_{}'.format(model_name, varname)] = RMSE_curve\n",
    "\n",
    "save_name = conf['qsub']['plot_data_loc'] + 'RMSE_line_graph.npy'\n",
    "# np.save(save_name, dict_save)"
   ]
  },
  {
   "cell_type": "code",
   "execution_count": 78,
   "id": "6f5351ba-a54b-4787-a9e2-b46db9fbe750",
   "metadata": {},
   "outputs": [],
   "source": [
    "model_names =  ['fuxi_dry', 'fuxi_physics']\n",
    "dict_save_spatial = {}\n",
    "lead_pick = 240\n",
    "\n",
    "for model_name in model_names:\n",
    "    base_dir = conf[model_name]['save_loc_verif']\n",
    "    path_RMSE_verif = base_dir + 'RMSE_spatial_{:03d}h_{}.nc'\n",
    "    \n",
    "    save_name_RMSE = path_RMSE_verif.format(lead_pick, model_name)\n",
    "    \n",
    "    ds_RMSE_spatial = xr.open_dataset(save_name_RMSE)\n",
    "\n",
    "    for varname, level in variable_levels.items():\n",
    "        if level is not None:\n",
    "            RMSE_spatial = ds_RMSE_spatial[varname].sel(level=level).isel(time=0).values.mean(axis=0)\n",
    "            dict_save_spatial['{}_{}{}'.format(model_name, varname, level)] = RMSE_spatial\n",
    "        else:\n",
    "            RMSE_spatial = ds_RMSE_spatial[varname].isel(time=0).values.mean(axis=0)\n",
    "            dict_save_spatial['{}_{}'.format(model_name, varname)] = RMSE_spatial\n",
    "\n",
    "model_names =  ['IFS',]\n",
    "for model_name in model_names:\n",
    "    base_dir = conf[model_name]['save_loc_verif']\n",
    "    path_RMSE_verif = base_dir + 'RMSE_spatial_{:03d}h_{}.nc'\n",
    "    \n",
    "    save_name_RMSE = path_RMSE_verif.format(lead_pick, model_name)\n",
    "    \n",
    "    ds_RMSE_spatial = xr.open_dataset(save_name_RMSE)\n",
    "\n",
    "    for varname, level in variable_levels_IFS.items():\n",
    "        if level is not None:\n",
    "            RMSE_spatial = ds_RMSE_spatial[varname].sel(level=level).isel(time=0).values.mean(axis=0)\n",
    "            dict_save_spatial['{}_{}{}'.format(model_name, varname, level)] = RMSE_spatial\n",
    "        else:\n",
    "            RMSE_spatial = ds_RMSE_spatial[varname].isel(time=0).values.mean(axis=0)\n",
    "            dict_save_spatial['{}_{}'.format(model_name, varname)] = RMSE_spatial\n",
    "\n",
    "save_name = conf['qsub']['plot_data_loc'] + 'RMSE_spatial_graph.npy'\n",
    "# np.save(save_name, dict_save_spatial)"
   ]
  },
  {
   "cell_type": "markdown",
   "id": "e386fc43-5c9b-4018-9750-96c4402cb728",
   "metadata": {},
   "source": [
    "### Prepare data for visualizaiton (daily)"
   ]
  },
  {
   "cell_type": "code",
   "execution_count": 34,
   "id": "2412ec99-19c4-464f-8982-aeaa45ba5c5e",
   "metadata": {},
   "outputs": [],
   "source": [
    "# variables to visualize\n",
    "variable_levels = {\n",
    "    'evaporation': None,\n",
    "    'total_precipitation': None,\n",
    "    'surface_net_solar_radiation': None,\n",
    "    'surface_net_thermal_radiation': None,\n",
    "    'surface_sensible_heat_flux': None,\n",
    "    'surface_latent_heat_flux': None,\n",
    "    'top_net_solar_radiation': None,\n",
    "    'top_net_thermal_radiation': None,\n",
    "}"
   ]
  },
  {
   "cell_type": "code",
   "execution_count": 37,
   "id": "9a1a9f97-4373-4d94-aec2-65e975bf5dda",
   "metadata": {},
   "outputs": [],
   "source": [
    "model_names =  ['fuxi_dry', 'fuxi_physics']\n",
    "dict_save = {}\n",
    "\n",
    "for model_name in model_names:    \n",
    "    base_dir = conf[model_name]['save_loc_verif']\n",
    "    path_RMSE_verif = base_dir + 'RMSE_daily_{:03d}h_{:03d}h_{}.nc'\n",
    "    save_name_RMSE = path_RMSE_verif.format(verif_lead_range[0], verif_lead_range[-1], model_name)\n",
    "    \n",
    "    ds_RMSE = xr.open_dataset(save_name_RMSE)\n",
    "    \n",
    "    for varname, level in variable_levels.items():\n",
    "        if level is not None:\n",
    "            RMSE_curve = ds_RMSE[varname].sel(level=level).values.mean(axis=0)\n",
    "            dict_save['{}_{}{}'.format(model_name, varname, level)] = RMSE_curve\n",
    "        else:\n",
    "            RMSE_curve = ds_RMSE[varname].values.mean(axis=0)\n",
    "            dict_save['{}_{}'.format(model_name, varname)] = RMSE_curve\n",
    "\n",
    "save_name = conf['qsub']['plot_data_loc'] + 'RMSE_daily_line_graph.npy'\n",
    "# np.save(save_name, dict_save)"
   ]
  },
  {
   "cell_type": "code",
   "execution_count": 38,
   "id": "bee3ebfa-c9fe-4880-8ebd-69d77aba5b97",
   "metadata": {},
   "outputs": [],
   "source": [
    "model_names =  ['fuxi_dry', 'fuxi_physics']\n",
    "dict_save_spatial = {}\n",
    "lead_pick = 240\n",
    "\n",
    "for model_name in model_names:\n",
    "    base_dir = conf[model_name]['save_loc_verif']\n",
    "    path_RMSE_verif = base_dir + 'RMSE_spatial_daily_{:03d}h_{}.nc'\n",
    "    \n",
    "    save_name_RMSE = path_RMSE_verif.format(lead_pick, model_name)\n",
    "    \n",
    "    ds_RMSE_spatial = xr.open_dataset(save_name_RMSE)\n",
    "\n",
    "    for varname, level in variable_levels.items():\n",
    "        if level is not None:\n",
    "            RMSE_spatial = ds_RMSE_spatial[varname].sel(level=level).isel(time=0).values.mean(axis=0)\n",
    "            dict_save_spatial['{}_{}{}'.format(model_name, varname, level)] = RMSE_spatial\n",
    "        else:\n",
    "            RMSE_spatial = ds_RMSE_spatial[varname].isel(time=0).values.mean(axis=0)\n",
    "            dict_save_spatial['{}_{}'.format(model_name, varname)] = RMSE_spatial\n",
    "            \n",
    "save_name = conf['qsub']['plot_data_loc'] + 'RMSE_daily_spatial_graph.npy'\n",
    "# np.save(save_name, dict_save_spatial)"
   ]
  },
  {
   "cell_type": "markdown",
   "id": "889a6523-62e0-4f89-a20b-4fdb7cf8ad85",
   "metadata": {},
   "source": [
    "## SEEPS"
   ]
  },
  {
   "cell_type": "code",
   "execution_count": 97,
   "id": "6589469f-ed70-4c66-9cee-b76b3bff41a9",
   "metadata": {},
   "outputs": [],
   "source": [
    "model_names = ['fuxi_dry', 'fuxi_physics', 'IFS']\n",
    "IND_max = 1462\n",
    "INDs = np.arange(0, IND_max+50, 50)\n",
    "INDs[-1] = IND_max"
   ]
  },
  {
   "cell_type": "code",
   "execution_count": 99,
   "id": "3369159e-87e8-4f4e-a126-999d71c648bd",
   "metadata": {},
   "outputs": [
    {
     "name": "stdout",
     "output_type": "stream",
     "text": [
      "Save to /glade/campaign/cisl/aiml/ksha/CREDIT_physics/VERIF/fuxi_plevel_dry/SEEPS_006h_360h_fuxi_dry.nc\n",
      "Save to /glade/campaign/cisl/aiml/ksha/CREDIT_physics/VERIF/fuxi_plevel_physics/SEEPS_006h_360h_fuxi_physics.nc\n",
      "Save to /glade/campaign/cisl/aiml/ksha/CREDIT_physics/VERIF/IFS/SEEPS_006h_240h_IFS.nc\n"
     ]
    }
   ],
   "source": [
    "VERIF = {}\n",
    "\n",
    "for model_name in model_names:\n",
    "    # file names to load\n",
    "    base_dir = conf[model_name]['save_loc_verif']\n",
    "    \n",
    "    verif_lead_range = conf[model_name]['verif_lead_range']\n",
    "    path_SEEPS_verif = base_dir + 'combined_SEEPS_{:04d}_{:04d}_{:03d}h_{:03d}h_{}.nc'\n",
    "    \n",
    "    # file names to save\n",
    "    path_SEEPS_save = base_dir + 'SEEPS_{:03d}h_{:03d}h_{}.nc'\n",
    "    \n",
    "    # load xarray.Dataset and merge all verified days\n",
    "    SEEPS_verif = []\n",
    "    \n",
    "    for i, ind_start in enumerate(INDs[:-1]):\n",
    "        ind_end = INDs[i+1]\n",
    "        filename = path_SEEPS_verif.format(\n",
    "            ind_start, ind_end, verif_lead_range[0], verif_lead_range[-1], model_name)\n",
    "        \n",
    "        ds_verf_temp = xr.open_dataset(filename)\n",
    "        SEEPS_verif.append(ds_verf_temp)\n",
    "    \n",
    "    # merge by concat\n",
    "    ds_SEEPS_verif = xr.concat(SEEPS_verif, dim='days')\n",
    "    \n",
    "    # save to one dictionary for some checking\n",
    "    VERIF['{}_SEEPS'.format(model_name)] = ds_SEEPS_verif\n",
    "    \n",
    "    # save to nc\n",
    "    save_name_SEEPS = path_SEEPS_save.format(verif_lead_range[0], verif_lead_range[-1], model_name)\n",
    "    ds_SEEPS_verif.to_netcdf(save_name_SEEPS, mode='w')\n",
    "    print('Save to {}'.format(save_name_SEEPS))"
   ]
  },
  {
   "cell_type": "markdown",
   "id": "1adc83a1-0a2a-4432-a9a2-a1be2104c6ce",
   "metadata": {},
   "source": [
    "### Prepare data for visualizaiton"
   ]
  },
  {
   "cell_type": "code",
   "execution_count": 100,
   "id": "f39c5a79-e7a0-44f6-8f51-2519fbdc397a",
   "metadata": {},
   "outputs": [],
   "source": [
    "# variables to visualize\n",
    "variable_levels = {\n",
    "    'total_precipitation': None,\n",
    "}"
   ]
  },
  {
   "cell_type": "code",
   "execution_count": 102,
   "id": "b7f318b3-bc99-481d-8def-9ff4cf3e4a1d",
   "metadata": {},
   "outputs": [],
   "source": [
    "model_names = ['fuxi_dry', 'fuxi_physics', 'IFS']\n",
    "dict_save = {}\n",
    "\n",
    "for model_name in model_names:\n",
    "    \n",
    "    verif_lead_range = conf[model_name]['verif_lead_range']\n",
    "    \n",
    "    base_dir = conf[model_name]['save_loc_verif']\n",
    "    path_SEEPS_verif = base_dir + 'SEEPS_{:03d}h_{:03d}h_{}.nc'\n",
    "    save_name_SEEPS = path_SEEPS_verif.format(verif_lead_range[0], verif_lead_range[-1], model_name)\n",
    "    \n",
    "    ds_SEEPS = xr.open_dataset(save_name_SEEPS)\n",
    "    \n",
    "    for varname, level in variable_levels.items():\n",
    "        if level is not None:\n",
    "            SEEPS_curve = ds_SEEPS[varname].sel(level=level).values.mean(axis=0)\n",
    "            dict_save['{}_{}{}'.format(model_name, varname, level)] = SEEPS_curve\n",
    "        else:\n",
    "            SEEPS_curve = ds_SEEPS[varname].values.mean(axis=0)\n",
    "            dict_save['{}_{}'.format(model_name, varname)] = SEEPS_curve\n",
    "\n",
    "save_name = conf['qsub']['plot_data_loc'] + 'SEEPS_line_graph.npy'\n",
    "# np.save(save_name, dict_save)"
   ]
  },
  {
   "cell_type": "markdown",
   "id": "3a64e207-c439-4cc4-a6c0-610b87e9c8a0",
   "metadata": {},
   "source": [
    "## Zonal energy spectrum"
   ]
  },
  {
   "cell_type": "code",
   "execution_count": 4,
   "id": "fe358404-3800-4661-a2e1-9fa8840b90c2",
   "metadata": {},
   "outputs": [],
   "source": [
    "model_names =  ['fuxi_dry', 'fuxi_physics', 'IFS']\n",
    "IND_max = 1462\n",
    "INDs = np.arange(0, IND_max+50, 50)\n",
    "INDs[-1] = IND_max"
   ]
  },
  {
   "cell_type": "code",
   "execution_count": 6,
   "id": "c7a567f4-c252-4798-832a-4638111ba998",
   "metadata": {},
   "outputs": [
    {
     "name": "stdout",
     "output_type": "stream",
     "text": [
      "Save to /glade/campaign/cisl/aiml/ksha/CREDIT_physics/VERIF/fuxi_plevel_dry/ZES_024h_fuxi_dry.nc\n",
      "Save to /glade/campaign/cisl/aiml/ksha/CREDIT_physics/VERIF/fuxi_plevel_dry/ZES_120h_fuxi_dry.nc\n",
      "Save to /glade/campaign/cisl/aiml/ksha/CREDIT_physics/VERIF/fuxi_plevel_dry/ZES_240h_fuxi_dry.nc\n",
      "Save to /glade/campaign/cisl/aiml/ksha/CREDIT_physics/VERIF/fuxi_plevel_physics/ZES_024h_fuxi_physics.nc\n",
      "Save to /glade/campaign/cisl/aiml/ksha/CREDIT_physics/VERIF/fuxi_plevel_physics/ZES_120h_fuxi_physics.nc\n",
      "Save to /glade/campaign/cisl/aiml/ksha/CREDIT_physics/VERIF/fuxi_plevel_physics/ZES_240h_fuxi_physics.nc\n",
      "Save to /glade/campaign/cisl/aiml/ksha/CREDIT_physics/VERIF/IFS/ZES_024h_IFS.nc\n",
      "Save to /glade/campaign/cisl/aiml/ksha/CREDIT_physics/VERIF/IFS/ZES_120h_IFS.nc\n",
      "Save to /glade/campaign/cisl/aiml/ksha/CREDIT_physics/VERIF/IFS/ZES_240h_IFS.nc\n"
     ]
    }
   ],
   "source": [
    "VERIF = {}\n",
    "lead_names =[24, 120, 240]\n",
    "\n",
    "for model_name in model_names:\n",
    "\n",
    "    # file name to open\n",
    "    path_ZES_verif = conf[model_name]['save_loc_verif']+'combined_zes_{}_{}_{}_lead{}.nc'\n",
    "    # file names to save\n",
    "    path_ZES_save = conf[model_name]['save_loc_verif']+'ZES_{:03d}h_{}.nc'\n",
    "    # verified lead times\n",
    "    for lead_name in lead_names:\n",
    "        ZES_verif = []\n",
    "        # load xarray.Dataset and merge all verified days\n",
    "        for i, ind_start in enumerate(INDs[:-1]):\n",
    "            ind_end = INDs[i+1]\n",
    "            filename = path_ZES_verif.format(ind_start, ind_end, model_name, lead_name)\n",
    "            ds_verf_temp = xr.open_dataset(filename)\n",
    "            ZES_verif.append(ds_verf_temp)\n",
    "    \n",
    "        # merge by concat\n",
    "        ds_ZES_verif = xr.concat(ZES_verif, dim='time')\n",
    "\n",
    "        # save to one dictionary for some checking\n",
    "        VERIF['{}_ZES_{}'.format(model_name, lead_name)] = ds_ZES_verif\n",
    "\n",
    "        # save to nc\n",
    "        save_name_ZES = path_ZES_save.format(lead_name, model_name)\n",
    "        #ds_ZES_verif.to_netcdf(save_name_ZES)\n",
    "        print('Save to {}'.format(save_name_ZES))"
   ]
  },
  {
   "cell_type": "code",
   "execution_count": 28,
   "id": "0e2258be-6041-4f22-a220-ca57e4d826e3",
   "metadata": {},
   "outputs": [
    {
     "name": "stdout",
     "output_type": "stream",
     "text": [
      "Save to /glade/campaign/cisl/aiml/ksha/CREDIT_physics/PLOT_data/ZES_ALL.npy\n"
     ]
    }
   ],
   "source": [
    "path_clim = conf['ERA5_weatherbench']['save_loc_clim']+'combined_zes_clim.nc'\n",
    "clim_scores = xr.open_dataset(path_clim)\n",
    "\n",
    "model_names = ['fuxi_dry', 'fuxi_physics', 'IFS']\n",
    "\n",
    "PLOT_data = {}\n",
    "\n",
    "for model_name in model_names:\n",
    "    for lead_name in lead_names:\n",
    "        # =============================================================================================== #\n",
    "        # RMSE\n",
    "        np_theta = np.array(VERIF['{}_ZES_{}'.format(model_name, lead_name)]['theta'])\n",
    "        np_u = np.array(VERIF['{}_ZES_{}'.format(model_name, lead_name)]['U'])\n",
    "        np_v = np.array(VERIF['{}_ZES_{}'.format(model_name, lead_name)]['V'])\n",
    "        KE = 0.5*(np_u + np_v)\n",
    "\n",
    "        PLOT_data['ZES_{}_{}_theta'.format(model_name, lead_name)] = np.mean(np_theta, axis=0)[0, :]\n",
    "        PLOT_data['ZES_{}_{}_KE'.format(model_name, lead_name)] = np.mean(KE, axis=0)[0, :]\n",
    "\n",
    "# save RMSE clim\n",
    "np_theta = np.array(clim_scores['theta'])\n",
    "np_u = np.array(clim_scores['U'])\n",
    "np_v = np.array(clim_scores['V'])\n",
    "KE = 0.5*(np_u + np_v)\n",
    "\n",
    "PLOT_data['ZES_ERA5_theta'] = np.mean(np_theta, axis=0)[0, :]\n",
    "PLOT_data['ZES_ERA5_KE'] = np.mean(KE, axis=0)[0, :]\n",
    "\n",
    "# Save\n",
    "save_name = conf['qsub']['plot_data_loc'] + 'ZES_ALL.npy'\n",
    "np.save(save_name, PLOT_data)\n",
    "print(f'Save to {save_name}')"
   ]
  },
  {
   "cell_type": "markdown",
   "id": "e30f593b-3f6a-4704-a8b5-fc56e74444a3",
   "metadata": {},
   "source": [
    "## Spatial correlation"
   ]
  },
  {
   "cell_type": "code",
   "execution_count": 5,
   "id": "efea63b6-5293-4ac6-8e1d-6138f23f1beb",
   "metadata": {},
   "outputs": [],
   "source": [
    "IND_max = 4*(366+365)\n",
    "INDs = np.arange(0, IND_max+50, 50)\n",
    "INDs[-1] = IND_max"
   ]
  },
  {
   "cell_type": "code",
   "execution_count": 10,
   "id": "8f57c909-ba77-4b98-980f-d2cdf77fb08d",
   "metadata": {},
   "outputs": [
    {
     "name": "stdout",
     "output_type": "stream",
     "text": [
      "Save to: /glade/campaign/cisl/aiml/ksha/CREDIT_physics/VERIF/ERA5_clim/spatial_CORR_ERA5.nc\n",
      "Save to /glade/campaign/cisl/aiml/ksha/CREDIT_physics/PLOT_data/CORR_CREDIT_2020_2022_ERA5.npy\n"
     ]
    }
   ],
   "source": [
    "VERIF = {}\n",
    "path_CORR_save = conf['ERA5_weatherbench']['save_loc_clim']+'spatial_CORR_ERA5.nc'\n",
    "\n",
    "# =========================================================== #\n",
    "# 6 hourly ERA5\n",
    "ERA5_corr = []\n",
    "for i, ind_start in enumerate(INDs[:-1]):\n",
    "    verif_ind_start = ind_start\n",
    "    verif_ind_end = INDs[i+1]\n",
    "    filename = conf['ERA5_weatherbench']['save_loc_clim']+'spatial_corr_{:04d}_{:04d}_ERA5.nc'.format(\n",
    "        verif_ind_start, verif_ind_end)\n",
    "    ERA5_corr.append(xr.open_dataset(filename))\n",
    "    \n",
    "ERA5_corr_verif = xr.concat(ERA5_corr, dim='day')\n",
    "ERA5_corr_verif.to_netcdf(path_CORR_save)\n",
    "print('Save to: {}'.format(path_CORR_save))\n",
    "\n",
    "ERA5_corr_mean = np.mean(ERA5_corr_verif['correlation'].values, axis=0)\n",
    "VERIF['ERA5_6h'] = ERA5_corr_mean\n",
    "\n",
    "save_name = conf['qsub']['plot_data_loc'] + 'CORR_CREDIT_2020_2022_ERA5.npy'\n",
    "np.save(save_name, VERIF)\n",
    "print('Save to {}'.format(save_name))"
   ]
  },
  {
   "cell_type": "code",
   "execution_count": 11,
   "id": "6508f8cc-a1c7-4c68-884c-f4134cdb9af8",
   "metadata": {},
   "outputs": [],
   "source": []
  },
  {
   "cell_type": "code",
   "execution_count": 12,
   "id": "7f7f340e-2008-42af-9ece-b00d5eaedd3e",
   "metadata": {},
   "outputs": [],
   "source": [
    "IND_max = 1462\n",
    "INDs = np.arange(0, IND_max+50, 50)\n",
    "INDs[-1] = IND_max"
   ]
  },
  {
   "cell_type": "code",
   "execution_count": 16,
   "id": "50f326f9-d11b-4c23-9314-8feb2b659e54",
   "metadata": {},
   "outputs": [
    {
     "name": "stdout",
     "output_type": "stream",
     "text": [
      "Save to: /glade/campaign/cisl/aiml/ksha/CREDIT_physics/VERIF/fuxi_plevel_dry/spatial_corr_fuxi_dry.nc\n",
      "Save to: /glade/campaign/cisl/aiml/ksha/CREDIT_physics/VERIF/fuxi_plevel_physics/spatial_corr_fuxi_physics.nc\n",
      "Save to /glade/campaign/cisl/aiml/ksha/CREDIT_physics/PLOT_data/CORR_CREDIT_2020_2022_models.npy\n"
     ]
    }
   ],
   "source": [
    "model_names = ['fuxi_dry', 'fuxi_physics']\n",
    "\n",
    "VERIF = {}\n",
    "for model_name in model_names:\n",
    "    model_corr = []\n",
    "    for i, ind_start in enumerate(INDs[:-1]):\n",
    "        # ========================== #\n",
    "        verif_ind_start = ind_start\n",
    "        verif_ind_end = INDs[i+1]\n",
    "        filename = conf[model_name]['save_loc_verif']+'spatial_corr_{:04d}_{:04d}_240h_{}.nc'.format(\n",
    "            verif_ind_start, verif_ind_end, model_name)\n",
    "        model_corr.append(xr.open_dataset(filename))\n",
    "        \n",
    "    model_corr_verif = xr.concat(model_corr, dim='day')\n",
    "    path_CORR_save = conf[model_name]['save_loc_verif']+'spatial_corr_{}.nc'.format(model_name)\n",
    "    model_corr_verif.to_netcdf(path_CORR_save)\n",
    "    print('Save to: {}'.format(path_CORR_save))\n",
    "    \n",
    "    model_corr_mean = np.mean(model_corr_verif['correlation'].values, axis=0)\n",
    "    VERIF[model_name] = model_corr_mean\n",
    "\n",
    "save_name = conf['qsub']['plot_data_loc'] + 'CORR_CREDIT_2020_2022_models.npy'\n",
    "np.save(save_name, VERIF)\n",
    "print('Save to {}'.format(save_name))"
   ]
  },
  {
   "cell_type": "code",
   "execution_count": null,
   "id": "6db7b81d-1de8-4145-9e21-e2caee9f6bbd",
   "metadata": {},
   "outputs": [],
   "source": []
  }
 ],
 "metadata": {
  "kernelspec": {
   "display_name": "Python 3 (ipykernel)",
   "language": "python",
   "name": "python3"
  },
  "language_info": {
   "codemirror_mode": {
    "name": "ipython",
    "version": 3
   },
   "file_extension": ".py",
   "mimetype": "text/x-python",
   "name": "python",
   "nbconvert_exporter": "python",
   "pygments_lexer": "ipython3",
   "version": "3.11.9"
  }
 },
 "nbformat": 4,
 "nbformat_minor": 5
}
