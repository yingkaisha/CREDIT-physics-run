{
 "cells": [
  {
   "cell_type": "markdown",
   "id": "ac814c7e-dee1-4b45-9239-8d9cd98b9ada",
   "metadata": {},
   "source": [
    "# Calculate RMSE"
   ]
  },
  {
   "cell_type": "code",
   "execution_count": 1,
   "id": "8deb4be5-9191-4fb6-afb1-9b6c2351f719",
   "metadata": {},
   "outputs": [],
   "source": [
    "import os\n",
    "import sys\n",
    "import yaml\n",
    "from glob import glob\n",
    "from datetime import datetime, timedelta\n",
    "\n",
    "import numpy as np\n",
    "import xarray as xr\n",
    "import pandas as pd"
   ]
  },
  {
   "cell_type": "code",
   "execution_count": 2,
   "id": "cbb5d545-cc77-464d-9704-173ea0a307c0",
   "metadata": {},
   "outputs": [],
   "source": [
    "import matplotlib.pyplot as plt\n",
    "%matplotlib inline"
   ]
  },
  {
   "cell_type": "code",
   "execution_count": 3,
   "id": "4f276d5d-e0b9-4639-911f-44566f18e248",
   "metadata": {},
   "outputs": [],
   "source": [
    "sys.path.insert(0, os.path.realpath('../libs/'))\n",
    "import verif_utils as vu"
   ]
  },
  {
   "cell_type": "code",
   "execution_count": 4,
   "id": "04614252-cb60-44ef-afa4-3732f1a34dae",
   "metadata": {},
   "outputs": [],
   "source": [
    "config_name = os.path.realpath('verif_config.yml')\n",
    "\n",
    "with open(config_name, 'r') as stream:\n",
    "    conf = yaml.safe_load(stream)"
   ]
  },
  {
   "cell_type": "code",
   "execution_count": 5,
   "id": "9df393c4-af29-4ef1-857c-403bd2342dcb",
   "metadata": {},
   "outputs": [
    {
     "name": "stdout",
     "output_type": "stream",
     "text": [
      "Verifying lead times: [6, 12, 18, 24, 30, 36, 42, 48, 54, 60, 66, 72, 78, 84, 90, 96, 102, 108, 114, 120, 126, 132, 138, 144, 150, 156, 162, 168, 174, 180, 186, 192, 198, 204, 210, 216, 222, 228, 234, 240, 246, 252, 258, 264, 270, 276, 282, 288, 294, 300, 306, 312, 318, 324, 330, 336, 342, 348, 354, 360]\n",
      "Verifying lead indices: [0, 1, 2, 3, 4, 5, 6, 7, 8, 9, 10, 11, 12, 13, 14, 15, 16, 17, 18, 19, 20, 21, 22, 23, 24, 25, 26, 27, 28, 29, 30, 31, 32, 33, 34, 35, 36, 37, 38, 39, 40, 41, 42, 43, 44, 45, 46, 47, 48, 49, 50, 51, 52, 53, 54, 55, 56, 57, 58, 59]\n"
     ]
    }
   ],
   "source": [
    "model_name = 'fuxi_dry'\n",
    "lead_range = conf[model_name]['lead_range']\n",
    "verif_lead_range = conf[model_name]['verif_lead_range']\n",
    "\n",
    "leads_exist = list(np.arange(lead_range[0], lead_range[-1]+lead_range[0], lead_range[0]))\n",
    "leads_verif = list(np.arange(verif_lead_range[0], verif_lead_range[-1]+verif_lead_range[0], verif_lead_range[0]))\n",
    "ind_lead = vu.lead_to_index(leads_exist, leads_verif)\n",
    "\n",
    "print('Verifying lead times: {}'.format(leads_verif))\n",
    "print('Verifying lead indices: {}'.format(ind_lead))"
   ]
  },
  {
   "cell_type": "code",
   "execution_count": 6,
   "id": "78708828-93ce-4ac9-80dd-5f9b40cd80a4",
   "metadata": {},
   "outputs": [],
   "source": [
    "verif_ind_start = 0; verif_ind_end = 3\n",
    "path_verif = conf[model_name]['save_loc_verif']+'combined_rmse_daily_{:04d}_{:04d}_{:03d}h_{:03d}h_{}.nc'.format(\n",
    "    verif_ind_start, verif_ind_end, verif_lead_range[0], verif_lead_range[-1], model_name)"
   ]
  },
  {
   "cell_type": "markdown",
   "id": "7bbb12c4-f60e-4398-adde-bfb7367c544d",
   "metadata": {},
   "source": [
    "## Verification setup"
   ]
  },
  {
   "cell_type": "code",
   "execution_count": 7,
   "id": "5d9d3246-64ea-497c-aeb2-9702b62fe591",
   "metadata": {},
   "outputs": [],
   "source": [
    "# ---------------------------------------------------------------------------------------- #\n",
    "# ERA5 verif target\n",
    "filename_ERA5 = sorted(glob(conf['ERA5_ours']['save_loc']))\n",
    "\n",
    "# pick years\n",
    "year_range = conf['ERA5_ours']['year_range']\n",
    "years_pick = np.arange(year_range[0], year_range[1]+1, 1).astype(str)\n",
    "filename_ERA5 = [fn for fn in filename_ERA5 if any(year in fn for year in years_pick)]\n",
    "\n",
    "# merge yearly ERA5 as one\n",
    "ds_ERA5 = [vu.get_forward_data(fn) for fn in filename_ERA5]\n",
    "ds_ERA5_merge = xr.concat(ds_ERA5, dim='time')\n",
    "\n",
    "# ---------------------------------------------------------------------------------------- #\n",
    "# forecast\n",
    "filename_OURS = sorted(glob(conf[model_name]['save_loc_gather']+'*.nc'))\n",
    "\n",
    "# pick years\n",
    "year_range = conf[model_name]['year_range']\n",
    "years_pick = np.arange(year_range[0], year_range[1]+1, 1).astype(str)\n",
    "filename_OURS = [fn for fn in filename_OURS if any(year in fn for year in years_pick)]\n",
    "# filename_OURS = [fn for fn in filename_OURS if '00Z' in fn]\n",
    "\n",
    "L_max = len(filename_OURS)\n",
    "assert verif_ind_end <= L_max, 'verified indices (days) exceeds the max index available'\n",
    "\n",
    "filename_OURS = filename_OURS[verif_ind_start:verif_ind_end]\n",
    "\n",
    "# latitude weighting\n",
    "lat = xr.open_dataset(filename_OURS[0])[\"latitude\"]\n",
    "w_lat = np.cos(np.deg2rad(lat))\n",
    "w_lat = w_lat / w_lat.mean()"
   ]
  },
  {
   "cell_type": "code",
   "execution_count": 8,
   "id": "73e1a96d-b962-4d71-a740-cb48bc1c9a3c",
   "metadata": {},
   "outputs": [],
   "source": [
    "variable_levels = {\n",
    "    'evaporation': None,\n",
    "    'total_precipitation': None,\n",
    "    'surface_net_solar_radiation': None,\n",
    "    'surface_net_thermal_radiation': None,\n",
    "    'surface_sensible_heat_flux': None,\n",
    "    'surface_latent_heat_flux': None,\n",
    "    'top_net_solar_radiation': None,\n",
    "    'top_net_thermal_radiation': None,\n",
    "}"
   ]
  },
  {
   "cell_type": "code",
   "execution_count": 17,
   "id": "55ec33f8-e8ac-4d6a-aac8-f7b086991b53",
   "metadata": {},
   "outputs": [],
   "source": [
    "def accum_6h_24h(ds_ours, ini=0, copy=True):\n",
    "    h_shift = ini + 6\n",
    "    h_convert_ending_time = 24 + ini\n",
    "    \n",
    "    if copy:\n",
    "        ds_ours_shift = ds_ours.copy(deep=True)\n",
    "        # convert to start time to work with xarray resample\n",
    "        ds_ours_shift['time'] = ds_ours_shift['time'] - pd.Timedelta(hours=h_shift)\n",
    "        # accumulate\n",
    "        ds_ours_24h = ds_ours_shift.resample(time='24h').sum()\n",
    "    else:\n",
    "        ds_ours['time'] = ds_ours['time'] - pd.Timedelta(hours=h_shift)\n",
    "        ds_ours_24h = ds_ours.resample(time='24h').sum()\n",
    "        \n",
    "    ds_ours_24h['time'] = ds_ours_24h['time'] + pd.Timedelta(hours=h_convert_ending_time)\n",
    "    \n",
    "    return ds_ours_24h"
   ]
  },
  {
   "cell_type": "code",
   "execution_count": 18,
   "id": "62b53182-2b2e-40f3-b265-0a250e7d0246",
   "metadata": {},
   "outputs": [],
   "source": [
    "# ---------------------------------------------------------------------------------------- #\n",
    "# RMSE compute\n",
    "verif_results = []\n",
    "\n",
    "for fn_ours in filename_OURS[:1]:\n",
    "    # detect 00Z vs 12Z\n",
    "    ini = int(fn_ours[-6:-4])\n",
    "    \n",
    "    ds_ours = xr.open_dataset(fn_ours)\n",
    "    ds_ours = ds_ours.isel(time=ind_lead)\n",
    "    ds_ours = vu.ds_subset_everything(ds_ours, variable_levels)\n",
    "    \n",
    "    # ------------------------------------------- #\n",
    "    # convert neg precip to 0 before accumulation \n",
    "    ds_ours['total_precipitation'] = xr.where(\n",
    "        ds_ours['total_precipitation'] < 0, 0, ds_ours['total_precipitation']\n",
    "    )\n",
    "    ds_ours_24h = accum_6h_24h(ds_ours, ini)\n",
    "    ds_ours_24h = ds_ours_24h.compute()\n",
    "\n",
    "    ds_target = ds_ERA5_merge.sel(time=ds_ours['time'])\n",
    "    ds_target = vu.ds_subset_everything(ds_target, variable_levels)\n",
    "    ds_target_24h = accum_6h_24h(ds_target, ini)\n",
    "    ds_target_24h = ds_target_24h.compute()\n",
    "    \n",
    "    # RMSE with latitude-based cosine weighting (check w_lat)\n",
    "    RMSE = np.sqrt(\n",
    "        (w_lat * (ds_ours_24h - ds_target_24h)**2).mean(['latitude', 'longitude'])\n",
    "    )\n",
    "    \n",
    "    verif_results.append(RMSE.drop_vars('time'))\n",
    "    \n",
    "# Combine verif results\n",
    "ds_verif_24h = xr.concat(verif_results, dim='days')\n",
    "\n",
    "# # Save the combined dataset\n",
    "# print('Save to {}'.format(path_verif))\n",
    "# #ds_verif_24h.to_netcdf(path_verif)"
   ]
  },
  {
   "cell_type": "code",
   "execution_count": null,
   "id": "c270725c-ea9e-4f9a-b46f-290014e249b2",
   "metadata": {},
   "outputs": [],
   "source": []
  },
  {
   "cell_type": "code",
   "execution_count": 11,
   "id": "3dbbf00c-d2d6-4e57-a2e3-f95063184af8",
   "metadata": {},
   "outputs": [
    {
     "data": {
      "text/plain": [
       "[<matplotlib.lines.Line2D at 0x147a5bd3e910>]"
      ]
     },
     "execution_count": 11,
     "metadata": {},
     "output_type": "execute_result"
    },
    {
     "data": {
      "image/png": "[encoded data removed]",
      "text/plain": [
       "<Figure size 640x480 with 1 Axes>"
      ]
     },
     "metadata": {},
     "output_type": "display_data"
    }
   ],
   "source": [
    "plt.plot(np.linspace(0, 1, 15), ds_verif_24h['total_precipitation'].values.mean(axis=0)/4)"
   ]
  },
  {
   "cell_type": "code",
   "execution_count": 21,
   "id": "7f68de45-8f27-4d48-b611-f81496154c1e",
   "metadata": {},
   "outputs": [
    {
     "data": {
      "text/plain": [
       "array([0.00269268, 0.00362698, 0.00425139, 0.00468999, 0.0048198 ,\n",
       "       0.00512933, 0.00580248, 0.00576582, 0.00613223, 0.00657428,\n",
       "       0.00698309, 0.0074356 , 0.00739698, 0.00749413, 0.00759528],\n",
       "      dtype=float32)"
      ]
     },
     "execution_count": 21,
     "metadata": {},
     "output_type": "execute_result"
    }
   ],
   "source": [
    "ds_verif_24h['total_precipitation'].values.mean(axis=0)"
   ]
  },
  {
   "cell_type": "code",
   "execution_count": null,
   "id": "2c347cf5-d999-46b4-8df2-308d9ad80283",
   "metadata": {},
   "outputs": [],
   "source": []
  }
 ],
 "metadata": {
  "kernelspec": {
   "display_name": "Python 3 (ipykernel)",
   "language": "python",
   "name": "python3"
  },
  "language_info": {
   "codemirror_mode": {
    "name": "ipython",
    "version": 3
   },
   "file_extension": ".py",
   "mimetype": "text/x-python",
   "name": "python",
   "nbconvert_exporter": "python",
   "pygments_lexer": "ipython3",
   "version": "3.11.9"
  }
 },
 "nbformat": 4,
 "nbformat_minor": 5
}
