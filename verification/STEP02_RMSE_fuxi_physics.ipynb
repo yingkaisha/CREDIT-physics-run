{
 "cells": [
  {
   "cell_type": "markdown",
   "id": "ac814c7e-dee1-4b45-9239-8d9cd98b9ada",
   "metadata": {},
   "source": [
    "# Calculate RMSE"
   ]
  },
  {
   "cell_type": "code",
   "execution_count": 1,
   "id": "8deb4be5-9191-4fb6-afb1-9b6c2351f719",
   "metadata": {},
   "outputs": [],
   "source": [
    "import os\n",
    "import sys\n",
    "import yaml\n",
    "from glob import glob\n",
    "from datetime import datetime, timedelta\n",
    "\n",
    "import numpy as np\n",
    "import xarray as xr"
   ]
  },
  {
   "cell_type": "code",
   "execution_count": 2,
   "id": "26a19e83-4b82-40ca-bd5c-a1d1a0104655",
   "metadata": {},
   "outputs": [],
   "source": [
    "import matplotlib.pyplot as plt\n",
    "%matplotlib inline"
   ]
  },
  {
   "cell_type": "code",
   "execution_count": 3,
   "id": "4f276d5d-e0b9-4639-911f-44566f18e248",
   "metadata": {},
   "outputs": [],
   "source": [
    "sys.path.insert(0, os.path.realpath('../libs/'))\n",
    "import verif_utils as vu"
   ]
  },
  {
   "cell_type": "code",
   "execution_count": 6,
   "id": "04614252-cb60-44ef-afa4-3732f1a34dae",
   "metadata": {},
   "outputs": [],
   "source": [
    "config_name = os.path.realpath('verif_config.yml')\n",
    "\n",
    "with open(config_name, 'r') as stream:\n",
    "    conf = yaml.safe_load(stream)"
   ]
  },
  {
   "cell_type": "code",
   "execution_count": 7,
   "id": "9df393c4-af29-4ef1-857c-403bd2342dcb",
   "metadata": {},
   "outputs": [
    {
     "name": "stdout",
     "output_type": "stream",
     "text": [
      "Verifying lead times: [6, 12, 18, 24, 30, 36, 42, 48, 54, 60, 66, 72, 78, 84, 90, 96, 102, 108, 114, 120, 126, 132, 138, 144, 150, 156, 162, 168, 174, 180, 186, 192, 198, 204, 210, 216, 222, 228, 234, 240]\n",
      "Verifying lead indices: [0, 1, 2, 3, 4, 5, 6, 7, 8, 9, 10, 11, 12, 13, 14, 15, 16, 17, 18, 19, 20, 21, 22, 23, 24, 25, 26, 27, 28, 29, 30, 31, 32, 33, 34, 35, 36, 37, 38, 39]\n"
     ]
    }
   ],
   "source": [
    "model_name = 'fuxi_physics'\n",
    "lead_range = conf[model_name]['lead_range']\n",
    "verif_lead_range = conf[model_name]['verif_lead_range']\n",
    "\n",
    "leads_exist = list(np.arange(lead_range[0], lead_range[-1]+lead_range[0], lead_range[0]))\n",
    "leads_verif = list(np.arange(verif_lead_range[0], verif_lead_range[-1]+verif_lead_range[0], verif_lead_range[0]))\n",
    "ind_lead = vu.lead_to_index(leads_exist, leads_verif)\n",
    "\n",
    "print('Verifying lead times: {}'.format(leads_verif))\n",
    "print('Verifying lead indices: {}'.format(ind_lead))"
   ]
  },
  {
   "cell_type": "code",
   "execution_count": 8,
   "id": "78708828-93ce-4ac9-80dd-5f9b40cd80a4",
   "metadata": {},
   "outputs": [],
   "source": [
    "verif_ind_start = 0; verif_ind_end = 4\n",
    "path_verif = conf[model_name]['save_loc_verif']+'combined_rmse_{:04d}_{:04d}_{:03d}h_{:03d}h_{}.nc'.format(\n",
    "                                                                                            verif_ind_start, \n",
    "                                                                                            verif_ind_end,\n",
    "                                                                                            verif_lead_range[0],\n",
    "                                                                                            verif_lead_range[-1],\n",
    "                                                                                            model_name)"
   ]
  },
  {
   "cell_type": "markdown",
   "id": "7bbb12c4-f60e-4398-adde-bfb7367c544d",
   "metadata": {},
   "source": [
    "## Verification setup"
   ]
  },
  {
   "cell_type": "code",
   "execution_count": 9,
   "id": "5d9d3246-64ea-497c-aeb2-9702b62fe591",
   "metadata": {},
   "outputs": [],
   "source": [
    "# ---------------------------------------------------------------------------------------- #\n",
    "# ERA5 verif target\n",
    "filename_ERA5 = sorted(glob(conf['ERA5_ours']['save_loc']))\n",
    "\n",
    "# pick years\n",
    "year_range = conf['ERA5_ours']['year_range']\n",
    "years_pick = np.arange(year_range[0], year_range[1]+1, 1).astype(str)\n",
    "filename_ERA5 = [fn for fn in filename_ERA5 if any(year in fn for year in years_pick)]\n",
    "\n",
    "# merge yearly ERA5 as one\n",
    "ds_ERA5 = [vu.get_forward_data(fn) for fn in filename_ERA5]\n",
    "ds_ERA5_merge = xr.concat(ds_ERA5, dim='time')\n",
    "    \n",
    "# Select the specified variables and their levels\n",
    "variables_levels = conf['ERA5_ours']['verif_variables']\n",
    "\n",
    "# subset merged ERA5 and unify coord names\n",
    "# ds_ERA5_merge = vu.ds_subset_everything(ds_ERA5_merge, variables_levels)\n",
    "\n",
    "# ---------------------------------------------------------------------------------------- #\n",
    "# forecast\n",
    "filename_OURS = sorted(glob(conf[model_name]['save_loc_gather']+'*.nc'))\n",
    "\n",
    "# pick years\n",
    "year_range = conf[model_name]['year_range']\n",
    "years_pick = np.arange(year_range[0], year_range[1]+1, 1).astype(str)\n",
    "filename_OURS = [fn for fn in filename_OURS if any(year in fn for year in years_pick)]\n",
    "# filename_OURS = [fn for fn in filename_OURS if '00Z' in fn]\n",
    "\n",
    "L_max = len(filename_OURS)\n",
    "assert verif_ind_end <= L_max, 'verified indices (days) exceeds the max index available'\n",
    "\n",
    "filename_OURS = filename_OURS[verif_ind_start:verif_ind_end]\n",
    "\n",
    "# latitude weighting\n",
    "lat = xr.open_dataset(filename_OURS[0])[\"latitude\"]\n",
    "w_lat = np.cos(np.deg2rad(lat))\n",
    "w_lat = w_lat / w_lat.mean()"
   ]
  },
  {
   "cell_type": "code",
   "execution_count": 8,
   "id": "62b53182-2b2e-40f3-b265-0a250e7d0246",
   "metadata": {},
   "outputs": [],
   "source": [
    "# ---------------------------------------------------------------------------------------- #\n",
    "# RMSE compute\n",
    "verif_results = []\n",
    "\n",
    "for fn_ours in filename_OURS:\n",
    "    ds_ours = xr.open_dataset(fn_ours)\n",
    "    #ds_ours = vu.ds_subset_everything(ds_ours, variables_levels)\n",
    "    ds_ours = ds_ours.isel(time=ind_lead)\n",
    "    ds_ours = ds_ours.compute()\n",
    "    \n",
    "    ds_target = ds_ERA5_merge.sel(time=ds_ours['time']).compute()\n",
    "    ds_ours['level'] = ds_target['level']\n",
    "    \n",
    "    # RMSE with latitude-based cosine weighting (check w_lat)\n",
    "    RMSE = np.sqrt(\n",
    "        (w_lat * (ds_ours - ds_target)**2).mean(['latitude', 'longitude'])\n",
    "    )\n",
    "    \n",
    "    verif_results.append(RMSE.drop_vars('time'))\n",
    "\n",
    "    #print('Completedd: {}'.format(fn_ours))\n",
    "    \n",
    "# Combine verif results\n",
    "ds_verif = xr.concat(verif_results, dim='days')\n",
    "\n",
    "# # Save the combined dataset\n",
    "# print('Save to {}'.format(path_verif))\n",
    "# #ds_verif.to_netcdf(path_verif)"
   ]
  },
  {
   "cell_type": "code",
   "execution_count": 9,
   "id": "25e50948-01bf-4252-a8ea-93b1690d85c9",
   "metadata": {},
   "outputs": [],
   "source": [
    "# tp = ds_ours['total_precipitation'].values\n",
    "# tp_target = ds_target['total_precipitation'].values"
   ]
  },
  {
   "cell_type": "code",
   "execution_count": 10,
   "id": "45ea8967-3f7d-4964-a422-927c2ff7c070",
   "metadata": {},
   "outputs": [
    {
     "data": {
      "text/plain": [
       "array([0.00108566, 0.00117439, 0.00124403, 0.00147704, 0.00149676,\n",
       "       0.00169668, 0.00161795, 0.00181048, 0.00173478, 0.00183029,\n",
       "       0.00179609, 0.00185533, 0.00178906, 0.00183535, 0.00183919,\n",
       "       0.00184217, 0.00182637, 0.0019142 , 0.00185248, 0.00200094,\n",
       "       0.00188207, 0.00204301, 0.00190229, 0.0020946 , 0.00193883,\n",
       "       0.00211515, 0.0020048 , 0.00216498, 0.00205543, 0.00221879,\n",
       "       0.00208395, 0.0022174 , 0.0020997 , 0.00229208, 0.00212421,\n",
       "       0.00226463, 0.00215945, 0.0023003 , 0.00215761, 0.00234431,\n",
       "       0.00226485, 0.00236864, 0.00230108, 0.002387  , 0.00231282,\n",
       "       0.00247382, 0.00240186, 0.00249212, 0.002368  , 0.00248036,\n",
       "       0.0023573 , 0.00251683, 0.00236785, 0.00244664, 0.00236935,\n",
       "       0.00248309, 0.0023997 , 0.00253602, 0.00249012, 0.00257913,\n",
       "       0.00253316, 0.00257705, 0.00254187, 0.00259573, 0.00262199,\n",
       "       0.00265515, 0.00263887, 0.00265584, 0.00266816, 0.00269479,\n",
       "       0.00266057, 0.00269963, 0.00273437, 0.00276045, 0.00275545,\n",
       "       0.00275556, 0.00271287, 0.00273721, 0.00268143, 0.00267342],\n",
       "      dtype=float32)"
      ]
     },
     "execution_count": 10,
     "metadata": {},
     "output_type": "execute_result"
    }
   ],
   "source": [
    "RMSE_tp = ds_verif['total_precipitation'].values\n",
    "RMSE_tp.mean(axis=0)"
   ]
  },
  {
   "cell_type": "code",
   "execution_count": 11,
   "id": "04cb1f34-00d9-45e9-8309-f077b71fc679",
   "metadata": {},
   "outputs": [
    {
     "data": {
      "text/plain": [
       "array([  46.755135,   66.68367 ,   81.49125 ,  101.2041  ,  113.86123 ,\n",
       "        132.82985 ,  146.0913  ,  164.80855 ,  179.7341  ,  200.20848 ,\n",
       "        214.91391 ,  236.8743  ,  255.96068 ,  282.3226  ,  305.16238 ,\n",
       "        334.54355 ,  359.03735 ,  386.3771  ,  408.479   ,  432.4906  ,\n",
       "        451.5495  ,  470.99594 ,  487.3045  ,  506.58298 ,  522.7719  ,\n",
       "        540.4766  ,  554.9831  ,  568.5557  ,  578.5769  ,  589.27576 ,\n",
       "        599.3127  ,  613.79016 ,  627.5905  ,  644.2897  ,  661.7292  ,\n",
       "        682.3252  ,  704.3015  ,  723.5621  ,  741.38416 ,  755.0564  ,\n",
       "        764.9993  ,  770.1166  ,  774.11566 ,  778.45557 ,  780.6873  ,\n",
       "        784.2377  ,  786.92896 ,  794.9525  ,  803.8307  ,  817.00476 ,\n",
       "        829.4291  ,  845.7548  ,  859.5417  ,  878.0012  ,  894.0211  ,\n",
       "        915.6959  ,  932.53955 ,  953.66736 ,  972.3029  ,  994.43823 ,\n",
       "       1013.51935 , 1036.9778  , 1059.0139  , 1084.0133  , 1101.3414  ,\n",
       "       1118.8447  , 1132.0436  , 1146.1436  , 1155.6957  , 1166.9089  ,\n",
       "       1174.9546  , 1186.7302  , 1194.1104  , 1203.554   , 1207.7893  ,\n",
       "       1216.0973  , 1217.92    , 1223.3623  , 1227.0348  , 1231.0359  ],\n",
       "      dtype=float32)"
      ]
     },
     "execution_count": 11,
     "metadata": {},
     "output_type": "execute_result"
    }
   ],
   "source": [
    "RMSE_Z500 = ds_verif['Z'].isel(level=21).values\n",
    "RMSE_Z500.mean(axis=0)"
   ]
  },
  {
   "cell_type": "code",
   "execution_count": 12,
   "id": "e4cd9bd9-fa44-438f-8e13-1ccc9c0465eb",
   "metadata": {},
   "outputs": [
    {
     "data": {
      "text/plain": [
       "array([0.37150496, 0.46372545, 0.5121753 , 0.58744705, 0.6403605 ,\n",
       "       0.7233365 , 0.7928848 , 0.87714374, 0.9537309 , 1.058413  ,\n",
       "       1.1533767 , 1.2746701 , 1.3706552 , 1.4897425 , 1.5767485 ,\n",
       "       1.6824512 , 1.7721217 , 1.8679146 , 1.9413195 , 2.0092852 ,\n",
       "       2.0705462 , 2.1117847 , 2.1675844 , 2.2443829 , 2.332168  ,\n",
       "       2.432778  , 2.5427766 , 2.6469738 , 2.7453911 , 2.8208742 ,\n",
       "       2.8928537 , 2.9529312 , 3.0141037 , 3.0746179 , 3.1402302 ,\n",
       "       3.206091  , 3.282396  , 3.3333354 , 3.3755972 , 3.391325  ,\n",
       "       3.4072065 , 3.393458  , 3.3960528 , 3.3854766 , 3.4002023 ,\n",
       "       3.42171   , 3.4540842 , 3.4890072 , 3.5292947 , 3.5827444 ,\n",
       "       3.630941  , 3.6731644 , 3.711898  , 3.767492  , 3.8324466 ,\n",
       "       3.8956347 , 3.9736447 , 4.0525246 , 4.1177077 , 4.1585307 ,\n",
       "       4.2033453 , 4.265438  , 4.3597355 , 4.4572945 , 4.559969  ,\n",
       "       4.625142  , 4.6771317 , 4.6967993 , 4.704012  , 4.6897907 ,\n",
       "       4.66107   , 4.6375513 , 4.627992  , 4.618984  , 4.6080904 ,\n",
       "       4.591548  , 4.58875   , 4.5850697 , 4.6018934 , 4.6090193 ],\n",
       "      dtype=float32)"
      ]
     },
     "execution_count": 12,
     "metadata": {},
     "output_type": "execute_result"
    }
   ],
   "source": [
    "RMSE_T500 = ds_verif['T'].isel(level=21).values\n",
    "RMSE_T500.mean(axis=0)"
   ]
  },
  {
   "cell_type": "code",
   "execution_count": 13,
   "id": "6308f5de-9bc3-429e-9a6c-1758ad6e2bd0",
   "metadata": {},
   "outputs": [
    {
     "data": {
      "text/plain": [
       "array([0.00028761, 0.00035484, 0.0003927 , 0.00042877, 0.00045652,\n",
       "       0.00049614, 0.0005257 , 0.00055728, 0.00058514, 0.0006201 ,\n",
       "       0.00065256, 0.00067799, 0.00070347, 0.00072426, 0.00074979,\n",
       "       0.00076781, 0.00080479, 0.00082675, 0.0008618 , 0.0008798 ,\n",
       "       0.000907  , 0.00092002, 0.00093861, 0.00096171, 0.00098981,\n",
       "       0.00101572, 0.00103988, 0.0010651 , 0.00108993, 0.0011178 ,\n",
       "       0.00115328, 0.00117673, 0.00120026, 0.00121786, 0.00125116,\n",
       "       0.00126977, 0.00130146, 0.00131847, 0.00133979, 0.00135691,\n",
       "       0.00139177, 0.00141544, 0.00145336, 0.00148518, 0.00153151,\n",
       "       0.00155485, 0.0015856 , 0.00160872, 0.00163659, 0.00166033,\n",
       "       0.0017112 , 0.00174258, 0.0017801 , 0.00180401, 0.00185714,\n",
       "       0.00186309, 0.0018871 , 0.00188131, 0.00189975, 0.00186359,\n",
       "       0.00186357, 0.00182899, 0.00183896, 0.00182073, 0.00184024,\n",
       "       0.00184122, 0.00187849, 0.00189816, 0.0019318 , 0.0019536 ,\n",
       "       0.00198697, 0.00200721, 0.00202996, 0.00204714, 0.0020632 ,\n",
       "       0.00207431, 0.00208907, 0.00208097, 0.00208105, 0.00207287],\n",
       "      dtype=float32)"
      ]
     },
     "execution_count": 13,
     "metadata": {},
     "output_type": "execute_result"
    }
   ],
   "source": [
    "RMSE_Q800 = ds_verif['specific_total_water'].isel(level=36).values\n",
    "RMSE_Q800.mean(axis=0)"
   ]
  },
  {
   "cell_type": "code",
   "execution_count": null,
   "id": "1833de36-aa0d-4ead-bace-263cb32b03aa",
   "metadata": {},
   "outputs": [],
   "source": []
  },
  {
   "cell_type": "code",
   "execution_count": null,
   "id": "f04543b5-52d2-4776-8101-45f5cfaf4467",
   "metadata": {},
   "outputs": [],
   "source": []
  }
 ],
 "metadata": {
  "kernelspec": {
   "display_name": "Python 3 (ipykernel)",
   "language": "python",
   "name": "python3"
  },
  "language_info": {
   "codemirror_mode": {
    "name": "ipython",
    "version": 3
   },
   "file_extension": ".py",
   "mimetype": "text/x-python",
   "name": "python",
   "nbconvert_exporter": "python",
   "pygments_lexer": "ipython3",
   "version": "3.11.9"
  }
 },
 "nbformat": 4,
 "nbformat_minor": 5
}
