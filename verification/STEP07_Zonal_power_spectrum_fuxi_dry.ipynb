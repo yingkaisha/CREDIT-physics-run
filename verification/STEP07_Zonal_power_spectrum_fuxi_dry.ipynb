{
 "cells": [
  {
   "cell_type": "markdown",
   "id": "86ffc317-1937-4440-94d9-d01bc835425d",
   "metadata": {},
   "source": [
    "# Zonal energy spectrum"
   ]
  },
  {
   "cell_type": "code",
   "execution_count": 1,
   "id": "b72a077e-bbca-4738-9926-1defb92dd5e2",
   "metadata": {},
   "outputs": [],
   "source": [
    "import os\n",
    "import sys\n",
    "import yaml\n",
    "from glob import glob\n",
    "from datetime import datetime, timedelta\n",
    "\n",
    "import numpy as np\n",
    "import xarray as xr"
   ]
  },
  {
   "cell_type": "code",
   "execution_count": 2,
   "id": "df4affef-083c-4a94-8e28-94a1039cbf17",
   "metadata": {},
   "outputs": [],
   "source": [
    "sys.path.insert(0, os.path.realpath('../libs/'))\n",
    "import verif_utils as vu\n",
    "import score_utils as su"
   ]
  },
  {
   "cell_type": "code",
   "execution_count": 3,
   "id": "6a187278-ee77-42c8-9a2f-0b41197e4b14",
   "metadata": {},
   "outputs": [],
   "source": [
    "config_name = os.path.realpath('verif_config.yml')\n",
    "\n",
    "with open(config_name, 'r') as stream:\n",
    "    conf = yaml.safe_load(stream)"
   ]
  },
  {
   "cell_type": "code",
   "execution_count": 4,
   "id": "77dc4b6d-f6d2-4e19-b434-bed9d5c572bf",
   "metadata": {},
   "outputs": [
    {
     "name": "stdout",
     "output_type": "stream",
     "text": [
      "Verifying lead times: [24, 120, 240]\n",
      "Verifying lead indices: [3, 19, 39]\n"
     ]
    }
   ],
   "source": [
    "model_name = 'fuxi_dry'\n",
    "lead_range = conf[model_name]['lead_range']\n",
    "verif_lead_range = conf[model_name]['verif_lead_range']\n",
    "\n",
    "leads_exist = list(np.arange(lead_range[0], lead_range[-1]+lead_range[0], lead_range[0]))\n",
    "leads_verif = [24, 120, 240]\n",
    "#list(np.arange(verif_lead_range[0], verif_lead_range[-1]+verif_lead_range[0], verif_lead_range[0]))\n",
    "ind_lead = vu.lead_to_index(leads_exist, leads_verif)\n",
    "\n",
    "print('Verifying lead times: {}'.format(leads_verif))\n",
    "print('Verifying lead indices: {}'.format(ind_lead))"
   ]
  },
  {
   "cell_type": "code",
   "execution_count": 5,
   "id": "e6d41de2-c546-446f-85a2-e350d1a61fbb",
   "metadata": {},
   "outputs": [],
   "source": [
    "verif_ind_start = 0; verif_ind_end = 3\n",
    "\n",
    "path_verif = conf[model_name]['save_loc_verif']+'combined_zes_{}_{}_{}'.format(\n",
    "    verif_ind_start, verif_ind_end, model_name)"
   ]
  },
  {
   "cell_type": "markdown",
   "id": "5342bcbb-a9cf-4931-9397-2be3cf9f09f0",
   "metadata": {},
   "source": [
    "## Gather forecasts"
   ]
  },
  {
   "cell_type": "code",
   "execution_count": 6,
   "id": "cab9e8dc-8364-4d48-9d7b-5ddc12a61829",
   "metadata": {},
   "outputs": [],
   "source": [
    "# ---------------------------------------------------------------------------------------- #\n",
    "# forecast\n",
    "filename_OURS = sorted(glob(conf[model_name]['save_loc_gather']+'*.nc'))\n",
    "\n",
    "# pick years\n",
    "year_range = conf[model_name]['year_range']\n",
    "years_pick = np.arange(year_range[0], year_range[1]+1, 1).astype(str)\n",
    "filename_OURS = [fn for fn in filename_OURS if any(year in fn for year in years_pick)]\n",
    "\n",
    "L_max = len(filename_OURS)\n",
    "assert verif_ind_end <= L_max, 'verified indices (days) exceeds the max index available'\n",
    "\n",
    "filename_OURS = filename_OURS[verif_ind_start:verif_ind_end]"
   ]
  },
  {
   "cell_type": "code",
   "execution_count": 11,
   "id": "654eb660-e963-4a73-a386-e065b941b478",
   "metadata": {},
   "outputs": [],
   "source": [
    "variables_levels = {\n",
    "    'T': [500,],\n",
    "    'U': [500],\n",
    "    'V': [500]\n",
    "}\n",
    "\n",
    "levels = np.array([   1.,   50.,  150.,  200.,  250.,  \n",
    "                    300.,  400.,  500.,  600.,  700., \n",
    "                     850.,  925., 1000.])"
   ]
  },
  {
   "cell_type": "code",
   "execution_count": 20,
   "id": "369f1984-8786-4ef4-b354-1c48975b2dd0",
   "metadata": {},
   "outputs": [],
   "source": [
    "# CP_DRY = 1005 # J/kg K\n",
    "# CP_VAPOR = 1846 # J/kg K\n",
    "\n",
    "for i, ind_pick in enumerate(ind_lead):\n",
    "    # allocate result for the current lead time\n",
    "    verif_results = []\n",
    "    \n",
    "    for fn_ours in filename_OURS:\n",
    "        ds_ours = xr.open_dataset(fn_ours)\n",
    "        ds_ours['level'] = levels\n",
    "        ds_ours = vu.ds_subset_everything(ds_ours, variables_levels)\n",
    "        ds_ours = ds_ours.isel(time=ind_pick)\n",
    "        ds_ours = ds_ours.compute()\n",
    "        \n",
    "        # -------------------------------------------------------------- #\n",
    "        # potential temperature\n",
    "        ds_ours['theta'] = ds_ours['T'] * (1000/500)**(287.0/1004)\n",
    "\n",
    "        # -------------------------------------------------------------- #\n",
    "        zes_temp = []\n",
    "        for var in ['U', 'V', 'theta']:\n",
    "            zes = su.zonal_energy_spectrum_sph(ds_ours.isel(latitude=slice(1, None)), var)\n",
    "            zes_temp.append(zes)\n",
    "            \n",
    "        verif_results.append(xr.merge(zes_temp))\n",
    "    \n",
    "    ds_verif = xr.concat(verif_results, dim='time')\n",
    "    save_name = path_verif+'_lead{}.nc'.format(leads_verif[i])\n",
    "    #ds_verif.to_netcdf(save_name)"
   ]
  },
  {
   "cell_type": "code",
   "execution_count": 11,
   "id": "39a51094-8622-44ee-b05d-e81db6565dcf",
   "metadata": {},
   "outputs": [],
   "source": [
    "# # weatherbench2 alternative\n",
    "# from weatherbench2.derived_variables import ZonalEnergySpectrum\n",
    "# calc = ZonalEnergySpectrum('Z500')\n",
    "# result_fft = calc.compute(ds_ours)\n",
    "# result_fft = np.mean(np.array(result_fft), axis=0)\n",
    "# result_fft = result_fft[:320]"
   ]
  },
  {
   "cell_type": "code",
   "execution_count": null,
   "id": "452f8711-71e1-445a-a09a-85a217751101",
   "metadata": {},
   "outputs": [],
   "source": []
  }
 ],
 "metadata": {
  "kernelspec": {
   "display_name": "Python 3 (ipykernel)",
   "language": "python",
   "name": "python3"
  },
  "language_info": {
   "codemirror_mode": {
    "name": "ipython",
    "version": 3
   },
   "file_extension": ".py",
   "mimetype": "text/x-python",
   "name": "python",
   "nbconvert_exporter": "python",
   "pygments_lexer": "ipython3",
   "version": "3.11.9"
  }
 },
 "nbformat": 4,
 "nbformat_minor": 5
}
