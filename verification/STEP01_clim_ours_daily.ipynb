{
 "cells": [
  {
   "cell_type": "markdown",
   "id": "ac814c7e-dee1-4b45-9239-8d9cd98b9ada",
   "metadata": {},
   "source": [
    "# Calculate RMSE"
   ]
  },
  {
   "cell_type": "code",
   "execution_count": 1,
   "id": "8deb4be5-9191-4fb6-afb1-9b6c2351f719",
   "metadata": {},
   "outputs": [],
   "source": [
    "import os\n",
    "import sys\n",
    "import yaml\n",
    "from glob import glob\n",
    "from datetime import datetime, timedelta\n",
    "\n",
    "import numpy as np\n",
    "import xarray as xr\n",
    "import pandas as pd"
   ]
  },
  {
   "cell_type": "code",
   "execution_count": 2,
   "id": "cbb5d545-cc77-464d-9704-173ea0a307c0",
   "metadata": {},
   "outputs": [],
   "source": [
    "import matplotlib.pyplot as plt\n",
    "%matplotlib inline"
   ]
  },
  {
   "cell_type": "code",
   "execution_count": 3,
   "id": "4f276d5d-e0b9-4639-911f-44566f18e248",
   "metadata": {},
   "outputs": [],
   "source": [
    "sys.path.insert(0, os.path.realpath('../libs/'))\n",
    "import verif_utils as vu"
   ]
  },
  {
   "cell_type": "code",
   "execution_count": 4,
   "id": "04614252-cb60-44ef-afa4-3732f1a34dae",
   "metadata": {},
   "outputs": [],
   "source": [
    "config_name = os.path.realpath('verif_config.yml')\n",
    "\n",
    "with open(config_name, 'r') as stream:\n",
    "    conf = yaml.safe_load(stream)"
   ]
  },
  {
   "cell_type": "markdown",
   "id": "7bbb12c4-f60e-4398-adde-bfb7367c544d",
   "metadata": {},
   "source": [
    "## Verification setup"
   ]
  },
  {
   "cell_type": "code",
   "execution_count": 5,
   "id": "5d9d3246-64ea-497c-aeb2-9702b62fe591",
   "metadata": {},
   "outputs": [],
   "source": [
    "# ---------------------------------------------------------------------------------------- #\n",
    "# ERA5 verif target\n",
    "filename_ERA5 = sorted(glob(conf['ERA5_ours']['save_loc']))\n",
    "\n",
    "# pick years\n",
    "year_range = [1990, 2019]\n",
    "years_pick = np.arange(year_range[0], year_range[1]+1, 1).astype(str)\n",
    "filename_ERA5 = [fn for fn in filename_ERA5 if any(year in fn for year in years_pick)]\n",
    "\n",
    "# merge yearly ERA5 as one\n",
    "ds_ERA5 = [vu.get_forward_data(fn) for fn in filename_ERA5]\n",
    "ds_ERA5_merge = xr.concat(ds_ERA5, dim='time')"
   ]
  },
  {
   "cell_type": "code",
   "execution_count": 6,
   "id": "73e1a96d-b962-4d71-a740-cb48bc1c9a3c",
   "metadata": {},
   "outputs": [],
   "source": [
    "variable_levels = {\n",
    "    'evaporation': None,\n",
    "    'total_precipitation': None,\n",
    "    'surface_net_solar_radiation': None,\n",
    "    'surface_net_thermal_radiation': None,\n",
    "    'surface_sensible_heat_flux': None,\n",
    "    'surface_latent_heat_flux': None,\n",
    "    'top_net_solar_radiation': None,\n",
    "    'top_net_thermal_radiation': None,\n",
    "}"
   ]
  },
  {
   "cell_type": "code",
   "execution_count": 7,
   "id": "6f72f034-3dd5-4f97-add7-3f336e305e7f",
   "metadata": {},
   "outputs": [],
   "source": [
    "ds_ERA5_merge = vu.ds_subset_everything(ds_ERA5_merge, variable_levels)"
   ]
  },
  {
   "cell_type": "code",
   "execution_count": 8,
   "id": "94a3f781-7986-40d8-8b97-0c13c0150fff",
   "metadata": {},
   "outputs": [],
   "source": [
    "def accum_6h_24h(ds_ours, ini=0, copy=True):\n",
    "    h_shift = ini + 6\n",
    "    h_convert_ending_time = 24 + ini\n",
    "    \n",
    "    if copy:\n",
    "        ds_ours_shift = ds_ours.copy(deep=True)\n",
    "        # convert to start time to work with xarray resample\n",
    "        ds_ours_shift['time'] = ds_ours_shift['time'] - pd.Timedelta(hours=h_shift)\n",
    "        # accumulate\n",
    "        ds_ours_24h = ds_ours_shift.resample(time='24h').sum()\n",
    "    else:\n",
    "        ds_ours['time'] = ds_ours['time'] - pd.Timedelta(hours=h_shift)\n",
    "        ds_ours_24h = ds_ours.resample(time='24h').sum()\n",
    "        \n",
    "    ds_ours_24h['time'] = ds_ours_24h['time'] + pd.Timedelta(hours=h_convert_ending_time)\n",
    "    \n",
    "    return ds_ours_24h"
   ]
  },
  {
   "cell_type": "code",
   "execution_count": 9,
   "id": "ab554510-7dbe-47b6-9655-fecd231c615d",
   "metadata": {},
   "outputs": [],
   "source": [
    "ds_ERA5_merge_24h = accum_6h_24h(ds_ERA5_merge, copy=False)"
   ]
  },
  {
   "cell_type": "code",
   "execution_count": 10,
   "id": "abe40b35-8e62-498c-a7c6-1a81f1955963",
   "metadata": {},
   "outputs": [],
   "source": [
    "ds_ERA5_mean = ds_ERA5_merge_24h.mean(dim='time')"
   ]
  },
  {
   "cell_type": "code",
   "execution_count": 11,
   "id": "ed83d8ee-2633-4b57-91b6-c5d589f7a178",
   "metadata": {},
   "outputs": [],
   "source": [
    "path_verif = conf['ERA5_weatherbench']['save_loc_clim']+'ERA5_clim_1990_2019_daily_1deg_interp.nc'\n",
    "# ds_ERA5_mean.to_netcdf(path_verif, compute=True, format='NETCDF4')"
   ]
  },
  {
   "cell_type": "code",
   "execution_count": 13,
   "id": "1228172d-bc3b-440d-8245-a849ac052249",
   "metadata": {},
   "outputs": [],
   "source": [
    "# ds_ERA5_mean.to_netcdf(path_verif, compute=True, format='NETCDF4')"
   ]
  },
  {
   "cell_type": "code",
   "execution_count": null,
   "id": "2799d119-0d95-4bec-841c-fe1f203f393b",
   "metadata": {},
   "outputs": [],
   "source": []
  }
 ],
 "metadata": {
  "kernelspec": {
   "display_name": "Python 3 (ipykernel)",
   "language": "python",
   "name": "python3"
  },
  "language_info": {
   "codemirror_mode": {
    "name": "ipython",
    "version": 3
   },
   "file_extension": ".py",
   "mimetype": "text/x-python",
   "name": "python",
   "nbconvert_exporter": "python",
   "pygments_lexer": "ipython3",
   "version": "3.11.9"
  }
 },
 "nbformat": 4,
 "nbformat_minor": 5
}
