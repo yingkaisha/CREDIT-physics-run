{
 "cells": [
  {
   "cell_type": "markdown",
   "id": "86ffc317-1937-4440-94d9-d01bc835425d",
   "metadata": {},
   "source": [
    "# Zonal energy spectrum - ERA5\n",
    "\n",
    "* This notebook shows how zonal energy spectrum was computed for kinetic energy and potential temperature energy. For the latter, the 500 hPa potential temperature was approximated using $\\theta=T(1000/500)^{(287.0/1004)}$.\n",
    "\n",
    "* The notebook runs with `verif_config_6h.yml` in the same folder."
   ]
  },
  {
   "cell_type": "code",
   "execution_count": 1,
   "id": "b72a077e-bbca-4738-9926-1defb92dd5e2",
   "metadata": {},
   "outputs": [],
   "source": [
    "import os\n",
    "import sys\n",
    "import yaml\n",
    "from glob import glob\n",
    "from datetime import datetime, timedelta\n",
    "\n",
    "import numpy as np\n",
    "import xarray as xr\n",
    "\n",
    "sys.path.insert(0, os.path.realpath('../libs/'))\n",
    "import verif_utils as vu\n",
    "import score_utils as su"
   ]
  },
  {
   "cell_type": "markdown",
   "id": "0031d9bd-b89c-48d6-a6a4-90192e01ad14",
   "metadata": {},
   "source": [
    "### Load config"
   ]
  },
  {
   "cell_type": "code",
   "execution_count": 2,
   "id": "6a187278-ee77-42c8-9a2f-0b41197e4b14",
   "metadata": {},
   "outputs": [],
   "source": [
    "config_name = os.path.realpath('verif_config.yml')\n",
    "\n",
    "with open(config_name, 'r') as stream:\n",
    "    conf = yaml.safe_load(stream)"
   ]
  },
  {
   "cell_type": "markdown",
   "id": "66012fb9-1828-413e-92f9-a68a9e6a919f",
   "metadata": {},
   "source": [
    "### ZES compute"
   ]
  },
  {
   "cell_type": "code",
   "execution_count": 4,
   "id": "0fcbf3a3-62b2-412b-adc5-ea4919e320ce",
   "metadata": {},
   "outputs": [],
   "source": [
    "variables_levels = {\n",
    "    'T': [500,],\n",
    "    'U': [500],\n",
    "    'V': [500]\n",
    "}"
   ]
  },
  {
   "cell_type": "code",
   "execution_count": 7,
   "id": "e6d41de2-c546-446f-85a2-e350d1a61fbb",
   "metadata": {},
   "outputs": [],
   "source": [
    "path_verif = conf['ERA5_weatherbench']['save_loc_clim']+'combined_zes_clim.nc'\n",
    "\n",
    "# ---------------------------------------------------------------------------------------- #\n",
    "# ERA5\n",
    "filename_ERA5 = sorted(glob(conf['ERA5_ours']['save_loc']))\n",
    "\n",
    "# pick years (use IFS years)\n",
    "year_range = conf['IFS']['year_range']\n",
    "years_pick = np.arange(year_range[0], year_range[1]+1, 1).astype(str)\n",
    "filename_ERA5 = [fn for fn in filename_ERA5 if any(year in fn for year in years_pick)]\n",
    "\n",
    "# merge yearly ERA5 as one\n",
    "ds_ERA5 = [vu.get_forward_data(fn) for fn in filename_ERA5]\n",
    "ds_ERA5_merge = xr.concat(ds_ERA5, dim='time')\n",
    "\n",
    "# subset merged ERA5 and unify coord names\n",
    "ds_ERA5_merge = vu.ds_subset_everything(ds_ERA5_merge, variables_levels)\n",
    "\n",
    "L_time = len(ds_ERA5_merge['time'])\n",
    "\n",
    "verif_results = []\n",
    "\n",
    "for i_time in range(L_time):\n",
    "    ds_ERA5 = ds_ERA5_merge.isel(time=i_time)    \n",
    "    ds_ERA5 = ds_ERA5.load()\n",
    "\n",
    "    # -------------------------------------------------------------- #\n",
    "    # potential temperature\n",
    "    ds_ERA5['theta'] = ds_ERA5['T'] * (1000/500)**(287.0/1004)\n",
    "\n",
    "    # -------------------------------------------------------------- #\n",
    "    zes_temp = []\n",
    "    for var in ['U', 'V', 'theta']:\n",
    "        zes = su.zonal_energy_spectrum_sph(ds_ERA5.isel(latitude=slice(1, None)), var)\n",
    "        zes_temp.append(zes)\n",
    "        \n",
    "    verif_results.append(xr.merge(zes_temp))\n",
    "\n",
    "ds_verif = xr.concat(verif_results, dim='time')"
   ]
  },
  {
   "cell_type": "code",
   "execution_count": 9,
   "id": "07dc60f0-c779-4101-afa8-6664cf0d45e8",
   "metadata": {},
   "outputs": [
    {
     "data": {
      "text/plain": [
       "'/glade/campaign/cisl/aiml/ksha/CREDIT_physics/VERIF/ERA5_clim/combined_zes_clim.nc'"
      ]
     },
     "execution_count": 9,
     "metadata": {},
     "output_type": "execute_result"
    }
   ],
   "source": [
    "path_verif"
   ]
  },
  {
   "cell_type": "code",
   "execution_count": 10,
   "id": "2a549f9a-ba13-49ce-9390-9522adeb5575",
   "metadata": {},
   "outputs": [],
   "source": [
    "#ds_verif.to_netcdf(path_verif)"
   ]
  },
  {
   "cell_type": "code",
   "execution_count": null,
   "id": "8c864092-6535-41e9-96de-9dbb498386f3",
   "metadata": {},
   "outputs": [],
   "source": []
  }
 ],
 "metadata": {
  "kernelspec": {
   "display_name": "Python 3 (ipykernel)",
   "language": "python",
   "name": "python3"
  },
  "language_info": {
   "codemirror_mode": {
    "name": "ipython",
    "version": 3
   },
   "file_extension": ".py",
   "mimetype": "text/x-python",
   "name": "python",
   "nbconvert_exporter": "python",
   "pygments_lexer": "ipython3",
   "version": "3.11.9"
  }
 },
 "nbformat": 4,
 "nbformat_minor": 5
}
