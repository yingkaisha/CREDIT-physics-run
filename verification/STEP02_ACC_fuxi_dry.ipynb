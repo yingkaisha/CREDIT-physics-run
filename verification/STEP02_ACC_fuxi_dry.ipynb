{
 "cells": [
  {
   "cell_type": "markdown",
   "id": "4a7a1317-2641-4bac-838c-a6b6083dea60",
   "metadata": {},
   "source": [
    "# Calculate ACC"
   ]
  },
  {
   "cell_type": "code",
   "execution_count": 1,
   "id": "853ef392-9e1d-469e-8e66-e0c5cfafeb6e",
   "metadata": {},
   "outputs": [],
   "source": [
    "import os\n",
    "import sys\n",
    "import yaml\n",
    "from glob import glob\n",
    "from datetime import datetime, timedelta\n",
    "\n",
    "import numpy as np\n",
    "import xarray as xr"
   ]
  },
  {
   "cell_type": "code",
   "execution_count": 2,
   "id": "7cfac44b-a9fe-432e-ae71-7c5304f8700c",
   "metadata": {},
   "outputs": [],
   "source": [
    "import matplotlib.pyplot as plt\n",
    "%matplotlib inline"
   ]
  },
  {
   "cell_type": "code",
   "execution_count": 3,
   "id": "d7e6fb73-6602-4e3f-8908-0b208c8e6fae",
   "metadata": {},
   "outputs": [],
   "source": [
    "sys.path.insert(0, os.path.realpath('../libs/'))\n",
    "import verif_utils as vu"
   ]
  },
  {
   "cell_type": "code",
   "execution_count": 4,
   "id": "e25cdb21-6411-4997-8030-41d256bcca11",
   "metadata": {},
   "outputs": [],
   "source": [
    "config_name = os.path.realpath('verif_config.yml')\n",
    "\n",
    "with open(config_name, 'r') as stream:\n",
    "    conf = yaml.safe_load(stream)"
   ]
  },
  {
   "cell_type": "code",
   "execution_count": 5,
   "id": "38229a5f-9533-4df5-b299-dc7441464502",
   "metadata": {},
   "outputs": [
    {
     "name": "stdout",
     "output_type": "stream",
     "text": [
      "Verifying lead times: [6, 12, 18, 24, 30, 36, 42, 48, 54, 60, 66, 72, 78, 84, 90, 96, 102, 108, 114, 120, 126, 132, 138, 144, 150, 156, 162, 168, 174, 180, 186, 192, 198, 204, 210, 216, 222, 228, 234, 240, 246, 252, 258, 264, 270, 276, 282, 288, 294, 300, 306, 312, 318, 324, 330, 336, 342, 348, 354, 360]\n",
      "Verifying lead indices: [0, 1, 2, 3, 4, 5, 6, 7, 8, 9, 10, 11, 12, 13, 14, 15, 16, 17, 18, 19, 20, 21, 22, 23, 24, 25, 26, 27, 28, 29, 30, 31, 32, 33, 34, 35, 36, 37, 38, 39, 40, 41, 42, 43, 44, 45, 46, 47, 48, 49, 50, 51, 52, 53, 54, 55, 56, 57, 58, 59]\n"
     ]
    }
   ],
   "source": [
    "model_name = 'fuxi_dry'\n",
    "lead_range = conf[model_name]['lead_range']\n",
    "verif_lead_range = conf[model_name]['verif_lead_range']\n",
    "\n",
    "leads_exist = list(np.arange(lead_range[0], lead_range[-1]+lead_range[0], lead_range[0]))\n",
    "leads_verif = list(np.arange(verif_lead_range[0], verif_lead_range[-1]+verif_lead_range[0], verif_lead_range[0]))\n",
    "ind_lead = vu.lead_to_index(leads_exist, leads_verif)\n",
    "\n",
    "print('Verifying lead times: {}'.format(leads_verif))\n",
    "print('Verifying lead indices: {}'.format(ind_lead))"
   ]
  },
  {
   "cell_type": "code",
   "execution_count": 6,
   "id": "2a6a0ec5-cb49-4119-be06-d47652b98934",
   "metadata": {},
   "outputs": [],
   "source": [
    "verif_ind_start = 0; verif_ind_end = 3\n",
    "path_verif = conf[model_name]['save_loc_verif']+'combined_acc_{}_{}_{}h_{}h_{}.nc'.format(verif_ind_start, \n",
    "                                                                                          verif_ind_end,\n",
    "                                                                                          verif_lead_range[0],\n",
    "                                                                                          verif_lead_range[-1],\n",
    "                                                                                          model_name)"
   ]
  },
  {
   "cell_type": "code",
   "execution_count": 7,
   "id": "cbe739e5-b1ea-4af0-9a45-7c8a95cf0895",
   "metadata": {},
   "outputs": [
    {
     "data": {
      "text/plain": [
       "'/glade/campaign/cisl/aiml/ksha/CREDIT_physics/VERIF/fuxi_plevel_dry/combined_acc_0_3_6h_360h_fuxi_dry.nc'"
      ]
     },
     "execution_count": 7,
     "metadata": {},
     "output_type": "execute_result"
    }
   ],
   "source": [
    "path_verif"
   ]
  },
  {
   "cell_type": "markdown",
   "id": "0a6faeeb-f6df-4813-a380-3271881da205",
   "metadata": {},
   "source": [
    "## Functions"
   ]
  },
  {
   "cell_type": "code",
   "execution_count": 27,
   "id": "3527b032-75d6-4141-bd1d-6eea9534c3ae",
   "metadata": {},
   "outputs": [],
   "source": [
    "def sp_avg(DS, wlat):\n",
    "    return DS.weighted(wlat).mean(['latitude', 'longitude'], skipna=True)"
   ]
  },
  {
   "cell_type": "code",
   "execution_count": 10,
   "id": "35f7d6c5-3a46-44a8-b555-0bdd564557f6",
   "metadata": {},
   "outputs": [],
   "source": [
    "# ERA5 climatology info\n",
    "ERA5_path_string = conf['ERA5_weatherbench']['save_loc_clim'] + 'ERA5_clim_1990_2019_6h_1deg_interp.nc'\n",
    "ds_ERA5_clim = xr.open_dataset(ERA5_path_string)"
   ]
  },
  {
   "cell_type": "code",
   "execution_count": 23,
   "id": "264fad2b-3ae6-4901-8a05-48fe22406eb3",
   "metadata": {},
   "outputs": [],
   "source": [
    "rename_IFS_to_ERA5 = {\n",
    "    '10m_u_component_of_wind': 'VAR_10U',\n",
    "    '10m_v_component_of_wind': 'VAR_10V',\n",
    "    '2m_temperature': 'VAR_2T',\n",
    "    'geopotential': 'Z',\n",
    "    'mean_sea_level_pressure': 'MSL',\n",
    "    'specific_humidity': 'Q',\n",
    "    'surface_pressure': 'SP',\n",
    "    'temperature': 'T',\n",
    "    'u_component_of_wind': 'U',\n",
    "    'v_component_of_wind': 'V'\n",
    "}\n",
    "\n",
    "varname_verif = ['MSL', 'Q', 'T', 'U', 'V', 'VAR_2T', 'Z']\n",
    "level_pick = np.array([  50,  150,  200,  250,  300,  400,  500,  600,  700,  850, 925, 1000])"
   ]
  },
  {
   "cell_type": "code",
   "execution_count": 24,
   "id": "362c3a7a-551b-4604-9fb3-23acbf90cb59",
   "metadata": {},
   "outputs": [],
   "source": [
    "# ---------------------------------------------------------------------------------------- #\n",
    "# ERA5 verif target\n",
    "filename_ERA5 = sorted(glob(conf['ERA5_ours']['save_loc']))\n",
    "\n",
    "# pick years\n",
    "year_range = conf['ERA5_ours']['year_range']\n",
    "years_pick = np.arange(year_range[0], year_range[1]+1, 1).astype(str)\n",
    "filename_ERA5 = [fn for fn in filename_ERA5 if any(year in fn for year in years_pick)]\n",
    "\n",
    "# merge yearly ERA5 as one\n",
    "ds_ERA5 = [vu.get_forward_data(fn) for fn in filename_ERA5]\n",
    "ds_ERA5_merge = xr.concat(ds_ERA5, dim='time')"
   ]
  },
  {
   "cell_type": "code",
   "execution_count": 25,
   "id": "5d9d3246-64ea-497c-aeb2-9702b62fe591",
   "metadata": {},
   "outputs": [],
   "source": [
    "# ---------------------------------------------------------------------------------------- #\n",
    "# forecast\n",
    "filename_OURS = sorted(glob(conf[model_name]['save_loc_gather']+'*.nc'))\n",
    "\n",
    "# pick years\n",
    "year_range = conf[model_name]['year_range']\n",
    "years_pick = np.arange(year_range[0], year_range[1]+1, 1).astype(str)\n",
    "filename_OURS = [fn for fn in filename_OURS if any(year in fn for year in years_pick)]\n",
    "\n",
    "L_max = len(filename_OURS)\n",
    "assert verif_ind_end <= L_max, 'verified indices (days) exceeds the max index available'\n",
    "\n",
    "filename_OURS = filename_OURS[verif_ind_start:verif_ind_end]\n",
    "\n",
    "# latitude weighting\n",
    "lat = xr.open_dataset(filename_OURS[0])[\"latitude\"]\n",
    "w_lat = np.cos(np.deg2rad(lat))\n",
    "w_lat = w_lat / w_lat.mean()"
   ]
  },
  {
   "cell_type": "code",
   "execution_count": 42,
   "id": "295886d6-94bd-4f91-9b4f-eeb2126fcc8d",
   "metadata": {},
   "outputs": [
    {
     "name": "stdout",
     "output_type": "stream",
     "text": [
      "ACC completed: /glade/campaign/cisl/aiml/ksha/CREDIT_physics/GATHER/fuxi_plevel_dry/2020-01-01T00Z.nc\n",
      "ACC completed: /glade/campaign/cisl/aiml/ksha/CREDIT_physics/GATHER/fuxi_plevel_dry/2020-01-01T12Z.nc\n",
      "ACC completed: /glade/campaign/cisl/aiml/ksha/CREDIT_physics/GATHER/fuxi_plevel_dry/2020-01-02T00Z.nc\n",
      "Save to /glade/campaign/cisl/aiml/ksha/CREDIT_physics/VERIF/fuxi_plevel_dry/combined_acc_0_3_6h_360h_fuxi_dry.nc\n"
     ]
    }
   ],
   "source": [
    "acc_results = []\n",
    "\n",
    "for fn_ours in filename_OURS:\n",
    "    ds_ours = xr.open_dataset(fn_ours)\n",
    "    ds_ours = ds_ours.isel(time=ind_lead)\n",
    "    dayofyear = ds_ours['time.dayofyear']\n",
    "    hourofday = ds_ours['time'].dt.hour\n",
    "    ds_ours = ds_ours.compute()\n",
    "    \n",
    "    # --------------------------------------------------------------- #\n",
    "    # get ERA5 verification target\n",
    "    ds_target = ds_ERA5_merge.sel(time=ds_ours['time']).compute()\n",
    "    ds_target = ds_target[varname_verif]\n",
    "    \n",
    "    # update level coord vals based on target\n",
    "    ds_ours['level'] = ds_target['level']\n",
    "    \n",
    "    # --------------------------------------------------------------- #\n",
    "    # get ERA5 climatology\n",
    "    ds_clim_target = ds_ERA5_clim.sel(dayofyear=dayofyear, hour=hourofday).compute()\n",
    "    ds_clim_target = ds_clim_target.rename(rename_IFS_to_ERA5)\n",
    "    ds_clim_target = ds_clim_target[varname_verif]\n",
    "\n",
    "    ds_ours = ds_ours.sel(level=level_pick)\n",
    "    ds_target = ds_target.sel(level=level_pick)\n",
    "    ds_clim_target = ds_clim_target.sel(level=level_pick)\n",
    "    \n",
    "    # ========================================== #\n",
    "    # ERA5 anomaly\n",
    "    ds_anomaly_ERA5 = ds_target - ds_clim_target\n",
    "\n",
    "    # fcst anomaly\n",
    "    ds_anomaly_OURS = ds_ours - ds_clim_target\n",
    "    \n",
    "    # ========================================== #\n",
    "    # anmalies --> ACC with latitude-based cosine weights (check sp_avg and w_lat)\n",
    "    top = sp_avg(ds_anomaly_OURS*ds_anomaly_ERA5, w_lat)\n",
    "    \n",
    "    bottom = np.sqrt(\n",
    "        sp_avg(ds_anomaly_OURS**2, w_lat) * sp_avg(ds_anomaly_ERA5**2, w_lat))\n",
    "                \n",
    "    acc_results.append((top/bottom).drop_vars('time'))\n",
    "    \n",
    "    print('ACC completed: {}'.format(fn_ours))\n",
    "    \n",
    "# Combine ACC results\n",
    "ds_acc = xr.concat(acc_results, dim='days')\n",
    "\n",
    "# Save\n",
    "print('Save to {}'.format(path_verif))\n",
    "#ds_acc.to_netcdf(path_verif)"
   ]
  },
  {
   "cell_type": "code",
   "execution_count": 47,
   "id": "2222bc0f-31fe-4499-b8b1-ab5de67fcb7e",
   "metadata": {},
   "outputs": [],
   "source": [
    "# plt.plot(ds_acc['Z'].values[:, :, 6].mean(axis=0))"
   ]
  },
  {
   "cell_type": "code",
   "execution_count": null,
   "id": "9a8fe4c6-791c-40fe-b1e6-5f76712e95bc",
   "metadata": {},
   "outputs": [],
   "source": []
  },
  {
   "cell_type": "code",
   "execution_count": null,
   "id": "9f658f1d-26a7-49fd-ae06-7b8bec8a99fb",
   "metadata": {},
   "outputs": [],
   "source": []
  }
 ],
 "metadata": {
  "kernelspec": {
   "display_name": "Python 3 (ipykernel)",
   "language": "python",
   "name": "python3"
  },
  "language_info": {
   "codemirror_mode": {
    "name": "ipython",
    "version": 3
   },
   "file_extension": ".py",
   "mimetype": "text/x-python",
   "name": "python",
   "nbconvert_exporter": "python",
   "pygments_lexer": "ipython3",
   "version": "3.11.9"
  }
 },
 "nbformat": 4,
 "nbformat_minor": 5
}
