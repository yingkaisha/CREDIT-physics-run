{
 "cells": [
  {
   "cell_type": "markdown",
   "id": "ac814c7e-dee1-4b45-9239-8d9cd98b9ada",
   "metadata": {},
   "source": [
    "# Total precipitation mean, stdm and quantiles"
   ]
  },
  {
   "cell_type": "code",
   "execution_count": 1,
   "id": "8deb4be5-9191-4fb6-afb1-9b6c2351f719",
   "metadata": {},
   "outputs": [],
   "source": [
    "import os\n",
    "import sys\n",
    "import yaml\n",
    "from glob import glob\n",
    "from datetime import datetime, timedelta\n",
    "\n",
    "import numpy as np\n",
    "import xarray as xr\n",
    "import pandas as pd"
   ]
  },
  {
   "cell_type": "code",
   "execution_count": 2,
   "id": "cbb5d545-cc77-464d-9704-173ea0a307c0",
   "metadata": {},
   "outputs": [],
   "source": [
    "import matplotlib.pyplot as plt\n",
    "%matplotlib inline"
   ]
  },
  {
   "cell_type": "code",
   "execution_count": 3,
   "id": "4f276d5d-e0b9-4639-911f-44566f18e248",
   "metadata": {},
   "outputs": [],
   "source": [
    "sys.path.insert(0, os.path.realpath('../libs/'))\n",
    "import verif_utils as vu\n",
    "import seeps_utils as seeps"
   ]
  },
  {
   "cell_type": "code",
   "execution_count": 4,
   "id": "04614252-cb60-44ef-afa4-3732f1a34dae",
   "metadata": {},
   "outputs": [],
   "source": [
    "config_name = os.path.realpath('verif_config.yml')\n",
    "\n",
    "with open(config_name, 'r') as stream:\n",
    "    conf = yaml.safe_load(stream)"
   ]
  },
  {
   "cell_type": "code",
   "execution_count": 5,
   "id": "9df393c4-af29-4ef1-857c-403bd2342dcb",
   "metadata": {},
   "outputs": [],
   "source": [
    "model_name = 'fuxi_physics'\n",
    "lead_range = conf[model_name]['lead_range']\n",
    "verif_lead = [120,]\n",
    "leads_exist = list(np.arange(lead_range[0], lead_range[-1]+lead_range[0], lead_range[0]))\n",
    "ind_lead = vu.lead_to_index(leads_exist, verif_lead)"
   ]
  },
  {
   "cell_type": "code",
   "execution_count": 6,
   "id": "78708828-93ce-4ac9-80dd-5f9b40cd80a4",
   "metadata": {},
   "outputs": [],
   "source": [
    "path_verif = conf[model_name]['save_loc_verif']+'TP_stats_{:03d}h_{}.nc'.format(\n",
    "    verif_lead[0], model_name)"
   ]
  },
  {
   "cell_type": "markdown",
   "id": "7bbb12c4-f60e-4398-adde-bfb7367c544d",
   "metadata": {},
   "source": [
    "## Verification setup"
   ]
  },
  {
   "cell_type": "code",
   "execution_count": 7,
   "id": "5d9d3246-64ea-497c-aeb2-9702b62fe591",
   "metadata": {},
   "outputs": [],
   "source": [
    "# ---------------------------------------------------------------------------------------- #\n",
    "# forecast\n",
    "filename_OURS = sorted(glob(conf[model_name]['save_loc_gather']+'*.nc'))\n",
    "\n",
    "# pick years\n",
    "year_range = conf[model_name]['year_range']\n",
    "years_pick = np.arange(year_range[0], year_range[1]+1, 1).astype(str)\n",
    "filename_OURS = [fn for fn in filename_OURS if any(year in fn for year in years_pick)]"
   ]
  },
  {
   "cell_type": "code",
   "execution_count": 8,
   "id": "73e1a96d-b962-4d71-a740-cb48bc1c9a3c",
   "metadata": {},
   "outputs": [],
   "source": [
    "variable_levels = {\n",
    "    'total_precipitation': None,\n",
    "}"
   ]
  },
  {
   "cell_type": "code",
   "execution_count": 9,
   "id": "62b53182-2b2e-40f3-b265-0a250e7d0246",
   "metadata": {},
   "outputs": [],
   "source": [
    "# ---------------------------------------------------------------------------------------- #\n",
    "# RMSE compute\n",
    "tp_collect = []\n",
    "\n",
    "for fn_ours in filename_OURS:\n",
    "    # detect 00Z vs 12Z\n",
    "    ini = int(fn_ours[-6:-4])\n",
    "    \n",
    "    ds_ours = xr.open_dataset(fn_ours)\n",
    "    ds_ours = ds_ours.isel(time=ind_lead)\n",
    "    ds_ours = vu.ds_subset_everything(ds_ours, variable_levels)\n",
    "    \n",
    "    # ------------------------------------------- #\n",
    "    # convert neg precip to 0 before accumulation \n",
    "    ds_ours['total_precipitation'] = xr.where(\n",
    "        ds_ours['total_precipitation'] < 0, 0, ds_ours['total_precipitation']\n",
    "    )\n",
    "    ds_ours_24h = vu.accum_6h_24h(ds_ours, ini)\n",
    "    #ds_ours_24h = ds_ours_24h.compute()\n",
    "    \n",
    "    tp_collect.append(ds_ours_24h)\n",
    "    \n",
    "# Combine verif results\n",
    "ds_all_24h = xr.concat(tp_collect, dim='time')"
   ]
  },
  {
   "cell_type": "code",
   "execution_count": 10,
   "id": "47317cff-2373-4c3b-bcf9-698c3da2342e",
   "metadata": {},
   "outputs": [],
   "source": [
    "ds_mean = ds_all_24h['total_precipitation'].mean(dim='time')\n",
    "ds_std = ds_all_24h['total_precipitation'].std(dim='time')\n",
    "ds_p95 = ds_all_24h['total_precipitation'].quantile(0.95, dim='time')\n",
    "\n",
    "# Combine these into a new dataset\n",
    "ds_summary = xr.Dataset(\n",
    "    {\n",
    "    'mean': ds_mean,\n",
    "    'std': ds_std,\n",
    "    'p95': ds_p95\n",
    "})"
   ]
  },
  {
   "cell_type": "code",
   "execution_count": 11,
   "id": "67c1ea59-b0a1-4293-ae44-074a2c2b50b3",
   "metadata": {},
   "outputs": [
    {
     "data": {
      "text/plain": [
       "'/glade/campaign/cisl/aiml/ksha/CREDIT_physics/VERIF/fuxi_plevel_physics/TP_stats_120h_fuxi_physics.nc'"
      ]
     },
     "execution_count": 11,
     "metadata": {},
     "output_type": "execute_result"
    }
   ],
   "source": [
    "path_verif"
   ]
  },
  {
   "cell_type": "code",
   "execution_count": 12,
   "id": "bf254e09-4750-429c-98b5-f25160abc57c",
   "metadata": {},
   "outputs": [],
   "source": [
    "# ds_summary.to_netcdf(path_verif)"
   ]
  },
  {
   "cell_type": "code",
   "execution_count": null,
   "id": "8e81fd8b-3bd8-447a-84fd-9d025a223a90",
   "metadata": {},
   "outputs": [],
   "source": []
  },
  {
   "cell_type": "code",
   "execution_count": null,
   "id": "e6c35e86-fb61-4ae2-8900-fe53bac0a70b",
   "metadata": {},
   "outputs": [],
   "source": []
  },
  {
   "cell_type": "code",
   "execution_count": null,
   "id": "b6927ca2-ee20-4a15-b33b-34774d9bcc12",
   "metadata": {},
   "outputs": [],
   "source": []
  },
  {
   "cell_type": "code",
   "execution_count": null,
   "id": "a0b64879-7ab6-40cf-8394-895d7117ac96",
   "metadata": {},
   "outputs": [],
   "source": []
  }
 ],
 "metadata": {
  "kernelspec": {
   "display_name": "Python 3 (ipykernel)",
   "language": "python",
   "name": "python3"
  },
  "language_info": {
   "codemirror_mode": {
    "name": "ipython",
    "version": 3
   },
   "file_extension": ".py",
   "mimetype": "text/x-python",
   "name": "python",
   "nbconvert_exporter": "python",
   "pygments_lexer": "ipython3",
   "version": "3.11.9"
  }
 },
 "nbformat": 4,
 "nbformat_minor": 5
}
