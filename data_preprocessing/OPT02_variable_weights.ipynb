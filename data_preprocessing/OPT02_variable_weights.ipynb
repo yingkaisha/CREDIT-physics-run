{
 "cells": [
  {
   "cell_type": "markdown",
   "id": "cfb3946f-59f5-465a-a703-37ecb548033b",
   "metadata": {},
   "source": [
    "# Variable weights derivation\n",
    "\n",
    "This notebook computes the variable weights that are used in the paper.\n",
    "\n",
    "## Content\n",
    "* **Plan 1**: GraphCast per level weights + inverse variance weights (not used in the paper)\n",
    "* **Plan 2**: Tropopause weights + inverse variance weights (ours)."
   ]
  },
  {
   "cell_type": "code",
   "execution_count": 1,
   "id": "52375b71-29ae-4102-8358-31f21a0cd097",
   "metadata": {},
   "outputs": [],
   "source": [
    "import copy\n",
    "import numpy as np\n",
    "import pandas as pd\n",
    "import xarray as xr"
   ]
  },
  {
   "cell_type": "markdown",
   "id": "5182b9b2-58a1-4bed-82af-9a998c0016a8",
   "metadata": {},
   "source": [
    "## Plan 1"
   ]
  },
  {
   "cell_type": "code",
   "execution_count": 2,
   "id": "20371096-9df1-4279-847b-74a125eed979",
   "metadata": {},
   "outputs": [],
   "source": [
    "N_levels = 13\n",
    "base_dir = '/glade/derecho/scratch/ksha/CREDIT_data/ERA5_plevel_1deg/'\n",
    "ds_example = xr.open_zarr(base_dir+'upper_subset/ERA5_subset_1deg_6h_1979_conserve.zarr')\n",
    "plevel_sub = ds_example['level'].values"
   ]
  },
  {
   "cell_type": "code",
   "execution_count": 3,
   "id": "b911b56f-00e5-4096-bc70-8e2befb7fcaf",
   "metadata": {},
   "outputs": [
    {
     "data": {
      "text/plain": [
       "array([   1.,   50.,  150.,  200.,  250.,  300.,  400.,  500.,  600.,\n",
       "        700.,  850.,  925., 1000.], dtype=float32)"
      ]
     },
     "execution_count": 3,
     "metadata": {},
     "output_type": "execute_result"
    }
   ],
   "source": [
    "plevel_sub"
   ]
  },
  {
   "cell_type": "code",
   "execution_count": 5,
   "id": "12248a1b-522b-4a50-9ed5-d8daa6fb5ae1",
   "metadata": {},
   "outputs": [
    {
     "name": "stdout",
     "output_type": "stream",
     "text": [
      "[0.00016875 0.00843739 0.02531218 0.03374958 0.04218697 0.05062437\n",
      " 0.06749915 0.08437394 0.10124873 0.11812352 0.1434357  0.1560918\n",
      " 0.16874789]\n"
     ]
    }
   ],
   "source": [
    "W_13 = plevel_sub/plevel_sub.sum()\n",
    "print(W_13)"
   ]
  },
  {
   "cell_type": "code",
   "execution_count": 6,
   "id": "67effdc9-bb09-4e0b-a592-c7eb0de96154",
   "metadata": {},
   "outputs": [],
   "source": [
    "base_dir = '/glade/derecho/scratch/ksha/CREDIT_data/ERA5_plevel_1deg/'\n",
    "ds_residual = xr.open_dataset(base_dir+'mean_std/residual_original_6h_1979_2019_1deg_project2.nc')\n",
    "\n",
    "varnames = list(ds_residual.keys())\n",
    "varnames_upper_air = ['U', 'V', 'T', 'Z', 'specific_total_water']\n",
    "varnames_surf = ['MSL', 'VAR_2T', 'VAR_10U', 'VAR_10V']\n",
    "varnames_diag = list(set(varnames) - set(varnames_upper_air) - set(varnames_surf))"
   ]
  },
  {
   "cell_type": "code",
   "execution_count": 7,
   "id": "64732746-37af-4cf7-b4b2-33e529d66ccc",
   "metadata": {},
   "outputs": [
    {
     "name": "stdout",
     "output_type": "stream",
     "text": [
      "U: [0.00074453 0.04868871 0.12966564 0.14508504 0.14515986 0.1540217\n",
      " 0.19737493 0.25922557 0.32038853 0.36826953 0.39836128 0.40263347\n",
      " 0.44238634]\n",
      "V: [2.53826117e-04 2.03996686e-02 6.80872198e-02 8.23944091e-02\n",
      " 8.93078750e-02 9.87056115e-02 1.26914222e-01 1.64174915e-01\n",
      " 2.03726997e-01 2.37635543e-01 2.67428035e-01 2.85550043e-01\n",
      " 3.38206938e-01]\n",
      "T: [5.84349588e-04 7.12036922e-02 2.05622863e-01 1.60408188e-01\n",
      " 2.42626895e-01 4.47063045e-01 6.54471492e-01 8.02182170e-01\n",
      " 1.01463816e+00 1.31320519e+00 1.44420085e+00 1.49152441e+00\n",
      " 1.61549553e+00]\n",
      "Z: [0.00251419 0.23943166 0.69394616 0.76209039 0.76634458 0.80369486\n",
      " 0.97778603 1.18576914 1.32888625 1.33714512 1.11886459 0.97098472\n",
      " 0.863846  ]\n",
      "specific_total_water: [3.81569915e-04 6.68912643e-02 7.01308907e-02 8.57591489e-02\n",
      " 1.00839062e-01 1.25133810e-01 1.70023291e-01 2.28307119e-01\n",
      " 2.95877651e-01 3.65389912e-01 5.71135512e-01 9.55025789e-01\n",
      " 1.47645476e+00]\n",
      "MSL: 0.8526328908932757\n",
      "VAR_2T: 1.4244017135394262\n",
      "VAR_10U: 0.4364780107192832\n",
      "VAR_10V: 0.3360295557944148\n",
      "evaporation: 0.17692374559416985\n",
      "surface_latent_heat_flux: 0.17664364612348457\n",
      "toa_incident_solar_radiation: 0.07726716411084547\n",
      "surface_net_thermal_radiation: 0.15653393449070563\n",
      "surface_net_solar_radiation: 0.07794625761894024\n",
      "surface_sensible_heat_flux: 0.0959181313240541\n",
      "top_net_solar_radiation: 0.07747533334819327\n",
      "total_precipitation: 0.11022565623414256\n",
      "top_net_thermal_radiation: 0.2582709914459893\n"
     ]
    }
   ],
   "source": [
    "for var in varnames_upper_air:\n",
    "    residual_coef = ds_residual[var].values\n",
    "    print('{}: {}'.format(var, W_13/residual_coef))\n",
    "\n",
    "for var in varnames_surf:\n",
    "    residual_coef = ds_residual[var].values\n",
    "    print('{}: {}'.format(var, 0.17/residual_coef))\n",
    "\n",
    "for var in varnames_diag:\n",
    "    residual_coef = ds_residual[var].values\n",
    "    print('{}: {}'.format(var, 0.1/residual_coef))"
   ]
  },
  {
   "cell_type": "markdown",
   "id": "2fdebdc0-7798-4661-8a67-c9276f0b8e09",
   "metadata": {},
   "source": [
    "## Plan 2"
   ]
  },
  {
   "cell_type": "code",
   "execution_count": 4,
   "id": "8e22bcfc-92c3-4ad2-802e-e502fd6adb20",
   "metadata": {},
   "outputs": [],
   "source": [
    "N_levels = 13\n",
    "base_dir = '/glade/derecho/scratch/ksha/CREDIT_data/ERA5_plevel_1deg/'\n",
    "ds_example = xr.open_zarr(base_dir+'upper_subset/ERA5_subset_1deg_6h_1979_conserve.zarr')\n",
    "plevel_sub = ds_example['level'].values"
   ]
  },
  {
   "cell_type": "code",
   "execution_count": 5,
   "id": "5d148457-41f0-4b22-be48-899dfbdaa257",
   "metadata": {},
   "outputs": [
    {
     "data": {
      "text/plain": [
       "array([   1.,   50.,  150.,  200.,  250.,  300.,  400.,  500.,  600.,\n",
       "        700.,  850.,  925., 1000.], dtype=float32)"
      ]
     },
     "execution_count": 5,
     "metadata": {},
     "output_type": "execute_result"
    }
   ],
   "source": [
    "plevel_sub"
   ]
  },
  {
   "cell_type": "code",
   "execution_count": 6,
   "id": "fc554ac2-1f8a-426e-b2bd-e197926f7686",
   "metadata": {},
   "outputs": [
    {
     "name": "stdout",
     "output_type": "stream",
     "text": [
      "[0.00016875 0.00843739 0.02531218 0.03374958 0.04218697 0.10546743\n",
      " 0.16874789 0.16874789 0.16874789 0.16874789 0.16874789 0.16874789\n",
      " 0.16874789]\n"
     ]
    }
   ],
   "source": [
    "W_13 = plevel_sub/plevel_sub.sum()\n",
    "W_13[6:] = W_13[-1]\n",
    "W_13[5] = 0.5*(W_13[4]+W_13[6])\n",
    "print(W_13)"
   ]
  },
  {
   "cell_type": "code",
   "execution_count": 15,
   "id": "50f0c907-cf58-4a60-9a53-500f22d1f97a",
   "metadata": {},
   "outputs": [],
   "source": [
    "base_dir = '/glade/derecho/scratch/ksha/CREDIT_data/ERA5_plevel_1deg/'\n",
    "ds_residual = xr.open_dataset(base_dir+'mean_std/residual_original_6h_1979_2019_1deg_project2.nc')\n",
    "\n",
    "varnames = list(ds_residual.keys())\n",
    "varnames_upper_air = ['U', 'V', 'T', 'Z', 'specific_total_water']\n",
    "varnames_surf = ['MSL', 'VAR_2T', 'VAR_10U', 'VAR_10V']\n",
    "varnames_diag = list(set(varnames) - set(varnames_upper_air) - set(varnames_surf))"
   ]
  },
  {
   "cell_type": "code",
   "execution_count": 20,
   "id": "167899ad-0b0f-4bfc-9966-4291b197e139",
   "metadata": {},
   "outputs": [
    {
     "name": "stdout",
     "output_type": "stream",
     "text": [
      "U: [0.00074453 0.04868871 0.12966564 0.14508504 0.14515986 0.32087854\n",
      " 0.49343735 0.51845114 0.53398087 0.52609932 0.46866034 0.43527943\n",
      " 0.44238634]\n",
      "V: [2.53826117e-04 2.03996686e-02 6.80872198e-02 8.23944091e-02\n",
      " 8.93078750e-02 2.05636691e-01 3.17285562e-01 3.28349830e-01\n",
      " 3.39544991e-01 3.39479338e-01 3.14621222e-01 3.08702752e-01\n",
      " 3.38206938e-01]\n",
      "T: [5.84349588e-04 7.12036922e-02 2.05622863e-01 1.60408188e-01\n",
      " 2.42626895e-01 9.31381347e-01 1.63617877e+00 1.60436434e+00\n",
      " 1.69106357e+00 1.87600737e+00 1.69905985e+00 1.61245883e+00\n",
      " 1.61549553e+00]\n",
      "Z: [0.00251419 0.23943166 0.69394616 0.76209039 0.76634458 1.6743643\n",
      " 2.44446514 2.37153828 2.21481039 1.91020726 1.31631131 1.04971322\n",
      " 0.863846  ]\n",
      "specific_total_water: [3.81569915e-04 6.68912643e-02 7.01308907e-02 8.57591489e-02\n",
      " 1.00839062e-01 2.60695439e-01 4.25058236e-01 4.56614238e-01\n",
      " 4.93129410e-01 5.21985576e-01 6.71924143e-01 1.03246032e+00\n",
      " 1.47645476e+00]\n",
      "MSL: 0.8526328908932757\n",
      "VAR_2T: 1.4244017135394262\n",
      "VAR_10U: 0.4364780107192832\n",
      "VAR_10V: 0.3360295557944148\n",
      "surface_net_thermal_radiation: 0.15653393449070563\n",
      "top_net_solar_radiation: 0.07747533334819327\n",
      "evaporation: 0.17692374559416985\n",
      "surface_latent_heat_flux: 0.17664364612348457\n",
      "top_net_thermal_radiation: 0.2582709914459893\n",
      "toa_incident_solar_radiation: 0.07726716411084547\n",
      "total_precipitation: 0.11022565623414256\n",
      "surface_net_solar_radiation: 0.07794625761894024\n",
      "surface_sensible_heat_flux: 0.0959181313240541\n"
     ]
    }
   ],
   "source": [
    "for var in varnames_upper_air:\n",
    "    residual_coef = ds_residual[var].values\n",
    "    print('{}: {}'.format(var, W_13/residual_coef))\n",
    "\n",
    "for var in varnames_surf:\n",
    "    residual_coef = ds_residual[var].values\n",
    "    print('{}: {}'.format(var, 0.17/residual_coef))\n",
    "\n",
    "for var in varnames_diag:\n",
    "    residual_coef = ds_residual[var].values\n",
    "    print('{}: {}'.format(var, 0.1/residual_coef))"
   ]
  },
  {
   "cell_type": "markdown",
   "id": "82dab2fb-473c-4c11-92fe-4b81c880ab16",
   "metadata": {},
   "source": [
    "**13 pressure level weights**\n",
    "\n",
    "```python\n",
    "    variable_weights:\n",
    "        U: [0.00074453, 0.04868871, 0.12966564, 0.14508504, 0.14515986, 0.32087854, 0.49343735, 0.51845114, 0.53398087, 0.52609932, 0.46866034, 0.43527943, 0.44238634]\n",
    "        V: [2.53826117e-04, 2.03996686e-02, 6.80872198e-02, 8.23944091e-02, 8.93078750e-02, 2.05636691e-01, 3.17285562e-01, 3.28349830e-01, 3.39544991e-01, 3.39479338e-01, 3.14621222e-01, 3.08702752e-01, 3.38206938e-01]\n",
    "        T: [5.84349588e-04, 7.12036922e-02, 2.05622863e-01, 1.60408188e-01, 2.42626895e-01, 9.31381347e-01, 1.63617877e+00, 1.60436434e+00, 1.69106357e+00, 1.87600737e+00, 1.69905985e+00, 1.61245883e+00, 1.61549553e+00]\n",
    "        Z: [0.00251419, 0.23943166, 0.69394616, 0.76209039, 0.76634458, 1.6743643, 2.44446514, 2.37153828, 2.21481039, 1.91020726, 1.31631131, 1.04971322, 0.863846  ]\n",
    "        specific_total_water: [3.81569915e-04, 6.68912643e-02, 7.01308907e-02, 8.57591489e-02, 1.00839062e-01, 2.60695439e-01, 4.25058236e-01, 4.56614238e-01, 4.93129410e-01, 5.21985576e-01, 6.71924143e-01, 1.03246032e+00, 1.47645476e+00]\n",
    "        MSL: 0.8526328908932757\n",
    "        VAR_2T: 1.4244017135394262\n",
    "        VAR_10U: 0.4364780107192832\n",
    "        VAR_10V: 0.3360295557944148\n",
    "        surface_net_thermal_radiation: 0.15653393449070563\n",
    "        top_net_solar_radiation: 0.07747533334819327\n",
    "        evaporation: 0.17692374559416985\n",
    "        surface_latent_heat_flux: 0.17664364612348457\n",
    "        top_net_thermal_radiation: 0.2582709914459893\n",
    "        toa_incident_solar_radiation: 0.07726716411084547\n",
    "        total_precipitation: 0.11022565623414256\n",
    "        surface_net_solar_radiation: 0.07794625761894024\n",
    "        surface_sensible_heat_flux: 0.0959181313240541\n",
    "```"
   ]
  },
  {
   "cell_type": "code",
   "execution_count": null,
   "id": "df9ad4b2-5883-4fc4-8dc8-1de8e5206739",
   "metadata": {},
   "outputs": [],
   "source": []
  }
 ],
 "metadata": {
  "kernelspec": {
   "display_name": "Python 3 (ipykernel)",
   "language": "python",
   "name": "python3"
  },
  "language_info": {
   "codemirror_mode": {
    "name": "ipython",
    "version": 3
   },
   "file_extension": ".py",
   "mimetype": "text/x-python",
   "name": "python",
   "nbconvert_exporter": "python",
   "pygments_lexer": "ipython3",
   "version": "3.11.9"
  }
 },
 "nbformat": 4,
 "nbformat_minor": 5
}
