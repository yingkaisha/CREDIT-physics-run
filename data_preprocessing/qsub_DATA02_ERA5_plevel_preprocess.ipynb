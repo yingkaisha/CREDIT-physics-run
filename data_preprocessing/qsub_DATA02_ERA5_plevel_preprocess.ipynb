{
 "cells": [
  {
   "cell_type": "markdown",
   "id": "304505aa-820b-41ea-af52-57a62b6c8655",
   "metadata": {},
   "source": [
    "# Generate qsub scripts for ERA5 data preparation"
   ]
  },
  {
   "cell_type": "code",
   "execution_count": 1,
   "id": "a4e06d0d-df0e-4353-9fc7-dcab383a8d70",
   "metadata": {},
   "outputs": [],
   "source": [
    "import os\n",
    "import sys\n",
    "import yaml\n",
    "import numpy as np\n",
    "import xarray as xr"
   ]
  },
  {
   "cell_type": "code",
   "execution_count": 2,
   "id": "94494a11-1fef-419e-9dfe-4307e9e90634",
   "metadata": {},
   "outputs": [],
   "source": [
    "# sys.path.insert(0, os.path.realpath('../libs/'))\n",
    "# import preprocess_utils as pu"
   ]
  },
  {
   "cell_type": "markdown",
   "id": "02e6238c-b5dc-46d9-bcd9-14478af09332",
   "metadata": {},
   "source": [
    "## Casper PBS"
   ]
  },
  {
   "cell_type": "markdown",
   "id": "9d95334d-0d4c-451f-8d64-e2627c35bce3",
   "metadata": {},
   "source": [
    "### 1 deg interpolation"
   ]
  },
  {
   "cell_type": "code",
   "execution_count": 3,
   "id": "b3b407ed-17f4-43fb-a690-efaa88d29794",
   "metadata": {},
   "outputs": [],
   "source": [
    "config_name = os.path.realpath('data_config_6h.yml')\n",
    "\n",
    "with open(config_name, 'r') as stream:\n",
    "    conf = yaml.safe_load(stream)"
   ]
  },
  {
   "cell_type": "code",
   "execution_count": 4,
   "id": "56b6937e-d466-4011-acb1-77acc61858e8",
   "metadata": {},
   "outputs": [],
   "source": [
    "years_range = conf['RDA']['years_range']\n",
    "years = np.arange(years_range[0], years_range[1])"
   ]
  },
  {
   "cell_type": "code",
   "execution_count": 5,
   "id": "b345646e-9986-48f6-a376-829e0a49870f",
   "metadata": {},
   "outputs": [],
   "source": [
    "for i_year, year in enumerate(years):\n",
    "    \n",
    "    f = open('{}ERA5_PP_1deg_6h_{}.sh'.format(conf['qsub']['qsub_loc'], year), 'w') \n",
    "    \n",
    "    heads = '''#!/bin/bash -l\n",
    "\n",
    "#PBS -N {}\n",
    "#PBS -A NCIS0010\n",
    "#PBS -l walltime=23:59:59\n",
    "#PBS -l select=1:ncpus=8:mem=70GB\n",
    "#PBS -q casper\n",
    "#PBS -o {}.log\n",
    "#PBS -e {}.err\n",
    "\n",
    "conda activate credit\n",
    "cd {}\n",
    "python PP_ERA5_plevel_1deg_conserve.py {}\n",
    "'''.format(year, year, year, \n",
    "           conf['qsub']['scripts_loc'], \n",
    "           year)\n",
    "    \n",
    "    print(heads, file=f)    \n",
    "    f.close()\n",
    "\n",
    "\n",
    "\n",
    "f = open('{}batch_ERA5_PP_1deg_6h.sh'.format(conf['qsub']['qsub_loc']), 'w')\n",
    "for i_year, year in enumerate(years):\n",
    "    print('qsub ERA5_PP_1deg_6h_{}.sh'.format(year), file=f)\n",
    "f.close()"
   ]
  },
  {
   "cell_type": "markdown",
   "id": "8e2c1f06-fd11-4245-95b4-cdc3743610b1",
   "metadata": {},
   "source": [
    "### 1 deg interpolation cloud"
   ]
  },
  {
   "cell_type": "code",
   "execution_count": 3,
   "id": "5d80cf8d-9b98-484a-86a0-fb7353c62c52",
   "metadata": {},
   "outputs": [],
   "source": [
    "config_name = os.path.realpath('data_config_6h.yml')\n",
    "\n",
    "with open(config_name, 'r') as stream:\n",
    "    conf = yaml.safe_load(stream)"
   ]
  },
  {
   "cell_type": "code",
   "execution_count": 4,
   "id": "0d6926dc-e428-45f2-94a5-4e2ceb7e6ac8",
   "metadata": {},
   "outputs": [],
   "source": [
    "years_range = conf['RDA']['years_range']\n",
    "years = np.arange(years_range[0], years_range[1])"
   ]
  },
  {
   "cell_type": "code",
   "execution_count": 5,
   "id": "74cf7bc9-8f49-46d4-9db9-3a2fb9bb0689",
   "metadata": {},
   "outputs": [],
   "source": [
    "for i_year, year in enumerate(years):\n",
    "    \n",
    "    f = open('{}ERA5_PP_1deg_6h_{}.sh'.format(conf['qsub']['qsub_loc'], year), 'w') \n",
    "    \n",
    "    heads = '''#!/bin/bash -l\n",
    "\n",
    "#PBS -N {}\n",
    "#PBS -A NCIS0010\n",
    "#PBS -l walltime=23:59:59\n",
    "#PBS -l select=1:ncpus=8:mem=70GB\n",
    "#PBS -q casper\n",
    "#PBS -o {}.log\n",
    "#PBS -e {}.err\n",
    "\n",
    "conda activate credit\n",
    "cd {}\n",
    "python PP_ERA5_plevel_1deg_cloud.py {}\n",
    "'''.format(year, year, year, \n",
    "           conf['qsub']['scripts_loc'], \n",
    "           year)\n",
    "    \n",
    "    print(heads, file=f)    \n",
    "    f.close()\n",
    "\n",
    "\n",
    "\n",
    "f = open('{}batch_ERA5_PP_1deg_6h.sh'.format(conf['qsub']['qsub_loc']), 'w')\n",
    "for i_year, year in enumerate(years):\n",
    "    print('qsub ERA5_PP_1deg_6h_{}.sh'.format(year), file=f)\n",
    "f.close()"
   ]
  },
  {
   "cell_type": "code",
   "execution_count": null,
   "id": "a42a1869-5dc9-406e-a1e0-8c268be71f91",
   "metadata": {},
   "outputs": [],
   "source": []
  },
  {
   "cell_type": "code",
   "execution_count": null,
   "id": "f8e407f6-3290-4b27-bc6e-fd94bd3eed1e",
   "metadata": {},
   "outputs": [],
   "source": []
  },
  {
   "cell_type": "markdown",
   "id": "49de7e6d-89c7-4975-81ce-47a74ef5fc72",
   "metadata": {},
   "source": [
    "### 6 hourly pressure level analysis"
   ]
  },
  {
   "cell_type": "code",
   "execution_count": 3,
   "id": "83b2b411-d4b1-473e-ad38-115e3b373fdc",
   "metadata": {},
   "outputs": [],
   "source": [
    "config_name = os.path.realpath('data_config_6h.yml')\n",
    "\n",
    "with open(config_name, 'r') as stream:\n",
    "    conf = yaml.safe_load(stream)"
   ]
  },
  {
   "cell_type": "code",
   "execution_count": 4,
   "id": "b9cd63ca-00fd-4319-95c8-46510a49388a",
   "metadata": {},
   "outputs": [],
   "source": [
    "years_range = conf['RDA']['years_range']\n",
    "years = np.arange(years_range[0], years_range[1])"
   ]
  },
  {
   "cell_type": "code",
   "execution_count": 5,
   "id": "c724f245-1cbf-4ad8-b76f-3bb8da944e3a",
   "metadata": {},
   "outputs": [],
   "source": [
    "for i_year, year in enumerate(years):\n",
    "    \n",
    "    f = open('{}ERA5_PP_plevel_6h_{}.sh'.format(conf['qsub']['qsub_loc'], year), 'w') \n",
    "    \n",
    "    heads = '''#!/bin/bash -l\n",
    "\n",
    "#PBS -N {}\n",
    "#PBS -A NAML0001\n",
    "#PBS -l walltime=23:59:59\n",
    "#PBS -l select=1:ncpus=8:mem=70GB\n",
    "#PBS -q casper\n",
    "#PBS -o {}.log\n",
    "#PBS -e {}.err\n",
    "\n",
    "conda activate credit\n",
    "cd {}\n",
    "python PP_ERA5_plevel_upper_air.py {}\n",
    "'''.format(year, year, year, \n",
    "           conf['qsub']['scripts_loc'], \n",
    "           year)\n",
    "    \n",
    "    print(heads, file=f)    \n",
    "    f.close()\n",
    "\n",
    "\n",
    "\n",
    "f = open('{}batch_ERA5_PP_plevel_6h.sh'.format(conf['qsub']['qsub_loc']), 'w')\n",
    "for i_year, year in enumerate(years):\n",
    "    print('qsub ERA5_PP_plevel_6h_{}.sh'.format(year), file=f)\n",
    "f.close()"
   ]
  },
  {
   "cell_type": "markdown",
   "id": "fb1d689c-928f-47a5-979b-75279ae717d7",
   "metadata": {},
   "source": [
    "### Pressure level analysis for clould variables"
   ]
  },
  {
   "cell_type": "code",
   "execution_count": 5,
   "id": "9b9ef998-d1a4-4962-bd38-16e6c774fe37",
   "metadata": {},
   "outputs": [],
   "source": [
    "for i_year, year in enumerate(years):\n",
    "    \n",
    "    f = open('{}ERA5_PP_plevel_6h_{}.sh'.format(conf['qsub']['qsub_loc'], year), 'w') \n",
    "    \n",
    "    heads = '''#!/bin/bash -l\n",
    "\n",
    "#PBS -N {}\n",
    "#PBS -A NMMM0043\n",
    "#PBS -l walltime=23:59:59\n",
    "#PBS -l select=1:ncpus=8:mem=70GB\n",
    "#PBS -q casper\n",
    "#PBS -o {}.log\n",
    "#PBS -e {}.err\n",
    "\n",
    "conda activate credit\n",
    "cd {}\n",
    "python PP_ERA5_plevel_cloud.py {}\n",
    "'''.format(year, year, year, \n",
    "           conf['qsub']['scripts_loc'], \n",
    "           year)\n",
    "    \n",
    "    print(heads, file=f)    \n",
    "    f.close()\n",
    "\n",
    "f = open('{}batch_ERA5_PP_plevel_6h.sh'.format(conf['qsub']['qsub_loc']), 'w')\n",
    "for i_year, year in enumerate(years):\n",
    "    print('qsub ERA5_PP_plevel_6h_{}.sh'.format(year), file=f)\n",
    "f.close()"
   ]
  },
  {
   "cell_type": "markdown",
   "id": "3ba79a73-e2f4-4979-9491-761e6150e8b7",
   "metadata": {},
   "source": [
    "### Pressure level analysis subset"
   ]
  },
  {
   "cell_type": "code",
   "execution_count": 3,
   "id": "ee9f4664-3a55-4ded-bf89-65268509fa95",
   "metadata": {},
   "outputs": [],
   "source": [
    "config_name = os.path.realpath('data_config_6h.yml')\n",
    "\n",
    "with open(config_name, 'r') as stream:\n",
    "    conf = yaml.safe_load(stream)"
   ]
  },
  {
   "cell_type": "code",
   "execution_count": 4,
   "id": "b1908e82-6040-4550-983e-78057fc70795",
   "metadata": {},
   "outputs": [],
   "source": [
    "years_range = conf['RDA']['years_range']\n",
    "years = np.arange(years_range[0], years_range[1])"
   ]
  },
  {
   "cell_type": "code",
   "execution_count": 5,
   "id": "6c0de3b7-eff0-4ccc-a969-092944cf7e5f",
   "metadata": {},
   "outputs": [],
   "source": [
    "for i_year, year in enumerate(years):\n",
    "    \n",
    "    f = open('{}ERA5_PP_plevel_subset_6h_{}.sh'.format(conf['qsub']['qsub_loc'], year), 'w') \n",
    "    \n",
    "    heads = '''#!/bin/bash -l\n",
    "\n",
    "#PBS -N {}_subset\n",
    "#PBS -A NCIS0010\n",
    "#PBS -l walltime=23:59:59\n",
    "#PBS -l select=1:ncpus=8:mem=70GB\n",
    "#PBS -q casper\n",
    "#PBS -o {}_subset.log\n",
    "#PBS -e {}_subset.err\n",
    "\n",
    "conda activate credit\n",
    "cd {}\n",
    "python PP_ERA5_plevel_upper_subset.py {}\n",
    "'''.format(year, year, year, \n",
    "           conf['qsub']['scripts_loc'], \n",
    "           year)\n",
    "    \n",
    "    print(heads, file=f)    \n",
    "    f.close()\n",
    "\n",
    "f = open('{}batch_ERA5_PP_plevel_subset_6h.sh'.format(conf['qsub']['qsub_loc']), 'w')\n",
    "for i_year, year in enumerate(years):\n",
    "    print('qsub ERA5_PP_plevel_subset_6h_{}.sh'.format(year), file=f)\n",
    "f.close()"
   ]
  },
  {
   "cell_type": "markdown",
   "id": "bf1a962d-3940-4e77-98e8-eaa91e2efe16",
   "metadata": {},
   "source": [
    "### Pressure level analysis subset (Q)"
   ]
  },
  {
   "cell_type": "code",
   "execution_count": 3,
   "id": "b452213a-faf8-47da-8769-4aa118791ca3",
   "metadata": {},
   "outputs": [],
   "source": [
    "config_name = os.path.realpath('data_config_6h.yml')\n",
    "\n",
    "with open(config_name, 'r') as stream:\n",
    "    conf = yaml.safe_load(stream)"
   ]
  },
  {
   "cell_type": "code",
   "execution_count": 4,
   "id": "0c19fec0-6ffa-4bdf-b75b-2a8a62c2842b",
   "metadata": {},
   "outputs": [],
   "source": [
    "years_range = conf['RDA']['years_range']\n",
    "years = np.arange(years_range[0], years_range[1])"
   ]
  },
  {
   "cell_type": "code",
   "execution_count": 5,
   "id": "29e792e6-581f-4bb7-8001-c3886198f8dc",
   "metadata": {},
   "outputs": [],
   "source": [
    "for i_year, year in enumerate(years):\n",
    "    \n",
    "    f = open('{}ERA5_PP_plevel_subset_6h_{}.sh'.format(conf['qsub']['qsub_loc'], year), 'w') \n",
    "    \n",
    "    heads = '''#!/bin/bash -l\n",
    "\n",
    "#PBS -N {}_subset\n",
    "#PBS -A NCIS0010\n",
    "#PBS -l walltime=23:59:59\n",
    "#PBS -l select=1:ncpus=8:mem=32GB\n",
    "#PBS -q casper\n",
    "#PBS -o {}_subset.log\n",
    "#PBS -e {}_subset.err\n",
    "\n",
    "conda activate credit\n",
    "cd {}\n",
    "python PP_ERA5_plevel_upper_subset_Q.py {}\n",
    "'''.format(year, year, year, \n",
    "           conf['qsub']['scripts_loc'], \n",
    "           year)\n",
    "    \n",
    "    print(heads, file=f)    \n",
    "    f.close()\n",
    "\n",
    "f = open('{}batch_ERA5_PP_plevel_subset_6h.sh'.format(conf['qsub']['qsub_loc']), 'w')\n",
    "for i_year, year in enumerate(years):\n",
    "    print('qsub ERA5_PP_plevel_subset_6h_{}.sh'.format(year), file=f)\n",
    "f.close()"
   ]
  },
  {
   "cell_type": "markdown",
   "id": "e1acc12e-633d-4fa0-b1ca-a093d80b21b6",
   "metadata": {},
   "source": [
    "### 6 hourly surface analysis"
   ]
  },
  {
   "cell_type": "code",
   "execution_count": 9,
   "id": "d30b2e99-8dea-44f8-80db-305f740feaca",
   "metadata": {},
   "outputs": [],
   "source": [
    "config_name = os.path.realpath('data_config_6h.yml')\n",
    "\n",
    "with open(config_name, 'r') as stream:\n",
    "    conf = yaml.safe_load(stream)"
   ]
  },
  {
   "cell_type": "code",
   "execution_count": 10,
   "id": "c86238da-0472-4b96-98fd-b29722ab6e37",
   "metadata": {},
   "outputs": [],
   "source": [
    "years_range = conf['RDA']['years_range']\n",
    "years = np.arange(years_range[0], years_range[1])"
   ]
  },
  {
   "cell_type": "code",
   "execution_count": 15,
   "id": "e2fe588f-58ca-4662-9cc4-a61426eb5f37",
   "metadata": {},
   "outputs": [],
   "source": [
    "for i_year, year in enumerate(years):\n",
    "    \n",
    "    f = open('{}ERA5_PP_plevel_surf_6h_{}.sh'.format(conf['qsub']['qsub_loc'], year), 'w') \n",
    "    \n",
    "    heads = '''#!/bin/bash -l\n",
    "\n",
    "#PBS -N {}_surf\n",
    "#PBS -A NAML0001\n",
    "#PBS -l walltime=23:59:59\n",
    "#PBS -l select=1:ncpus=8:mem=70GB\n",
    "#PBS -q casper\n",
    "#PBS -o {}_surf.log\n",
    "#PBS -e {}_surf.err\n",
    "\n",
    "conda activate credit\n",
    "cd {}\n",
    "python PP_ERA5_plevel_surface.py {}\n",
    "'''.format(year, year, year, \n",
    "           conf['qsub']['scripts_loc'], \n",
    "           year)\n",
    "    \n",
    "    print(heads, file=f)    \n",
    "    f.close()\n",
    "\n",
    "\n",
    "\n",
    "f = open('{}batch_ERA5_PP_plevel_surf_6h.sh'.format(conf['qsub']['qsub_loc']), 'w')\n",
    "for i_year, year in enumerate(years):\n",
    "    print('qsub ERA5_PP_plevel_surf_6h_{}.sh'.format(year), file=f)\n",
    "f.close()"
   ]
  },
  {
   "cell_type": "markdown",
   "id": "cf9577f6-c153-4d69-acf8-9849c6307fda",
   "metadata": {},
   "source": [
    "### Extended surface analysis"
   ]
  },
  {
   "cell_type": "code",
   "execution_count": 13,
   "id": "d919e37a-f5c3-4c5c-b6d0-0256324de7e2",
   "metadata": {},
   "outputs": [],
   "source": [
    "for i_year, year in enumerate(years):\n",
    "    \n",
    "    f = open('{}ERA5_PP_plevel_surf_6h_{}.sh'.format(conf['qsub']['qsub_loc'], year), 'w') \n",
    "    \n",
    "    heads = '''#!/bin/bash -l\n",
    "\n",
    "#PBS -N {}_surf\n",
    "#PBS -A NAML0001\n",
    "#PBS -l walltime=23:59:59\n",
    "#PBS -l select=1:ncpus=8:mem=32GB\n",
    "#PBS -q casper\n",
    "#PBS -o {}_surf.log\n",
    "#PBS -e {}_surf.err\n",
    "\n",
    "conda activate credit\n",
    "cd {}\n",
    "python PP_ERA5_plevel_surface_extend.py {}\n",
    "'''.format(year, year, year, \n",
    "           conf['qsub']['scripts_loc'], \n",
    "           year)\n",
    "    \n",
    "    print(heads, file=f)    \n",
    "    f.close()\n",
    "\n",
    "f = open('{}batch_ERA5_PP_plevel_surf_6h.sh'.format(conf['qsub']['qsub_loc']), 'w')\n",
    "for i_year, year in enumerate(years):\n",
    "    print('qsub ERA5_PP_plevel_surf_6h_{}.sh'.format(year), file=f)\n",
    "f.close()"
   ]
  },
  {
   "cell_type": "markdown",
   "id": "a767f673-5536-422f-8a8c-923ea89b2b3e",
   "metadata": {},
   "source": [
    "### 6 hourly forecasts for accumlative variables (casper, from ARCO)"
   ]
  },
  {
   "cell_type": "code",
   "execution_count": 10,
   "id": "635e2397-fe15-4194-98c0-57d23f47fc36",
   "metadata": {},
   "outputs": [],
   "source": [
    "config_name = os.path.realpath('data_config_6h.yml')\n",
    "\n",
    "with open(config_name, 'r') as stream:\n",
    "    conf = yaml.safe_load(stream)"
   ]
  },
  {
   "cell_type": "code",
   "execution_count": 11,
   "id": "89243249-9562-4b9f-b341-59c3be4ef5b8",
   "metadata": {},
   "outputs": [],
   "source": [
    "years_range = conf['ARCO']['years_range']\n",
    "years = np.arange(years_range[0], years_range[1])"
   ]
  },
  {
   "cell_type": "code",
   "execution_count": 18,
   "id": "ecc8dbe6-8f4c-4376-a2a6-ce2c8e750c12",
   "metadata": {},
   "outputs": [],
   "source": [
    "for i_year, year in enumerate(years):\n",
    "    \n",
    "    f = open('{}ERA5_PP_plevel_accum_6h_{}.sh'.format(conf['qsub']['qsub_loc'], year), 'w') \n",
    "    \n",
    "    heads = '''#!/bin/bash -l\n",
    "\n",
    "#PBS -N {}_accum\n",
    "#PBS -A NAML0001\n",
    "#PBS -l walltime=23:59:59\n",
    "#PBS -l select=1:ncpus=8:mem=70GB\n",
    "#PBS -q casper\n",
    "#PBS -o {}_accum.log\n",
    "#PBS -e {}_accum.err\n",
    "\n",
    "conda activate credit\n",
    "cd {}\n",
    "python PP_ERA5_plevel_accum.py {}\n",
    "'''.format(year, year, year, \n",
    "           conf['qsub']['scripts_loc'], \n",
    "           year)\n",
    "    \n",
    "    print(heads, file=f)    \n",
    "    f.close()\n",
    "\n",
    "f = open('{}batch_ERA5_PP_plevel_accum_6h.sh'.format(conf['qsub']['qsub_loc']), 'w')\n",
    "for i_year, year in enumerate(years):\n",
    "    print('qsub ERA5_PP_plevel_accum_6h_{}.sh'.format(year), file=f)\n",
    "f.close()"
   ]
  },
  {
   "cell_type": "markdown",
   "id": "093bab63-075d-4963-b2c2-48a2484150c8",
   "metadata": {},
   "source": [
    "### Forcing variables (Casper, ARCO)"
   ]
  },
  {
   "cell_type": "code",
   "execution_count": 13,
   "id": "035b8eda-58c5-4e6f-95cd-cbb4cbaaebd0",
   "metadata": {},
   "outputs": [],
   "source": [
    "for i_year, year in enumerate(years):\n",
    "    \n",
    "    f = open('{}ERA5_PP_plevel_forcing_6h_{}.sh'.format(conf['qsub']['qsub_loc'], year), 'w') \n",
    "    \n",
    "    heads = '''#!/bin/bash -l\n",
    "\n",
    "#PBS -N {}_forcing\n",
    "#PBS -A NMMM0043\n",
    "#PBS -l walltime=23:59:59\n",
    "#PBS -l select=1:ncpus=8:mem=32GB\n",
    "#PBS -q casper\n",
    "#PBS -o {}_forcing.log\n",
    "#PBS -e {}_forcing.err\n",
    "\n",
    "conda activate credit\n",
    "cd {}\n",
    "python PP_ERA5_plevel_forcing.py {}\n",
    "'''.format(year, year, year, \n",
    "           conf['qsub']['scripts_loc'], \n",
    "           year)\n",
    "    \n",
    "    print(heads, file=f)\n",
    "    f.close()\n",
    "\n",
    "f = open('{}batch_ERA5_PP_plevel_forcing_6h.sh'.format(conf['qsub']['qsub_loc']), 'w')\n",
    "for i_year, year in enumerate(years):\n",
    "    print('qsub ERA5_PP_plevel_forcing_6h_{}.sh'.format(year), file=f)\n",
    "f.close()"
   ]
  },
  {
   "cell_type": "markdown",
   "id": "4b95a0e1-8d84-4f87-9167-773075dcb0dd",
   "metadata": {},
   "source": [
    "### 6 hourly combine all as one"
   ]
  },
  {
   "cell_type": "code",
   "execution_count": 3,
   "id": "3f282eb5-c352-412b-98ed-ac4421abbf67",
   "metadata": {},
   "outputs": [],
   "source": [
    "config_name = os.path.realpath('data_config_6h.yml')\n",
    "\n",
    "with open(config_name, 'r') as stream:\n",
    "    conf = yaml.safe_load(stream)"
   ]
  },
  {
   "cell_type": "code",
   "execution_count": 4,
   "id": "9b1a4ec1-00cf-4dca-886d-422183ac6168",
   "metadata": {},
   "outputs": [],
   "source": [
    "years_range = conf['ARCO']['years_range']\n",
    "years = np.arange(years_range[0], years_range[1])"
   ]
  },
  {
   "cell_type": "code",
   "execution_count": 5,
   "id": "d3414f4e-3342-419e-8cb0-144f392e6e7b",
   "metadata": {},
   "outputs": [],
   "source": [
    "for i_year, year in enumerate(years):\n",
    "    \n",
    "    f = open('{}ERA5_PP_plevel_merge_6h_{}.sh'.format(conf['qsub']['qsub_loc'], year), 'w') \n",
    "    \n",
    "    heads = '''#!/bin/bash -l\n",
    "\n",
    "#PBS -N {}_merge\n",
    "#PBS -A NCIS0010\n",
    "#PBS -l walltime=23:59:59\n",
    "#PBS -l select=1:ncpus=8:mem=32GB\n",
    "#PBS -q casper\n",
    "#PBS -o {}_merge.log\n",
    "#PBS -e {}_merge.err\n",
    "\n",
    "conda activate credit\n",
    "cd {}\n",
    "python PP_ERA5_plevel_merge_Q.py {}\n",
    "'''.format(year, year, year, \n",
    "           conf['qsub']['scripts_loc'], \n",
    "           year)\n",
    "    \n",
    "    print(heads, file=f)    \n",
    "    f.close()\n",
    "\n",
    "f = open('{}batch_ERA5_PP_plevel_merge_6h.sh'.format(conf['qsub']['qsub_loc']), 'w')\n",
    "for i_year, year in enumerate(years):\n",
    "    print('qsub ERA5_PP_plevel_merge_6h_{}.sh'.format(year), file=f)\n",
    "f.close()"
   ]
  },
  {
   "cell_type": "code",
   "execution_count": null,
   "id": "d99856a8-aa11-436d-b3ec-4253182b2796",
   "metadata": {},
   "outputs": [],
   "source": []
  },
  {
   "cell_type": "markdown",
   "id": "896c25b2-cf71-4c2d-ab95-2806a0674549",
   "metadata": {},
   "source": [
    "## Derecho PBS"
   ]
  },
  {
   "cell_type": "markdown",
   "id": "37ecc2bd-f660-4717-8394-5718d1ce51f6",
   "metadata": {},
   "source": [
    "### 6 hourly pressure level analysis"
   ]
  },
  {
   "cell_type": "code",
   "execution_count": 4,
   "id": "114b8b39-a02d-4382-8062-55591204e374",
   "metadata": {},
   "outputs": [],
   "source": [
    "config_name = os.path.realpath('data_config_6h.yml')\n",
    "\n",
    "with open(config_name, 'r') as stream:\n",
    "    conf = yaml.safe_load(stream)\n",
    "\n",
    "years_range = conf['ARCO']['years_range']\n",
    "years = np.arange(years_range[0], years_range[1])"
   ]
  },
  {
   "cell_type": "code",
   "execution_count": 7,
   "id": "ee122092-b5c0-46eb-ae95-0f58d31c23f5",
   "metadata": {},
   "outputs": [],
   "source": [
    "for i_year, year in enumerate(years):\n",
    "    \n",
    "    f = open('{}ERA5_PP_plevel_6h_{}.sh'.format(conf['qsub']['qsub_loc'], year), 'w') \n",
    "    \n",
    "    heads = '''#!/bin/bash -l\n",
    "\n",
    "#PBS -N year_{}\n",
    "#PBS -l walltime=12:00:00\n",
    "#PBS -l select=1:ncpus=8\n",
    "#PBS -A NCIS0010\n",
    "#PBS -q main\n",
    "\n",
    "source /glade/u/home/ksha/.bashrc\n",
    "module purge\n",
    "module load conda\n",
    "conda activate /glade/work/ksha/miniconda3/envs/credit\n",
    "\n",
    "cd {}\n",
    "python PP_ERA5_plevel_upper_air.py {}\n",
    "'''.format(year, \n",
    "           conf['qsub']['scripts_loc'], \n",
    "           year)\n",
    "    \n",
    "    print(heads, file=f)    \n",
    "    f.close()\n",
    "\n",
    "f = open('{}batch_ERA5_PP_plevel_6h.sh'.format(conf['qsub']['qsub_loc']), 'w')\n",
    "for i_year, year in enumerate(years):\n",
    "    print('qsub ERA5_PP_plevel_6h_{}.sh'.format(year), file=f)\n",
    "f.close()"
   ]
  },
  {
   "cell_type": "code",
   "execution_count": null,
   "id": "be5bede6-373f-414d-a167-184b566fb08b",
   "metadata": {},
   "outputs": [],
   "source": []
  },
  {
   "cell_type": "code",
   "execution_count": null,
   "id": "94d757ce-4e4f-462a-82c9-7dd96e242f96",
   "metadata": {},
   "outputs": [],
   "source": []
  }
 ],
 "metadata": {
  "kernelspec": {
   "display_name": "Python 3 (ipykernel)",
   "language": "python",
   "name": "python3"
  },
  "language_info": {
   "codemirror_mode": {
    "name": "ipython",
    "version": 3
   },
   "file_extension": ".py",
   "mimetype": "text/x-python",
   "name": "python",
   "nbconvert_exporter": "python",
   "pygments_lexer": "ipython3",
   "version": "3.11.9"
  }
 },
 "nbformat": 4,
 "nbformat_minor": 5
}
