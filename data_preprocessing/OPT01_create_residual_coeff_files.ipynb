{
 "cells": [
  {
   "cell_type": "markdown",
   "id": "d779c3f3-dd5e-4194-8925-95e37d9660ec",
   "metadata": {},
   "source": [
    "# Compute residual norm coefficients\n",
    "\n",
    "This notebook computes the residual norm coefficients as part of the variable weights."
   ]
  },
  {
   "cell_type": "code",
   "execution_count": 1,
   "id": "3e399085-3c08-46c9-8e07-fa7e3e0b63c7",
   "metadata": {},
   "outputs": [],
   "source": [
    "import os\n",
    "import yaml\n",
    "import copy\n",
    "import numpy as np\n",
    "import xarray as xr"
   ]
  },
  {
   "cell_type": "code",
   "execution_count": 2,
   "id": "7ce73a4a-5b8b-4b22-958f-56a7eaa38881",
   "metadata": {},
   "outputs": [],
   "source": [
    "from scipy.stats import gmean"
   ]
  },
  {
   "cell_type": "code",
   "execution_count": 3,
   "id": "6c58f08d-db2c-4606-a52d-93ef9f13bdd9",
   "metadata": {},
   "outputs": [],
   "source": [
    "import matplotlib.pyplot as plt\n",
    "%matplotlib inline"
   ]
  },
  {
   "cell_type": "markdown",
   "id": "8d69951c-fcf4-4cce-affc-0caf41a734b3",
   "metadata": {},
   "source": [
    "## Main routine"
   ]
  },
  {
   "cell_type": "code",
   "execution_count": 7,
   "id": "a31de0dc-bea3-4912-ae8d-e45ab77e8e97",
   "metadata": {},
   "outputs": [],
   "source": [
    "# get variable information from data_preprocessing/config\n",
    "config_name = os.path.realpath('data_config_6h.yml')\n",
    "\n",
    "with open(config_name, 'r') as stream:\n",
    "    conf = yaml.safe_load(stream)\n"
   ]
  },
  {
   "cell_type": "code",
   "execution_count": null,
   "id": "bcc0ae79-6d1c-4d70-8921-7cbd2aa51a25",
   "metadata": {},
   "outputs": [],
   "source": [
    "# get level info\n",
    "N_levels = 13\n",
    "base_dir = '/glade/derecho/scratch/ksha/CREDIT_data/ERA5_plevel_1deg/'\n",
    "ds_example = xr.open_zarr(base_dir+'upper_subset/ERA5_subset_1deg_6h_1979_conserve.zarr')\n",
    "level = np.array(ds_example['level'])"
   ]
  },
  {
   "cell_type": "code",
   "execution_count": null,
   "id": "0b3b54cf-acbf-46c4-acda-dbcbc4a368d4",
   "metadata": {},
   "outputs": [],
   "source": [
    "# get variable names\n",
    "varnames = list(conf['residual'].keys())\n",
    "varnames = varnames[:-5] # remove save_loc and others\n",
    "\n",
    "varname_surf = list(set(varnames) - set(['U', 'V', 'T', 'Q', 'Z', 'specific_total_water']))\n",
    "varname_upper = ['U', 'V', 'T', 'Q', 'Z', 'specific_total_water']"
   ]
  },
  {
   "cell_type": "code",
   "execution_count": 8,
   "id": "73fd882c-be63-4826-88fe-cb7767a864b7",
   "metadata": {},
   "outputs": [],
   "source": [
    "# collect computed mean and variance values\n",
    "# See \"qsub_STEP01_compute_mean_std.ipynb\"\n",
    "MEAN_values = {}\n",
    "STD_values = {}\n",
    "\n",
    "for varname in varname_surf:\n",
    "    save_name = conf['residual']['save_loc'] + '{}_mean_std_{}.npy'.format(\n",
    "        conf['residual']['prefix'], varname)\n",
    "    mean_std = np.load(save_name)\n",
    "    MEAN_values[varname] = mean_std[0]\n",
    "    STD_values[varname] = mean_std[1]\n",
    "\n",
    "for varname in varname_upper:\n",
    "\n",
    "    # -------------------------------------------- #\n",
    "    # allocate all levels\n",
    "    mean_std_all_levels = np.empty((2, N_levels))\n",
    "    mean_std_all_levels[...] = np.nan\n",
    "    \n",
    "    for i_level in range(N_levels):\n",
    "        save_name = conf['residual']['save_loc'] + '{}_level{}_mean_std_{}.npy'.format(\n",
    "            conf['residual']['prefix'], i_level, varname)\n",
    "        mean_std = np.load(save_name)\n",
    "        mean_std_all_levels[:, i_level] = mean_std\n",
    "\n",
    "    # -------------------------------------------- #\n",
    "    # save\n",
    "    MEAN_values[varname] = np.copy(mean_std_all_levels[0, :])\n",
    "    STD_values[varname] = np.copy(mean_std_all_levels[1, :])\n",
    "\n",
    "keys_to_drop = ['TCC', 'SKT', 'SP', 'Q', 'land_sea_CI_mask'] # <---------------- some variables are not used in the paper\n",
    "MEAN_values = {k: v for k, v in MEAN_values.items() if k not in keys_to_drop}\n",
    "STD_values = {k: v for k, v in STD_values.items() if k not in keys_to_drop}"
   ]
  },
  {
   "cell_type": "code",
   "execution_count": 9,
   "id": "59a15382-bab7-4be7-88eb-8fff10b74bb0",
   "metadata": {},
   "outputs": [],
   "source": [
    "# separate upper air (list) and surf (float) std values\n",
    "std_val_all = list(STD_values.values())\n",
    "std_val_surf = np.array(std_val_all[:-5])\n",
    "std_val_upper = std_val_all[-5:]\n",
    "\n",
    "# combine\n",
    "std_concat = np.concatenate([std_val_surf]+ std_val_upper)\n",
    "\n",
    "# geometrical mean (not used)\n",
    "std_g = gmean(np.sqrt(std_concat))"
   ]
  },
  {
   "cell_type": "markdown",
   "id": "309daf5d-f6ad-4834-ab4c-53afd142edb9",
   "metadata": {},
   "source": [
    "### Save residual coef as a file"
   ]
  },
  {
   "cell_type": "code",
   "execution_count": 11,
   "id": "c6ada787-ded0-4277-9892-d2dff8bd1ccc",
   "metadata": {},
   "outputs": [],
   "source": [
    "# ------------------------------------------------------- #\n",
    "# create xr.DataArray for std\n",
    "ds_std_6h = xr.Dataset(coords={\"level\": level})\n",
    "\n",
    "for varname, data in STD_values.items():\n",
    "    data = np.sqrt(data) # / std_g # <--- var to std and divided by std_g\n",
    "    if len(data.shape) == 1:\n",
    "        data_array = xr.DataArray(\n",
    "            data,\n",
    "            dims=[\"level\",],\n",
    "            coords={\"level\": level},\n",
    "            name=varname,\n",
    "        )\n",
    "        ds_std_6h[varname] = data_array\n",
    "    else:\n",
    "        data_array = xr.DataArray(\n",
    "            data,\n",
    "            name=varname,\n",
    "        )\n",
    "        ds_std_6h[varname] = data_array"
   ]
  },
  {
   "cell_type": "code",
   "execution_count": 12,
   "id": "927bc03d-3958-44ef-80d6-563de34520aa",
   "metadata": {},
   "outputs": [],
   "source": [
    "# ds_std_6h.to_netcdf(base_dir+'mean_std/residual_original_6h_1979_2019_1deg_project2.nc')"
   ]
  },
  {
   "cell_type": "markdown",
   "id": "d8c173b3-86ea-433e-b0bd-f4b382412f75",
   "metadata": {},
   "source": [
    "### Comparing with the old residual norm"
   ]
  },
  {
   "cell_type": "code",
   "execution_count": 11,
   "id": "4fae44d0-ce44-4ab1-885f-e5a0e576f9ef",
   "metadata": {},
   "outputs": [
    {
     "name": "stdout",
     "output_type": "stream",
     "text": [
      "=============== SKT =================\n",
      "=============== surface_latent_heat_flux =================\n",
      "2.306996458279529\n",
      "2.756990226781677\n",
      "=============== top_net_solar_radiation =================\n",
      "5.259948532947676\n",
      "6.285933663515951\n",
      "=============== VAR_2T =================\n",
      "0.48636395589003817\n",
      "0.5812322200302392\n",
      "=============== surface_net_thermal_radiation =================\n",
      "2.603373302474922\n",
      "3.1111771870427525\n",
      "=============== toa_incident_solar_radiation =================\n",
      "5.274119616967553\n",
      "6.302868904142561\n",
      "=============== surface_sensible_heat_flux =================\n",
      "4.24858429119819\n",
      "5.077296641030351\n",
      "=============== MSL =================\n",
      "0.8125157492432455\n",
      "0.9710019153823931\n",
      "=============== TCC =================\n",
      "=============== total_precipitation =================\n",
      "3.69710900263375\n",
      "4.418252724674436\n",
      "=============== top_net_thermal_radiation =================\n",
      "1.5778630952817745\n",
      "1.8856349420386707\n",
      "=============== evaporation =================\n",
      "2.3033441023752\n",
      "2.752625456520836\n",
      "=============== surface_net_solar_radiation =================\n",
      "5.2281697471186686\n",
      "6.2479562311557375\n",
      "=============== U =================\n",
      "[0.9236332  0.70619558 0.79551732 0.94796135 1.18434099 1.33943807\n",
      " 1.39364216 1.3264029  1.2878272  1.30712027 1.46732084 1.57984744\n",
      " 1.55446726]\n",
      "[1.10379351 0.9926741  0.91675773 0.8195625  0.7896874  0.73181563\n",
      " 0.69538035 0.72879487 0.84394335 0.94066804 0.96333641 0.94496085\n",
      " 0.95068783 1.01350351 1.13286701 1.28118643 1.41535395 1.60070366\n",
      " 1.67241509 1.66548059 1.62708905 1.58512589 1.55642738 1.53902578\n",
      " 1.54016888 1.56208207 1.60793256 1.63801339 1.67344779 1.7131567\n",
      " 1.75353075 1.79639599 1.84374096 1.88800635 1.90963237 1.89210613\n",
      " 1.85767561]\n",
      "=============== V =================\n",
      "[2.70923704 1.6855055  1.51498717 1.66922751 1.92501246 2.09007904\n",
      " 2.16736962 2.09433666 2.02528415 2.02567582 2.18572378 2.22762863\n",
      " 2.03329681]\n",
      "[3.23769029 2.76710168 2.4622505  2.15203571 2.05391935 1.90154087\n",
      " 1.8502476  1.90222365 2.01427365 2.04438816 1.92937507 1.84525223\n",
      " 1.81049469 1.86267626 1.99482055 2.15817788 2.30049791 2.49776174\n",
      " 2.58499456 2.59012832 2.55408982 2.50284984 2.45800277 2.42032821\n",
      " 2.40043661 2.42079628 2.46483117 2.49370268 2.52930122 2.57057497\n",
      " 2.61206258 2.64825791 2.66982169 2.66214122 2.61296104 2.52727863\n",
      " 2.42990379]\n",
      "=============== T =================\n",
      "[1.17682143 0.48289285 0.5016527  0.85740645 0.70857261 0.46146183\n",
      " 0.42029337 0.42862776 0.40665242 0.36656311 0.40473859 0.42647606\n",
      " 0.4256744 ]\n",
      "[1.40636765 1.21153829 1.1033877  0.92642872 0.83501967 0.73091526\n",
      " 0.63591192 0.6113999  0.57708405 0.50769459 0.40387472 0.44517057\n",
      " 0.59950313 0.84363502 1.02464882 1.00767528 0.84678403 0.55147278\n",
      " 0.4875726  0.50227416 0.51400438 0.51223422 0.50354809 0.48597246\n",
      " 0.45854371 0.43806348 0.43829642 0.44296724 0.45163629 0.4673428\n",
      " 0.48368533 0.49655155 0.50387129 0.50966282 0.51911144 0.52175462\n",
      " 0.50870479]\n",
      "=============== Z =================\n",
      "[0.27351734 0.14360571 0.14864448 0.18047074 0.22433612 0.25669261\n",
      " 0.28131925 0.28997006 0.31048937 0.36000025 0.52242588 0.65510758\n",
      " 0.79606213]\n",
      "[0.32686857 0.25779517 0.22145432 0.19219554 0.18048487 0.17187579\n",
      " 0.16685103 0.16835731 0.17161688 0.17135579 0.16776613 0.16962344\n",
      " 0.17763849 0.19290647 0.21567266 0.24234    0.26809426 0.30676207\n",
      " 0.32713409 0.33619229 0.34110372 0.34653049 0.35569168 0.37105222\n",
      " 0.39510293 0.4302205  0.4780535  0.50767409 0.54170845 0.58048449\n",
      " 0.62432824 0.67315465 0.72636315 0.78289032 0.84110586 0.89845982\n",
      " 0.95133891]\n",
      "=============== specific_total_water =================\n",
      "[1.80222573 0.51402457 1.47083922 1.60373577 1.7048827  1.64865538\n",
      " 1.61783734 1.50603076 1.39451242 1.31742163 1.02344155 0.66605474\n",
      " 0.46576103]\n",
      "[2.15376088 0.85269313 0.66197571 0.58384063 0.59637813 0.60361102\n",
      " 0.721907   0.6979271  0.61428821 0.73567347 1.32048001 1.84001248\n",
      " 1.75773541 1.81653941 1.91655424 2.01406292 2.03743049 1.9702357\n",
      " 1.9434871  1.93340641 1.89775879 1.79979127 1.71425687 1.6665206\n",
      " 1.64586898 1.57439278 1.49915782 1.44717861 1.3877913  1.3189689\n",
      " 1.22307009 1.09310876 0.94706975 0.79597279 0.653135   0.58321098\n",
      " 0.55661057]\n"
     ]
    }
   ],
   "source": [
    "# ------------------------------------------------------- #\n",
    "# Compare with my old ones\n",
    "std_new = xr.open_dataset(base_dir+'mean_std/residual_6h_1979_2019_1deg_project2.nc')\n",
    "std_conserve = xr.open_dataset(base_dir+'mean_std/residual_6h_1979_2019_conserve_1deg.nc')\n",
    "\n",
    "for varname in list(std_conserve.keys()):\n",
    "    try:\n",
    "        print('=============== {} ================='.format(varname))\n",
    "        print(np.array(std_new[varname]))\n",
    "        print(np.array(std_conserve[varname]))\n",
    "    except:\n",
    "        pass"
   ]
  },
  {
   "cell_type": "code",
   "execution_count": null,
   "id": "22c7b9bd-c69a-4055-ae67-6840acc4ffb6",
   "metadata": {},
   "outputs": [],
   "source": []
  }
 ],
 "metadata": {
  "kernelspec": {
   "display_name": "Python 3 (ipykernel)",
   "language": "python",
   "name": "python3"
  },
  "language_info": {
   "codemirror_mode": {
    "name": "ipython",
    "version": 3
   },
   "file_extension": ".py",
   "mimetype": "text/x-python",
   "name": "python",
   "nbconvert_exporter": "python",
   "pygments_lexer": "ipython3",
   "version": "3.11.9"
  }
 },
 "nbformat": 4,
 "nbformat_minor": 5
}
