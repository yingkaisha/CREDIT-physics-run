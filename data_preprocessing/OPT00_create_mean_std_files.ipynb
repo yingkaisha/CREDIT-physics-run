{
 "cells": [
  {
   "cell_type": "markdown",
   "id": "d779c3f3-dd5e-4194-8925-95e37d9660ec",
   "metadata": {},
   "source": [
    "# Create z-score files\n",
    "\n",
    "This notebook creates mean/std files for the paper. Resdidual coefficients are defined in a separated notebook."
   ]
  },
  {
   "cell_type": "code",
   "execution_count": 1,
   "id": "3e399085-3c08-46c9-8e07-fa7e3e0b63c7",
   "metadata": {},
   "outputs": [],
   "source": [
    "import os\n",
    "import yaml\n",
    "import numpy as np\n",
    "import xarray as xr"
   ]
  },
  {
   "cell_type": "markdown",
   "id": "5d3a338b-9353-4879-b944-e57c14dae5d5",
   "metadata": {},
   "source": [
    "## File creation"
   ]
  },
  {
   "cell_type": "code",
   "execution_count": 2,
   "id": "f6114cab-67ce-4e6b-8868-4ecac35d9b5c",
   "metadata": {},
   "outputs": [],
   "source": [
    "# get variable information from data_preprocessing/config\n",
    "config_name = os.path.realpath('data_config_6h.yml')\n",
    "\n",
    "with open(config_name, 'r') as stream:\n",
    "    conf = yaml.safe_load(stream)"
   ]
  },
  {
   "cell_type": "code",
   "execution_count": 3,
   "id": "cb40edd1-8aec-4ece-ac14-135b49e2c2c4",
   "metadata": {},
   "outputs": [],
   "source": [
    "N_levels = 13 # 13 levels\n",
    "\n",
    "# get the 1979 training data for p_level info\n",
    "base_dir = '/glade/derecho/scratch/ksha/CREDIT_data/ERA5_plevel_1deg/'\n",
    "ds_example = xr.open_zarr(base_dir+'upper_subset/ERA5_subset_1deg_6h_1979_conserve.zarr')\n",
    "level = np.array(ds_example['level'])"
   ]
  },
  {
   "cell_type": "code",
   "execution_count": 4,
   "id": "aecdf646-3ea0-4bb2-bf94-5d081b2fe331",
   "metadata": {},
   "outputs": [],
   "source": [
    "# get variable names\n",
    "varnames = list(conf['zscore'].keys())\n",
    "varnames = varnames[:-3] # remove save_loc and others\n",
    "\n",
    "varname_surf = list(set(varnames) - set(['U', 'V', 'T', 'Q', 'Z', 'specific_total_water']))\n",
    "varname_upper = ['U', 'V', 'T', 'Q', 'Z', 'specific_total_water']\n",
    "\n",
    "# collect computed mean and variance values\n",
    "# See \"qsub_STEP01_compute_mean_std.ipynb\"\n",
    "MEAN_values = {}\n",
    "STD_values = {}\n",
    "\n",
    "for varname in varname_surf:\n",
    "    save_name = conf['zscore']['save_loc'] + '{}_mean_std_{}.npy'.format(\n",
    "        conf['zscore']['prefix'], varname)\n",
    "    \n",
    "    mean_std = np.load(save_name)\n",
    "    MEAN_values[varname] = mean_std[0]\n",
    "    STD_values[varname] = mean_std[1]\n",
    "\n",
    "for varname in varname_upper:\n",
    "\n",
    "    # -------------------------------------------- #\n",
    "    # allocate all levels\n",
    "    mean_std_all_levels = np.empty((2, N_levels))\n",
    "    mean_std_all_levels[...] = np.nan\n",
    "    \n",
    "    for i_level in range(N_levels):\n",
    "        save_name = conf['zscore']['save_loc'] + '{}_level{}_mean_std_{}.npy'.format(\n",
    "            conf['zscore']['prefix'], i_level, varname)\n",
    "        \n",
    "        mean_std = np.load(save_name)\n",
    "        mean_std_all_levels[:, i_level] = mean_std\n",
    "\n",
    "    # -------------------------------------------- #\n",
    "    # save\n",
    "    MEAN_values[varname] = np.copy(mean_std_all_levels[0, :])\n",
    "    STD_values[varname] = np.copy(mean_std_all_levels[1, :])"
   ]
  },
  {
   "cell_type": "markdown",
   "id": "1c3db881-0223-46a8-962f-0f9bca74ce1a",
   "metadata": {},
   "source": [
    "### Mean file"
   ]
  },
  {
   "cell_type": "code",
   "execution_count": 6,
   "id": "bb51582e-2880-40de-9648-453f8c9fed14",
   "metadata": {},
   "outputs": [],
   "source": [
    "# ------------------------------------------------------- #\n",
    "# Initialize dataset\n",
    "ds_mean_6h = xr.Dataset(coords={\"level\": level})\n",
    "\n",
    "for varname, data in MEAN_values.items():\n",
    "    if len(data.shape) == 1:\n",
    "        data_array = xr.DataArray(\n",
    "            data,\n",
    "            dims=[\"level\",],\n",
    "            coords={\"level\": level},\n",
    "            name=varname,\n",
    "        )\n",
    "        ds_mean_6h[varname] = data_array\n",
    "    else:\n",
    "        data_array = xr.DataArray(\n",
    "            data,\n",
    "            name=varname,\n",
    "        )\n",
    "        ds_mean_6h[varname] = data_array"
   ]
  },
  {
   "cell_type": "code",
   "execution_count": null,
   "id": "4a2d5463-7d5e-4689-aff4-4b442c19fff1",
   "metadata": {},
   "outputs": [],
   "source": [
    "ds_mean_6h['land_sea_CI_mask'] = 0.0 # land-sea mask uses 0.0"
   ]
  },
  {
   "cell_type": "code",
   "execution_count": null,
   "id": "f0bdc13e-6811-404c-a3e1-5891b23fff9b",
   "metadata": {},
   "outputs": [],
   "source": [
    "# ds_mean_6h.to_netcdf(base_dir+'mean_std/mean_6h_1979_2019_subset_1deg.nc')"
   ]
  },
  {
   "cell_type": "markdown",
   "id": "3ac21cdd-3fda-427e-b32d-ae3bddaaf26d",
   "metadata": {},
   "source": [
    "### Std file"
   ]
  },
  {
   "cell_type": "code",
   "execution_count": 7,
   "id": "6344fc3a-12ab-4828-89ee-1d279848787f",
   "metadata": {},
   "outputs": [],
   "source": [
    "# ------------------------------------------------------- #\n",
    "# create xr.DataArray for std\n",
    "\n",
    "# use the same level coord as mean\n",
    "ds_std_6h = xr.Dataset(coords={\"level\": level})\n",
    "\n",
    "for varname, data in STD_values.items():\n",
    "    data = np.sqrt(data)\n",
    "    if len(data.shape) == 1:\n",
    "        data_array = xr.DataArray(\n",
    "            data,\n",
    "            dims=[\"level\",],\n",
    "            coords={\"level\": level},\n",
    "            name=varname,\n",
    "        )\n",
    "        ds_std_6h[varname] = data_array\n",
    "    else:\n",
    "        data_array = xr.DataArray(\n",
    "            data,\n",
    "            name=varname,\n",
    "        )\n",
    "        ds_std_6h[varname] = data_array"
   ]
  },
  {
   "cell_type": "code",
   "execution_count": 9,
   "id": "3ba43f59-e770-49fa-a492-f83397f4a938",
   "metadata": {},
   "outputs": [],
   "source": [
    "# ds_std_6h.to_netcdf(base_dir+'mean_std/std_6h_1979_2019_subset_1deg.nc')"
   ]
  },
  {
   "cell_type": "markdown",
   "id": "1dfa52f5-8c6e-4dd8-938a-6dee409b73f1",
   "metadata": {},
   "source": [
    "### Comparing with the old mean/std"
   ]
  },
  {
   "cell_type": "code",
   "execution_count": 10,
   "id": "2b6d2324-3b02-4d1a-a141-a77761a2b8e2",
   "metadata": {},
   "outputs": [
    {
     "name": "stdout",
     "output_type": "stream",
     "text": [
      "=============== MSL =================\n",
      "1330.8846696194373\n",
      "1332.1479128381566\n",
      "=============== SKT =================\n",
      "22.404838153788788\n",
      "22.447001334275868\n",
      "=============== SP =================\n",
      "9597.442621657625\n",
      "9656.6245797302\n",
      "=============== TCC =================\n",
      "0.34918409441572806\n",
      "0.3658749665813759\n",
      "=============== VAR_10U =================\n",
      "5.487526636552918\n",
      "5.52748270314236\n",
      "=============== VAR_10V =================\n",
      "4.71086288032973\n",
      "4.744373030500121\n",
      "=============== VAR_2T =================\n",
      "21.373759417572977\n",
      "21.40206776071968\n",
      "=============== evaporation =================\n",
      "0.0006418363022945283\n",
      "0.0006502217778641388\n",
      "=============== surface_latent_heat_flux =================\n",
      "1604157.7576941664\n",
      "1625160.551704857\n",
      "=============== surface_net_solar_radiation =================\n",
      "4214109.662542443\n",
      "4226444.322152559\n",
      "=============== surface_net_thermal_radiation =================\n",
      "666310.6177924678\n",
      "677867.5588998266\n",
      "=============== surface_sensible_heat_flux =================\n",
      "917596.9043234516\n",
      "942432.9995989761\n",
      "=============== toa_incident_solar_radiation =================\n",
      "7716263.343614088\n",
      "7716422.875064548\n",
      "=============== top_net_solar_radiation =================\n",
      "5830393.034174383\n",
      "5838101.391376633\n",
      "=============== top_net_thermal_radiation =================\n",
      "1048153.7804762697\n",
      "1054880.054276175\n",
      "=============== total_precipitation =================\n",
      "0.0017714241278640804\n",
      "0.001961351589872363\n",
      "=============== land_sea_CI_mask =================\n",
      "0.6015238294544372\n",
      "0.6121059612021218\n",
      "=============== specific_total_water =================\n",
      "[1.47448629e-07 3.60947701e-07 3.76527269e-06 2.24325240e-05\n",
      " 7.34969316e-05 1.66583928e-04 5.04110787e-04 1.07678579e-03\n",
      " 1.76289549e-03 2.53783898e-03 4.09475044e-03 5.06222856e-03\n",
      " 5.90574987e-03]\n",
      "[1.47745739e-07 2.18618486e-07 2.69445058e-07 3.19021387e-07\n",
      " 3.39817040e-07 3.44620497e-07 3.02823194e-07 3.07185583e-07\n",
      " 3.61228147e-07 4.07276739e-07 5.71549812e-07 1.19571274e-06\n",
      " 3.79260968e-06 1.01314726e-05 2.26734078e-05 4.37692835e-05\n",
      " 7.44441549e-05 1.68476168e-04 3.13329487e-04 5.09577830e-04\n",
      " 7.63291796e-04 1.08740114e-03 1.46564193e-03 1.77811715e-03\n",
      " 2.12109212e-03 2.55893419e-03 3.06158356e-03 3.32240103e-03\n",
      " 3.58424776e-03 3.84813077e-03 4.12126443e-03 4.40838827e-03\n",
      " 4.71744487e-03 5.07854173e-03 5.50732415e-03 5.79943074e-03\n",
      " 5.91645762e-03]\n",
      "=============== Q =================\n",
      "[1.47448629e-07 3.60947701e-07 3.76527269e-06 2.24325225e-05\n",
      " 7.34904513e-05 1.66494562e-04 5.02603395e-04 1.06860948e-03\n",
      " 1.75384508e-03 2.52921548e-03 4.08658100e-03 5.05714863e-03\n",
      " 5.90454461e-03]\n",
      "[1.47745739e-07 2.18618486e-07 2.69445058e-07 3.19021387e-07\n",
      " 3.39817040e-07 3.44620497e-07 3.02823194e-07 3.07185583e-07\n",
      " 3.61228147e-07 4.07276739e-07 5.71549812e-07 1.19571274e-06\n",
      " 3.79260968e-06 1.01314726e-05 2.26734063e-05 4.37688006e-05\n",
      " 7.44360300e-05 1.68369353e-04 3.12813000e-04 5.07944021e-04\n",
      " 7.59178733e-04 1.07894516e-03 1.45295336e-03 1.76873466e-03\n",
      " 2.11266517e-03 2.54992316e-03 3.05201848e-03 3.31280702e-03\n",
      " 3.57492922e-03 3.83904438e-03 4.11256976e-03 4.40053981e-03\n",
      " 4.71069170e-03 5.07320758e-03 5.50519762e-03 5.79873202e-03\n",
      " 5.91523760e-03]\n",
      "=============== T =================\n",
      "[12.64927533 10.33154663  8.95413025  7.22747505  8.55415813 10.73912811\n",
      " 12.71788865 13.09736906 13.4646695  14.87367721 15.67540311 16.16233089\n",
      " 17.21034464]\n",
      "[12.65730557 15.24367561 14.93535308 13.7798347  13.27983266 12.75815369\n",
      " 11.50047633 10.6671591  10.33568497 11.58757215 12.54947063 10.89367505\n",
      "  8.95845138  7.65388433  7.23415637  7.62768517  8.55996155 10.74303829\n",
      " 12.09844908 12.72178027 12.99477969 13.10173877 13.1902489  13.47040179\n",
      " 14.20150993 14.88655719 15.21628637 15.34695295 15.47180601 15.587687\n",
      " 15.69136492 15.80393589 15.96188982 16.17909882 16.46084609 16.84861368\n",
      " 17.23212224]\n",
      "=============== U =================\n",
      "[38.37863573 15.29677238 16.01504228 17.64039353 17.91812491 17.06039865\n",
      " 14.2833694  11.93609619 10.29106501  9.11659132  8.11663629  7.86022339\n",
      "  6.07674458]\n",
      "[38.33545412 34.38632773 31.70019505 28.959023   27.32319049 25.58109281\n",
      " 21.92895815 19.12985957 15.28229015 13.33302609 13.50854927 14.77541166\n",
      " 16.0255008  16.98886732 17.65691061 17.97350797 17.9386845  17.0828183\n",
      " 15.71171848 14.30521179 13.04311344 11.9522795  11.04554016 10.30610564\n",
      "  9.68416143  9.142775    8.70208619  8.52161449  8.36923542  8.24969286\n",
      "  8.16238827  8.09877031  8.03603993  7.91086924  7.60972036  6.99204704\n",
      "  6.1173536 ]\n",
      "=============== V =================\n",
      "[14.72963564  7.0598074   9.53251482 11.83378345 13.32757258 13.28584556\n",
      " 11.17955094  9.14282981  7.76975481  6.82921664  6.20481935  6.40490322\n",
      "  5.24873163]\n",
      "[14.59796733 13.4229054  12.74380347 12.04764981 11.55287667 10.80819369\n",
      "  9.12337615  8.09802622  7.02045074  6.74640593  7.44796503  8.45167912\n",
      "  9.5345817  10.68623002 11.83950469 12.7806976  13.33120498 13.28536464\n",
      " 12.34669695 11.17850909 10.0833999   9.14098814  8.37753804  7.77075112\n",
      "  7.28592362  6.84533503  6.5152492   6.39423009  6.3027972   6.24780112\n",
      "  6.23718894  6.27985739  6.36723282  6.44232494  6.38163155  6.00226927\n",
      "  5.28245347]\n",
      "=============== Z =================\n",
      "[17185.36536671  5922.79421557  5844.99944254  5836.88430753\n",
      "  5551.35229032  5105.38527532  4161.93959278  3362.16860564\n",
      "  2702.58091587  2140.07630794  1471.29406077  1229.01114485\n",
      "  1071.6637836 ]\n",
      "[17187.56503669 15003.85207574 13656.92273143 12083.14566054\n",
      " 11090.1920475  10037.91639422  8059.77565923  7008.20971498\n",
      "  5923.75273402  5510.78871424  5541.72174312  5721.7643028\n",
      "  5845.67946106  5882.07594034  5837.59034549  5723.48483812\n",
      "  5552.10555602  5106.14485265  4622.40008837  4162.60112451\n",
      "  3742.68656614  3362.69913466  3018.22674034  2702.99797974\n",
      "  2410.81529053  2140.32732177  1894.29464669  1779.62360693\n",
      "  1670.67633616  1567.76171345  1471.56067796  1382.7281651\n",
      "  1301.82762305  1229.45069042  1166.40433013  1113.76577811\n",
      "  1072.40058016]\n"
     ]
    }
   ],
   "source": [
    "# ------------------------------------------------------- #\n",
    "# Compare with my old ones\n",
    "STD_conserve = xr.open_dataset(base_dir+'mean_std/std_6h_1979_2019_subset_1deg.nc')\n",
    "STD_bilinear = xr.open_dataset(base_dir+'mean_std/std_6h_1979_2019_bilinear_1deg.nc')\n",
    "\n",
    "for varname in varnames:\n",
    "    print('=============== {} ================='.format(varname))\n",
    "    print(np.array(STD_conserve[varname]))\n",
    "    print(np.array(STD_bilinear[varname]))"
   ]
  },
  {
   "cell_type": "code",
   "execution_count": null,
   "id": "31879759-4b63-4506-99e3-c427d6bb8fda",
   "metadata": {},
   "outputs": [],
   "source": []
  }
 ],
 "metadata": {
  "kernelspec": {
   "display_name": "Python 3 (ipykernel)",
   "language": "python",
   "name": "python3"
  },
  "language_info": {
   "codemirror_mode": {
    "name": "ipython",
    "version": 3
   },
   "file_extension": ".py",
   "mimetype": "text/x-python",
   "name": "python",
   "nbconvert_exporter": "python",
   "pygments_lexer": "ipython3",
   "version": "3.11.9"
  }
 },
 "nbformat": 4,
 "nbformat_minor": 5
}
