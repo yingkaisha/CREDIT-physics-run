{
 "cells": [
  {
   "cell_type": "markdown",
   "id": "233753c4-f8c0-42d9-a0c8-a190038f49d3",
   "metadata": {},
   "source": [
    "# Implement conservation schemes in Pytorch\n",
    "\n",
    "This notebook moves numpy-based conservation schemes (in other notebooks) to Pytorch."
   ]
  },
  {
   "cell_type": "code",
   "execution_count": 1,
   "id": "c88a2547-ee20-4ccb-8395-e5805cefaba4",
   "metadata": {},
   "outputs": [],
   "source": [
    "import torch\n",
    "import numpy as np\n",
    "import xarray as xr"
   ]
  },
  {
   "cell_type": "code",
   "execution_count": 2,
   "id": "8bf50516-904d-415a-ab0d-d4986d2be045",
   "metadata": {},
   "outputs": [],
   "source": [
    "from typing import Dict, Any, Optional"
   ]
  },
  {
   "cell_type": "markdown",
   "id": "9030a384-f996-4a42-8f1f-16ea52d149c2",
   "metadata": {},
   "source": [
    "### Load data"
   ]
  },
  {
   "cell_type": "markdown",
   "id": "473614a7-a1ed-4143-a6b1-faa79f96f8e9",
   "metadata": {},
   "source": [
    "ERA5 pressure level data:\n",
    "\n",
    "* `/glade/derecho/scratch/ksha/CREDIT_data/ERA5_plevel_1deg/all_in_one/ERA5_plevel_1deg_6h_1993_bilinear.zarr`\n",
    "* `/glade/derecho/scratch/ksha/CREDIT_data/ERA5_plevel_1deg/static/ERA5_plevel_1deg_6h_static.zarr`"
   ]
  },
  {
   "cell_type": "code",
   "execution_count": 6,
   "id": "0ab54e3c-2251-49a8-99ad-93430bba26d6",
   "metadata": {},
   "outputs": [],
   "source": [
    "base_dir = '/glade/derecho/scratch/ksha/CREDIT_data/ERA5_plevel_1deg/'\n",
    "filename = base_dir + 'all_in_one/ERA5_plevel_1deg_6h_1993_conserve.zarr'\n",
    "\n",
    "ds_surf = xr.open_zarr(filename)\n",
    "ds_accum = xr.open_zarr(filename)\n",
    "ds_upper = xr.open_zarr(filename)\n",
    "ds_static = xr.open_zarr(base_dir + 'static/ERA5_plevel_1deg_6h_conserve_static.zarr')\n",
    "\n",
    "\n",
    "# base_dir = '/glade/derecho/scratch/ksha/CREDIT_data/ERA5_plevel_base/'\n",
    "# ds_surf = xr.open_zarr(base_dir + 'surf/ERA5_plevel_6h_surf_1979.zarr')\n",
    "# ds_accum = xr.open_zarr(base_dir + 'accum/ERA5_plevel_6h_accum_1979.zarr')\n",
    "# # ds_upper = xr.open_zarr(base_dir + 'upper_air/ERA5_plevel_6h_upper_air_1979.zarr')\n",
    "# ds_upper = xr.open_zarr(base_dir + 'upper_subset/ERA5_subset_6h_upper_air_1979.zarr')\n",
    "# ds_static = xr.open_zarr(base_dir + 'static/ERA5_plevel_6h_static.zarr')"
   ]
  },
  {
   "cell_type": "code",
   "execution_count": 7,
   "id": "206c0efa-1c74-4596-b8f2-20727d061559",
   "metadata": {},
   "outputs": [],
   "source": [
    "x = ds_surf['longitude']\n",
    "y = ds_surf['latitude']\n",
    "\n",
    "lon, lat = np.meshgrid(x, y)\n",
    "level_p = 100*np.array(ds_upper['level'])\n",
    "tensor_shape = (len(level_p),) + lon.shape\n",
    "# level_p = 100*np.array([1, 50, 100, 150, 200, 250, 300, 400, 500, 600, 700, 850, 925, 1000])"
   ]
  },
  {
   "cell_type": "markdown",
   "id": "33c6e48e-3712-4f1c-a6e2-b8b963e194a9",
   "metadata": {},
   "source": [
    "### Convert data to `torch.Tensor`"
   ]
  },
  {
   "cell_type": "code",
   "execution_count": 8,
   "id": "86bae29b-857e-43ce-9bf8-3cf1b975aac7",
   "metadata": {},
   "outputs": [],
   "source": [
    "batch_size = 64\n",
    "target_shape_4D = (batch_size, 2)+tensor_shape\n",
    "target_shape_3D = (batch_size, 2,)+tensor_shape[1:]\n",
    "\n",
    "t_slice = np.arange(batch_size+1)"
   ]
  },
  {
   "cell_type": "code",
   "execution_count": 9,
   "id": "537ccbe9-3293-4ea4-a08e-ed7a28bec1fd",
   "metadata": {},
   "outputs": [],
   "source": [
    "# (batch, time, level, lat, lon) version\n",
    "def time_series_to_batch(q, target_shape):\n",
    "    q_batch = torch.as_strided(\n",
    "        q, size=target_shape, \n",
    "        stride=(q.stride(0), q.stride(0), *q.stride()[1:]))\n",
    "    return q_batch"
   ]
  },
  {
   "cell_type": "code",
   "execution_count": 10,
   "id": "b9cf44db-54b5-4139-a5ff-3e4d84f99502",
   "metadata": {},
   "outputs": [],
   "source": [
    "q = torch.from_numpy(np.array(ds_upper['Q'].isel(time=t_slice))) # kg/kg\n",
    "T = torch.from_numpy(np.array(ds_upper['T'].isel(time=t_slice))) # kg/kg\n",
    "u = torch.from_numpy(np.array(ds_upper['U'].isel(time=t_slice))) # m/s\n",
    "v = torch.from_numpy(np.array(ds_upper['V'].isel(time=t_slice)))\n",
    "precip = torch.from_numpy(np.array(ds_accum['total_precipitation'].isel(time=t_slice)))\n",
    "evapor = torch.from_numpy(np.array(ds_accum['evaporation'].isel(time=t_slice)))\n",
    "\n",
    "GPH_surf = torch.from_numpy(np.array(ds_static['geopotential_at_surface'])) # J/m2\n",
    "TOA_net = torch.from_numpy(np.array(ds_accum['top_net_solar_radiation'].isel(time=t_slice))) # J/m2\n",
    "OLR = torch.from_numpy(np.array(ds_accum['top_net_thermal_radiation'].isel(time=t_slice))) # J/m2\n",
    "R_short = torch.from_numpy(np.array(ds_accum['surface_net_solar_radiation'].isel(time=t_slice))) # J/m2\n",
    "R_long = torch.from_numpy(np.array(ds_accum['surface_net_thermal_radiation'].isel(time=t_slice))) # J/m2\n",
    "LH = torch.from_numpy(np.array(ds_accum['surface_latent_heat_flux'].isel(time=t_slice))) # J/m2\n",
    "SH = torch.from_numpy(np.array(ds_accum['surface_sensible_heat_flux'].isel(time=t_slice))) # J/m2"
   ]
  },
  {
   "cell_type": "code",
   "execution_count": 11,
   "id": "c45e7886-df26-465b-8a2e-a532b9d579b7",
   "metadata": {},
   "outputs": [],
   "source": [
    "q_batch = time_series_to_batch(q, target_shape_4D).permute(0, 2, 1, 3, 4)\n",
    "T_batch = time_series_to_batch(T, target_shape_4D).permute(0, 2, 1, 3, 4)\n",
    "u_batch = time_series_to_batch(u, target_shape_4D).permute(0, 2, 1, 3, 4)\n",
    "v_batch = time_series_to_batch(v, target_shape_4D).permute(0, 2, 1, 3, 4)\n",
    "precip_batch = time_series_to_batch(precip, target_shape_3D)\n",
    "evapor_batch = time_series_to_batch(evapor, target_shape_3D)\n",
    "\n",
    "GPH_surf_batch = GPH_surf.unsqueeze(0).unsqueeze(0).unsqueeze(0)\n",
    "TOA_net_batch = time_series_to_batch(TOA_net, target_shape_3D)\n",
    "OLR_batch = time_series_to_batch(OLR, target_shape_3D)\n",
    "R_short_batch = time_series_to_batch(R_short, target_shape_3D)\n",
    "R_long_batch = time_series_to_batch(R_long, target_shape_3D)\n",
    "LH_batch = time_series_to_batch(LH, target_shape_3D)\n",
    "SH_batch = time_series_to_batch(SH, target_shape_3D)"
   ]
  },
  {
   "cell_type": "code",
   "execution_count": 12,
   "id": "a5aeba04-6c49-4ef5-a6ed-0eaa609dedee",
   "metadata": {},
   "outputs": [],
   "source": [
    "longitude = torch.from_numpy(lon)\n",
    "latitude = torch.from_numpy(lat)\n",
    "upper_air_pressure = torch.from_numpy(level_p)"
   ]
  },
  {
   "cell_type": "markdown",
   "id": "01df5edf-87b8-4746-ba4a-150ca875e0fa",
   "metadata": {},
   "source": [
    "### `credit.physics_core` pressure level class"
   ]
  },
  {
   "cell_type": "code",
   "execution_count": 13,
   "id": "d0362770-0bcf-4a13-887e-83bd15e04d26",
   "metadata": {},
   "outputs": [],
   "source": [
    "# Earth's radius\n",
    "RAD_EARTH = 6371000 # m\n",
    "# ideal gas constant of water vapor\n",
    "RVGAS = 461.5 # J/kg/K\n",
    "# ideal gas constant of dry air\n",
    "RDGAS = 287.05 # J/kg/K\n",
    "# gravity\n",
    "GRAVITY = 9.80665 # m/s^2\n",
    "# density of water\n",
    "RHO_WATER = 1000.0 # kg/m^3\n",
    "# latent heat caused by the phase change of water\n",
    "LH_WATER = 2.26e6  # J/kg\n",
    "# heat capacity on constant pressure for dry air\n",
    "CP_DRY = 1005 # J/kg K\n",
    "# heat capacity on constant pressure for water vapor\n",
    "CP_VAPOR = 1846 # J/kg K"
   ]
  },
  {
   "cell_type": "code",
   "execution_count": null,
   "id": "19342d00-971e-4be4-9647-666fc0c54ef8",
   "metadata": {},
   "outputs": [],
   "source": []
  },
  {
   "cell_type": "code",
   "execution_count": 14,
   "id": "a3091b99-8ea8-4036-8acc-091101198c09",
   "metadata": {},
   "outputs": [],
   "source": [
    "class physics_pressure_level:\n",
    "    '''\n",
    "    Pressure level physics\n",
    "\n",
    "    Attributes:\n",
    "        upper_air_pressure (torch.Tensor): pressure levels in Pa.\n",
    "        lon (torch.Tensor): longitude in degrees.\n",
    "        lat (torch.Tensor): latitude in degrees.\n",
    "        pressure_thickness (torch.Tensor): pressure thickness between levels.\n",
    "        dx, dy (torch.Tensor): grid spacings in longitude and latitude.\n",
    "        area (torch.Tensor): area of grid cells.\n",
    "        integral (function): vertical integration method (midpoint or trapezoidal).\n",
    "    '''\n",
    "    \n",
    "    def __init__(self,\n",
    "                 lon: torch.Tensor,\n",
    "                 lat: torch.Tensor,\n",
    "                 upper_air_pressure: torch.Tensor,\n",
    "                 midpoint: bool = False):\n",
    "        '''\n",
    "        Initialize the class with longitude, latitude, and pressure levels.\n",
    "\n",
    "        All inputs must be in the same torch device.\n",
    "\n",
    "        Full order of dimensions:  (batch, time, level, latitude, longitude)\n",
    "        \n",
    "        Args:\n",
    "            lon (torch.Tensor): Longitude in degrees.\n",
    "            lat (torch.Tensor): Latitude in degrees.\n",
    "            upper_air_pressure (torch.Tensor): Pressure levels in Pa.\n",
    "            midpoint (bool): True if vertical level quantities are midpoint values\n",
    "                      otherwise False\n",
    "            \n",
    "        '''\n",
    "        self.lon = lon\n",
    "        self.lat = lat\n",
    "        self.upper_air_pressure = upper_air_pressure\n",
    "        \n",
    "        # ========================================================================= #\n",
    "        # compute pressure level thickness\n",
    "        self.pressure_thickness = self.upper_air_pressure.diff(dim=-1)\n",
    "        \n",
    "        # # ========================================================================= #\n",
    "        # # compute grid spacings\n",
    "        # lat_rad = torch.deg2rad(self.lat)\n",
    "        # lon_rad = torch.deg2rad(self.lon)\n",
    "        # self.dy = torch.gradient(lat_rad * RAD_EARTH, dim=0)[0]\n",
    "        # self.dx = torch.gradient(lon_rad * RAD_EARTH, dim=1)[0] * torch.cos(lat_rad)\n",
    "\n",
    "        # ========================================================================= #\n",
    "        # compute gtid area\n",
    "        # area = R^2 * d_sin(lat) * d_lon\n",
    "        lat_rad = torch.deg2rad(self.lat)\n",
    "        lon_rad = torch.deg2rad(self.lon)\n",
    "        sin_lat_rad = torch.sin(lat_rad)\n",
    "        d_phi = torch.gradient(sin_lat_rad, dim=0, edge_order=2)[0]\n",
    "        d_lambda = torch.gradient(lon_rad, dim=1, edge_order=2)[0]\n",
    "        d_lambda = (d_lambda + torch.pi) % (2 * torch.pi) - torch.pi\n",
    "        self.area = torch.abs(RAD_EARTH**2 * d_phi * d_lambda)\n",
    "        \n",
    "        # ========================================================================== #\n",
    "        # vertical integration method\n",
    "        if midpoint:\n",
    "            self.integral = self.pressure_integral_midpoint\n",
    "            self.integral_sliced = self.pressure_integral_midpoint_sliced\n",
    "        else:\n",
    "            self.integral = self.pressure_integral_trapz\n",
    "            self.integral_sliced = self.pressure_integral_trapz_sliced\n",
    "            \n",
    "    def pressure_integral_midpoint(self, q_mid: torch.Tensor) -> torch.Tensor:\n",
    "        '''\n",
    "        Compute the pressure level integral of a given quantity; assuming its mid point\n",
    "        values are pre-computed\n",
    "        \n",
    "        Args:\n",
    "            q_mid: the quantity with dims of (batch_size, time, level-1, latitude, longitude)\n",
    "    \n",
    "        Returns:\n",
    "            Pressure level integrals of q\n",
    "        '''\n",
    "        num_dims = len(q_mid.shape)\n",
    "        delta_p = self.pressure_thickness.to(q_mid.device)\n",
    "        \n",
    "        if num_dims == 5:  # (batch_size, level, time, latitude, longitude)\n",
    "            delta_p = delta_p.unsqueeze(0).unsqueeze(-1).unsqueeze(-1).unsqueeze(-1)\n",
    "            q_area = q_mid * delta_p\n",
    "            q_trapz = torch.sum(q_area, dim=1)\n",
    "        \n",
    "        elif num_dims == 4:  # (batch_size, level, latitude, longitude) or (time, level, latitude, longitude)\n",
    "            delta_p = delta_p.unsqueeze(0).unsqueeze(-1).unsqueeze(-1)\n",
    "            q_area = q_mid * delta_p\n",
    "            q_trapz = torch.sum(q_area, dim=1)\n",
    "        \n",
    "        elif num_dims == 3:  # (level, latitude, longitude)\n",
    "            delta_p = delta_p.unsqueeze(-1).unsqueeze(-1)  # Expand for broadcasting\n",
    "            q_area = q_mid * delta_p\n",
    "            q_trapz = torch.sum(q_area, dim=0)\n",
    "        \n",
    "        else:\n",
    "            raise ValueError(f\"Unsupported tensor dimensions: {q_mid.shape}\")\n",
    "        \n",
    "        return q_trapz\n",
    "\n",
    "    def pressure_integral_midpoint_sliced(self, \n",
    "                                          q_mid: torch.Tensor,                                        \n",
    "                                          ind_start: int,\n",
    "                                          ind_end: int) -> torch.Tensor:\n",
    "        '''\n",
    "        As in `pressure_integral_midpoint`, but supports pressure level indexing,\n",
    "        so it can calculate integrals of a subset of levels\n",
    "        '''\n",
    "        num_dims = len(q_mid.shape)\n",
    "        delta_p = self.pressure_thickness[ind_start:ind_end].to(q_mid.device)\n",
    "        \n",
    "        if num_dims == 5:  # (batch_size, time, level, latitude, longitude)\n",
    "            delta_p = delta_p.unsqueeze(0).unsqueeze(-1).unsqueeze(-1).unsqueeze(-1)\n",
    "            q_mid = q_mid[:, ind_start:ind_end, ...]\n",
    "            q_area = q_mid * delta_p\n",
    "            q_trapz = torch.sum(q_area, dim=1)\n",
    "        \n",
    "        elif num_dims == 4:  # (batch_size, level, latitude, longitude) or (time, level, latitude, longitude)\n",
    "            delta_p = delta_p.unsqueeze(0).unsqueeze(-1).unsqueeze(-1)\n",
    "            q_mid = q_mid[:, ind_start:ind_end, ...]\n",
    "            q_area = q_mid * delta_p  # Trapezoidal rule\n",
    "            q_trapz = torch.sum(q_area, dim=1)\n",
    "        \n",
    "        elif num_dims == 3:  # (level, latitude, longitude)\n",
    "            delta_p = delta_p.unsqueeze(-1).unsqueeze(-1)  # Expand for broadcasting\n",
    "            q_mid = q_mid[ind_start:ind_end, ...]\n",
    "            q_area = q_mid * delta_p\n",
    "            q_trapz = torch.sum(q_area, dim=0)\n",
    "        \n",
    "        else:\n",
    "            raise ValueError(f\"Unsupported tensor dimensions: {q_mid.shape}\")\n",
    "        \n",
    "        return q_trapz\n",
    "        \n",
    "    def pressure_integral_trapz(self, q: torch.Tensor) -> torch.Tensor:\n",
    "        '''\n",
    "        Compute the pressure level integral of a given quantity using the trapezoidal rule.\n",
    "        \n",
    "        Args:\n",
    "            q: the quantity with dims of (batch_size, time, level, latitude, longitude)\n",
    "    \n",
    "        Returns:\n",
    "            Pressure level integrals of q\n",
    "        '''\n",
    "        num_dims = len(q.shape)\n",
    "        delta_p = self.pressure_thickness.to(q.device)\n",
    "        \n",
    "        if num_dims == 5:  # (batch_size, level, time, latitude, longitude)\n",
    "            delta_p = delta_p.unsqueeze(0).unsqueeze(-1).unsqueeze(-1).unsqueeze(-1)\n",
    "            q_area = 0.5 * (q[:, :-1, :, :, :] + q[:, 1:, :, :, :]) * delta_p\n",
    "            q_trapz = torch.sum(q_area, dim=1)\n",
    "        \n",
    "        elif num_dims == 4:  # (batch_size, level, latitude, longitude) or (time, level, latitude, longitude)\n",
    "            delta_p = delta_p.unsqueeze(0).unsqueeze(-1).unsqueeze(-1)\n",
    "            q_area = 0.5 * (q[:, :-1, :, :] + q[:, 1:, :, :]) * delta_p  # Trapezoidal rule\n",
    "            q_trapz = torch.sum(q_area, dim=1)\n",
    "        \n",
    "        elif num_dims == 3:  # (level, latitude, longitude)\n",
    "            delta_p = delta_p.unsqueeze(-1).unsqueeze(-1)  # Expand for broadcasting\n",
    "            q_area = 0.5 * (q[:-1, :, :] + q[1:, :, :]) * delta_p\n",
    "            q_trapz = torch.sum(q_area, dim=0)\n",
    "        \n",
    "        else:\n",
    "            raise ValueError(f\"Unsupported tensor dimensions: {q.shape}\")\n",
    "        \n",
    "        return q_trapz\n",
    "\n",
    "    def pressure_integral_trapz_sliced(self, \n",
    "                                       q: torch.Tensor,\n",
    "                                       ind_start: int,\n",
    "                                       ind_end: int) -> torch.Tensor:\n",
    "        '''\n",
    "        As in `pressure_integral_trapz`, but supports pressure level indexing,\n",
    "        so it can calculate integrals of a subset of levels\n",
    "        '''\n",
    "        num_dims = len(q.shape)\n",
    "        delta_p = self.upper_air_pressure[ind_start:ind_end].diff(dim=-1).to(q.device)\n",
    "        \n",
    "        if num_dims == 5:  # (batch_size, level, time, latitude, longitude)\n",
    "            delta_p = delta_p.unsqueeze(0).unsqueeze(-1).unsqueeze(-1).unsqueeze(-1)\n",
    "            q_slice = q[:, ind_start:ind_end, ...]\n",
    "            q_area = 0.5 * (q_slice[:, :-1, :, :, :] + q_slice[:, 1:, :, :, :]) * delta_p\n",
    "            q_trapz = torch.sum(q_area, dim=1)\n",
    "        \n",
    "        elif num_dims == 4:  # (batch_size, level, latitude, longitude) or (time, level, latitude, longitude)\n",
    "            delta_p = delta_p.unsqueeze(0).unsqueeze(-1).unsqueeze(-1)\n",
    "            q_slice = q[:, ind_start:ind_end, ...]\n",
    "            q_area = 0.5 * (q_slice[:, :-1, :, :] + q_slice[:, 1:, :, :]) * delta_p  # Trapezoidal rule\n",
    "            q_trapz = torch.sum(q_area, dim=1)\n",
    "        \n",
    "        elif num_dims == 3:  # (level, latitude, longitude)\n",
    "            delta_p = delta_p.unsqueeze(-1).unsqueeze(-1)  # Expand for broadcasting\n",
    "            q_slice = q[ind_start:ind_end, ...]\n",
    "            q_area = 0.5 * (q_slice[:-1, :, :] + q_slice[1:, :, :]) * delta_p\n",
    "            q_trapz = torch.sum(q_area, dim=0)\n",
    "        \n",
    "        else:\n",
    "            raise ValueError(f\"Unsupported tensor dimensions: {q.shape}\")\n",
    "        \n",
    "        return q_trapz\n",
    "    \n",
    "\n",
    "    def weighted_sum(self,\n",
    "                     q: torch.Tensor, \n",
    "                     axis: Dict[tuple, None] = None, \n",
    "                     keepdims: bool = False) -> torch.Tensor:\n",
    "        '''\n",
    "        Compute the weighted sum of a given quantity for PyTorch tensors.\n",
    "        \n",
    "        Args:\n",
    "            data: the quantity to be summed (PyTorch tensor)\n",
    "            axis: dims to compute the sum (can be int or tuple of ints)\n",
    "            keepdims: whether to keep the reduced dimensions or not\n",
    "    \n",
    "        Returns:\n",
    "            Weighted sum (PyTorch tensor)\n",
    "        '''\n",
    "        q_w = q * self.area.to(q.device)\n",
    "        q_sum = torch.sum(q_w, dim=axis, keepdim=keepdims)\n",
    "        return q_sum\n",
    "\n",
    "    def total_dry_air_mass(self, \n",
    "                           q: torch.Tensor) -> torch.Tensor:\n",
    "        '''\n",
    "        Compute the total mass of dry air over the entire globe [kg]\n",
    "        '''\n",
    "        mass_dry_per_area = self.integral(1-q) / GRAVITY # kg/m^2\n",
    "        # weighted sum on latitude and longitude dimensions\n",
    "        mass_dry_sum = self.weighted_sum(mass_dry_per_area, axis=(-2, -1)) # kg\n",
    "        \n",
    "        return mass_dry_sum\n",
    "\n",
    "    def total_column_water(self, \n",
    "                           q: torch.Tensor) -> torch.Tensor:\n",
    "        '''\n",
    "        Compute total column water (TCW) per air column [kg/m2]\n",
    "        '''\n",
    "        TWC = self.integral(q) / GRAVITY # kg/m^2\n",
    "        \n",
    "        return TWC"
   ]
  },
  {
   "cell_type": "code",
   "execution_count": 15,
   "id": "398b3e98-9e6b-4d58-ab99-3bec9dfe44d4",
   "metadata": {},
   "outputs": [],
   "source": [
    "physics_core = physics_pressure_level(longitude, latitude, upper_air_pressure, midpoint=False)"
   ]
  },
  {
   "cell_type": "markdown",
   "id": "97a9c20b-f035-4a23-ab66-0056d0529b3e",
   "metadata": {},
   "source": [
    "## Conservation of total dry air mass"
   ]
  },
  {
   "cell_type": "code",
   "execution_count": 16,
   "id": "56876d3b-303f-4d02-a5df-40f6a981398c",
   "metadata": {},
   "outputs": [],
   "source": [
    "ind_fix = 24\n",
    "N_levels = len(upper_air_pressure)"
   ]
  },
  {
   "cell_type": "code",
   "execution_count": 17,
   "id": "4bfb618a-33ac-49f5-b31c-7f57fb275f58",
   "metadata": {},
   "outputs": [
    {
     "name": "stdout",
     "output_type": "stream",
     "text": [
      "Residual to conserve the dry air mass [kg]: tensor([-1.2095e+13, -4.9478e+12, -2.1990e+13, -1.0995e+13, -1.6493e+13,\n",
      "         1.0995e+12, -1.8692e+13, -3.2985e+12, -5.4976e+12,  8.2463e+12,\n",
      "        -1.2644e+13, -3.5734e+13, -1.2644e+13, -1.4843e+13, -9.3458e+12,\n",
      "         1.8692e+13, -2.6938e+13,  1.2095e+13, -2.4739e+13,  5.4976e+12,\n",
      "        -1.0445e+13,  1.6493e+13,  3.8483e+12,  7.6966e+12,  1.6493e+13,\n",
      "         4.2331e+13,  1.4843e+13, -4.3980e+12,  3.0237e+13,  3.4635e+13,\n",
      "         1.0995e+12, -9.3458e+12,  1.7042e+13,  2.3639e+13, -3.2985e+12,\n",
      "         1.3744e+13,  3.6284e+13,  4.6179e+13,  5.4976e+12, -8.7961e+12,\n",
      "         2.1990e+12,  2.6938e+13, -1.0995e+12,  1.1545e+13,  1.5393e+13,\n",
      "         3.7383e+13, -1.6493e+12, -1.4843e+13,  1.3194e+13,  4.7279e+13,\n",
      "         1.2644e+13,  6.0473e+12,  6.5971e+12,  2.5289e+13, -8.7961e+12,\n",
      "         1.3744e+13, -5.4976e+11,  1.3194e+13, -1.6493e+13,  2.7488e+12,\n",
      "        -1.6493e+13,  1.0995e+12, -1.0445e+13,  1.8692e+13])\n"
     ]
    }
   ],
   "source": [
    "q_batch_correct = q_batch.clone()\n",
    "\n",
    "mass_dry_per_area_hold = physics_core.integral_sliced(1-q_batch_correct, 0, ind_fix) / GRAVITY\n",
    "mass_dry_sum_hold = physics_core.weighted_sum(mass_dry_per_area_hold, axis=(-2, -1))\n",
    "\n",
    "mass_dry_per_area_fix = physics_core.integral_sliced(1-q_batch_correct, ind_fix-1, N_levels) / GRAVITY\n",
    "mass_dry_sum_fix = physics_core.weighted_sum(mass_dry_per_area_fix, axis=(-2, -1))\n",
    "\n",
    "mass_dry_sum = mass_dry_sum_hold + mass_dry_sum_fix\n",
    "# ------------------------------------------------------------------------------ #\n",
    "# check residual term\n",
    "mass_dry_res = mass_dry_sum[:, 1] - mass_dry_sum[:, 0]\n",
    "print('Residual to conserve the dry air mass [kg]: {}'.format(mass_dry_res))\n",
    "# ------------------------------------------------------------------------------ #\n",
    "\n",
    "#mass_dry_sum = physics_core.total_dry_air_mass(q_batch_correct)\n",
    "\n",
    "mass_residual_on_fix = mass_dry_sum[:, 0] - mass_dry_sum_hold[:, 1]\n",
    "\n",
    "# Compute the ratio\n",
    "q_correct_ratio = mass_residual_on_fix / mass_dry_sum_fix[:, 1]\n",
    "q_correct_ratio = q_correct_ratio.unsqueeze(-1).unsqueeze(-1).unsqueeze(-1)\n",
    "\n",
    "q_batch_correct[:, ind_fix-1:, 1, ...] = 1 - (1 - q_batch_correct[:, ind_fix-1:, 1, ...]) * q_correct_ratio"
   ]
  },
  {
   "cell_type": "code",
   "execution_count": 18,
   "id": "a8a3b1f0-2796-4b1e-b477-5fa7829272bc",
   "metadata": {},
   "outputs": [
    {
     "name": "stdout",
     "output_type": "stream",
     "text": [
      "Residual to conserve the dry air mass [kg]: tensor([ 5.4976e+11,  0.0000e+00,  1.6493e+12,  1.6493e+12,  5.4976e+11,\n",
      "         0.0000e+00,  5.4976e+11,  0.0000e+00,  0.0000e+00,  0.0000e+00,\n",
      "         5.4976e+11,  2.1990e+12,  5.4976e+11,  1.0995e+12,  5.4976e+11,\n",
      "        -1.0995e+12,  1.6493e+12, -1.0995e+12,  1.6493e+12,  0.0000e+00,\n",
      "         0.0000e+00, -5.4976e+11,  0.0000e+00, -5.4976e+11, -1.0995e+12,\n",
      "        -1.6493e+12, -5.4976e+11,  0.0000e+00, -1.6493e+12, -2.1990e+12,\n",
      "        -5.4976e+11,  0.0000e+00, -5.4976e+11, -1.0995e+12,  0.0000e+00,\n",
      "        -1.0995e+12, -1.6493e+12, -2.7488e+12, -5.4976e+11,  1.6493e+12,\n",
      "        -5.4976e+11, -1.6493e+12, -5.4976e+11, -1.0995e+12, -1.0995e+12,\n",
      "        -2.1990e+12,  5.4976e+11,  5.4976e+11, -5.4976e+11, -3.2985e+12,\n",
      "        -5.4976e+11, -5.4976e+11, -1.0995e+12, -1.0995e+12,  0.0000e+00,\n",
      "        -1.6493e+12,  1.6493e+12, -1.0995e+12,  1.0995e+12, -5.4976e+11,\n",
      "         5.4976e+11, -5.4976e+11,  1.0995e+12, -1.6493e+12])\n"
     ]
    }
   ],
   "source": [
    "# ------------------------------------------------------------------------------ #\n",
    "mass_dry_sum = physics_core.total_dry_air_mass(q_batch_correct)\n",
    "mass_dry_res = mass_dry_sum[:, 1] - mass_dry_sum[:, 0]\n",
    "print('Residual to conserve the dry air mass [kg]: {}'.format(mass_dry_res))\n",
    "# ------------------------------------------------------------------------------ #"
   ]
  },
  {
   "cell_type": "code",
   "execution_count": 19,
   "id": "0364a8f8-edce-4d83-909e-5ce764424c97",
   "metadata": {},
   "outputs": [
    {
     "data": {
      "text/plain": [
       "tensor(2.2739e-05)"
      ]
     },
     "execution_count": 19,
     "metadata": {},
     "output_type": "execute_result"
    }
   ],
   "source": [
    "(q_batch_correct - q_batch).max()"
   ]
  },
  {
   "cell_type": "markdown",
   "id": "7261f125-f88f-4652-9475-1694a35a7123",
   "metadata": {},
   "source": [
    "**Old**"
   ]
  },
  {
   "cell_type": "code",
   "execution_count": 20,
   "id": "03b722a4-37cb-43d0-9c04-938c872f5487",
   "metadata": {},
   "outputs": [],
   "source": [
    "# q_batch_correct = q_batch.clone()\n",
    "\n",
    "# correction_cycle_num = 1 # iterative to handle numrical precision\n",
    "\n",
    "# for i in range(correction_cycle_num):\n",
    "#     mass_dry_sum = physics_core.total_dry_air_mass(q_batch_correct)\n",
    "    \n",
    "#     # ------------------------------------------------------------------------------ #\n",
    "#     # check residual term\n",
    "#     mass_dry_res = mass_dry_sum[:, 1] - mass_dry_sum[:, 0]\n",
    "#     print('Residual to conserve the dry air mass [kg]: {}'.format(mass_dry_res))\n",
    "#     # ------------------------------------------------------------------------------ #\n",
    "    \n",
    "#     q_correct_ratio = mass_dry_sum[:, 0] / mass_dry_sum[:, 1]\n",
    "#     q_correct_ratio = q_correct_ratio.unsqueeze(-1).unsqueeze(-1).unsqueeze(-1)\n",
    "#     q_batch_correct[:, :, 1, ...] = 1 - (1 - q_batch_correct[:, :, 1, ...]) * q_correct_ratio"
   ]
  },
  {
   "cell_type": "markdown",
   "id": "da483aec-5cd7-41ce-8691-9eb30550834c",
   "metadata": {},
   "source": [
    "## Conservation of moisture"
   ]
  },
  {
   "cell_type": "code",
   "execution_count": 21,
   "id": "c75e2308-1387-4821-84d2-8e110169bf4c",
   "metadata": {},
   "outputs": [
    {
     "name": "stdout",
     "output_type": "stream",
     "text": [
      "Residual to conserve moisture budge [kg/s]: tensor([-1.4254e+08,  7.5257e+08,  9.9556e+07, -4.9864e+08,  2.7928e+07,\n",
      "         3.9238e+08, -9.3704e+07, -3.2787e+08,  4.7290e+07,  5.2874e+08,\n",
      "        -1.8125e+08, -4.7772e+08,  5.6629e+08,  5.7078e+08, -5.8838e+08,\n",
      "        -5.1810e+08,  5.4958e+08,  1.1177e+09,  4.6432e+08, -3.7339e+08,\n",
      "         4.5476e+08,  8.7583e+06, -6.9696e+08, -1.1930e+09, -4.8718e+08,\n",
      "        -9.3419e+08, -1.5579e+09, -1.8793e+09, -1.1421e+09, -6.3806e+08,\n",
      "        -7.0396e+08, -1.0798e+09, -7.7447e+08, -4.5485e+08, -6.7336e+08,\n",
      "        -1.3868e+09, -1.6368e+09, -8.9995e+08, -9.4251e+08, -1.0389e+09,\n",
      "        -2.4913e+08, -3.7275e+08, -6.7839e+08, -1.1786e+09, -9.3631e+08,\n",
      "        -9.6865e+08, -9.7149e+08, -9.4713e+08, -8.3010e+08, -1.2971e+09,\n",
      "        -1.2306e+09, -1.3645e+09, -6.6267e+08, -4.5411e+08, -3.7219e+08,\n",
      "        -7.8534e+08, -6.8249e+07,  2.4143e+08, -6.6547e+07, -6.1234e+08,\n",
      "        -1.6346e+07,  4.8045e+08, -3.4416e+08, -1.3659e+09])\n"
     ]
    }
   ],
   "source": [
    "N_seconds = 3600 * 6 # 6 hourly data\n",
    "\n",
    "precip_batch_flux = precip_batch[:, 1, ...] * RHO_WATER / N_seconds # m/hour --> kg/m^2/s, positive\n",
    "evapor_batch_flux = evapor_batch[:, 1, ...] * RHO_WATER / N_seconds # kg/m^2/s, negative\n",
    "\n",
    "precip_batch_correct = precip_batch_flux.clone()\n",
    "\n",
    "# pre-compute TWC\n",
    "TWC = physics_core.total_column_water(q_batch_correct)\n",
    "dTWC_dt = (TWC[:, 1, ...] - TWC[:, 0, ...]) / N_seconds # kg/m^2/s\n",
    "TWC_sum = physics_core.weighted_sum(dTWC_dt, axis=(-2, -1)) # kg/s\n",
    "\n",
    "# pre-compute evaporation\n",
    "E_sum = physics_core.weighted_sum(evapor_batch_flux, axis=(-2, -1)) # kg/s\n",
    "\n",
    "correction_cycle_num = 1\n",
    "\n",
    "for i in range(correction_cycle_num):\n",
    "    P_sum = physics_core.weighted_sum(precip_batch_correct, axis=(-2, -1)) # kg/s\n",
    "    residual = -TWC_sum - E_sum - P_sum # kg/s\n",
    "\n",
    "    # ------------------------------------------------------------------------------ #\n",
    "    print('Residual to conserve moisture budge [kg/s]: {}'.format(residual))\n",
    "    # ------------------------------------------------------------------------------ #\n",
    "    \n",
    "    # P_correct = P_sum + residual # kg/s\n",
    "    P_correct_ratio = (P_sum + residual) / P_sum\n",
    "    P_correct_ratio = P_correct_ratio.unsqueeze(-1).unsqueeze(-1)\n",
    "    precip_batch_correct = precip_batch_correct * P_correct_ratio"
   ]
  },
  {
   "cell_type": "code",
   "execution_count": 22,
   "id": "9dd8756f-7859-40ac-83a3-9de902ffec6b",
   "metadata": {},
   "outputs": [
    {
     "name": "stdout",
     "output_type": "stream",
     "text": [
      "Residual to conserve moisture budge [kg/s]: tensor([ 3072.,  1024.,     0., -1024.,     0., -1024.,     0.,  2048.,     0.,\n",
      "        -1024.,     0.,  1024.,  1024.,     0., -2048.,  1024.,  1024.,  2048.,\n",
      "         2048.,     0.,     0., -2048.,     0., -2048., -1024.,  1024., -1024.,\n",
      "         2048.,     0.,     0.,  1024.,     0., -2048., -1024.,     0., -2048.,\n",
      "         1024.,     0.,     0.,  1024., -1024., -1024.,     0., -1024., -1024.,\n",
      "            0.,  1024.,  2048.,  1024., -1024.,     0., -1024.,  2048.,     0.,\n",
      "            0., -2048., -1024.,     0.,     0.,  1024.,     0.,  1024.,     0.,\n",
      "        -1024.])\n"
     ]
    }
   ],
   "source": [
    "# ------------------------------------------------------------------------------ #\n",
    "P_sum = physics_core.weighted_sum(precip_batch_correct, axis=(-2, -1)) # kg/s\n",
    "residual = -TWC_sum - E_sum - P_sum # kg/s\n",
    "print('Residual to conserve moisture budge [kg/s]: {}'.format(residual))\n",
    "# ------------------------------------------------------------------------------ #"
   ]
  },
  {
   "cell_type": "code",
   "execution_count": 23,
   "id": "6556ea30-bff2-4647-871b-1dae8024bd54",
   "metadata": {},
   "outputs": [
    {
     "data": {
      "text/plain": [
       "tensor(-7.6981e-07)"
      ]
     },
     "execution_count": 23,
     "metadata": {},
     "output_type": "execute_result"
    }
   ],
   "source": [
    "(precip_batch_correct - precip_batch_flux).mean()"
   ]
  },
  {
   "cell_type": "code",
   "execution_count": 24,
   "id": "19494f11-5d33-489e-b182-889f6b980c21",
   "metadata": {},
   "outputs": [
    {
     "data": {
      "text/plain": [
       "tensor(0.0002)"
      ]
     },
     "execution_count": 24,
     "metadata": {},
     "output_type": "execute_result"
    }
   ],
   "source": [
    "(precip_batch_correct - precip_batch_flux).max()"
   ]
  },
  {
   "cell_type": "markdown",
   "id": "1849ff22-0561-4550-a69a-4ea522a9a8ff",
   "metadata": {},
   "source": [
    "### Conservation of energy"
   ]
  },
  {
   "cell_type": "code",
   "execution_count": 46,
   "id": "05e83458-dfdc-4491-b5ac-7d7ca08342bd",
   "metadata": {},
   "outputs": [
    {
     "data": {
      "text/plain": [
       "torch.Size([64, 2, 181, 360])"
      ]
     },
     "execution_count": 46,
     "metadata": {},
     "output_type": "execute_result"
    }
   ],
   "source": [
    "TOA_net_batch.shape"
   ]
  },
  {
   "cell_type": "code",
   "execution_count": 45,
   "id": "c243538f-f550-47f8-b7a5-a7988850fec9",
   "metadata": {},
   "outputs": [
    {
     "name": "stdout",
     "output_type": "stream",
     "text": [
      "Residual to conserve energy budget [Watts]: tensor([-5.2883e+15, -1.7804e+16, -2.5578e+15, -8.3312e+15, -5.1158e+15,\n",
      "        -2.0988e+16, -1.2584e+15, -5.8478e+15, -7.5238e+15, -1.7156e+16,\n",
      "        -2.1534e+15, -1.1279e+16, -8.0018e+15, -2.4406e+16, -4.5671e+15,\n",
      "        -1.3407e+16, -5.8175e+15, -1.8521e+16, -3.8354e+15, -1.1517e+16,\n",
      "        -6.4357e+15, -1.6664e+16, -8.6003e+15, -1.3433e+16, -1.1580e+16,\n",
      "        -2.5848e+16, -1.0536e+16, -1.5758e+16, -1.3896e+16, -2.2500e+16,\n",
      "        -4.8670e+15, -1.4867e+16, -1.3130e+16, -1.8924e+16, -3.7133e+15,\n",
      "        -1.6368e+16, -1.6980e+16, -2.1180e+16, -7.5134e+15, -2.2942e+16,\n",
      "        -1.5146e+16, -1.8013e+16, -7.9557e+15, -2.3404e+16, -1.6152e+16,\n",
      "        -2.0337e+16, -9.2454e+15, -2.2301e+16, -1.4037e+16, -2.2594e+16,\n",
      "        -1.3392e+16, -2.7264e+16, -1.2570e+16, -2.4419e+16, -1.2373e+16,\n",
      "        -2.1940e+16, -1.1714e+16, -1.9049e+16, -9.4465e+15, -2.0854e+16,\n",
      "        -8.1213e+15, -2.2210e+16, -1.0753e+16, -1.9913e+16])\n",
      "Sources & sinks [Watts]: tensor([-1.2546e+16, -6.9778e+15, -7.4168e+15, -1.4284e+16, -1.3681e+16,\n",
      "        -6.7506e+15, -5.4319e+15, -1.4061e+16, -1.4692e+16, -6.1355e+15,\n",
      "        -5.0510e+15, -1.5274e+16, -1.5696e+16, -7.3262e+15, -6.6134e+15,\n",
      "        -1.5797e+16, -1.5238e+16, -1.0359e+16, -1.0311e+16, -1.7845e+16,\n",
      "        -1.6589e+16, -1.0315e+16, -1.3492e+16, -2.1198e+16, -2.0453e+16,\n",
      "        -1.2231e+16, -1.2377e+16, -2.0431e+16, -2.0779e+16, -1.1671e+16,\n",
      "        -9.7488e+15, -2.1174e+16, -2.0617e+16, -9.7104e+15, -8.3192e+15,\n",
      "        -2.3934e+16, -1.9904e+16, -6.8554e+15, -8.4137e+15, -2.4963e+16,\n",
      "        -2.1200e+16, -6.9319e+15, -1.1524e+16, -2.6354e+16, -2.2280e+16,\n",
      "        -7.2533e+15, -1.4002e+16, -2.7682e+16, -2.2940e+16, -1.0000e+16,\n",
      "        -1.6259e+16, -2.8424e+16, -2.0465e+16, -8.9370e+15, -1.5904e+16,\n",
      "        -2.6234e+16, -1.9293e+16, -7.0257e+15, -1.2863e+16, -2.2629e+16,\n",
      "        -1.5936e+16, -7.7134e+15, -1.2942e+16, -2.1975e+16])\n",
      "Tendency [Watts]: tensor([-7.2573e+15,  1.0826e+16, -4.8590e+15, -5.9524e+15, -8.5650e+15,\n",
      "         1.4237e+16, -4.1735e+15, -8.2129e+15, -7.1678e+15,  1.1021e+16,\n",
      "        -2.8976e+15, -3.9950e+15, -7.6944e+15,  1.7080e+16, -2.0463e+15,\n",
      "        -2.3892e+15, -9.4204e+15,  8.1620e+15, -6.4755e+15, -6.3275e+15,\n",
      "        -1.0153e+16,  6.3485e+15, -4.8921e+15, -7.7654e+15, -8.8730e+15,\n",
      "         1.3617e+16, -1.8407e+15, -4.6728e+15, -6.8829e+15,  1.0828e+16,\n",
      "        -4.8818e+15, -6.3067e+15, -7.4869e+15,  9.2133e+15, -4.6059e+15,\n",
      "        -7.5659e+15, -2.9245e+15,  1.4324e+16, -9.0024e+14, -2.0202e+15,\n",
      "        -6.0538e+15,  1.1081e+16, -3.5686e+15, -2.9493e+15, -6.1276e+15,\n",
      "         1.3084e+16, -4.7571e+15, -5.3814e+15, -8.9028e+15,  1.2594e+16,\n",
      "        -2.8668e+15, -1.1603e+15, -7.8944e+15,  1.5482e+16, -3.5308e+15,\n",
      "        -4.2940e+15, -7.5786e+15,  1.2023e+16, -3.4167e+15, -1.7748e+15,\n",
      "        -7.8150e+15,  1.4497e+16, -2.1882e+15, -2.0618e+15])\n"
     ]
    }
   ],
   "source": [
    "N_seconds = 3600 * 6 # 6 hourly data\n",
    "\n",
    "# C_p (batch, time, level, lat, lon)\n",
    "C_p = (1 - q_batch_correct) * CP_DRY + q_batch_correct * CP_VAPOR\n",
    "# kinetic energy (batch, time, level, lat, lon)\n",
    "ken = 0.5 * (u_batch ** 2 + v_batch ** 2)\n",
    "\n",
    "# initialize T_correct\n",
    "T_batch_correct = T_batch.clone()\n",
    "\n",
    "# layer-wise atmospheric energy, but without thermal energy \n",
    "# (batch, time, level, lat, lon)\n",
    "E_qgk = LH_WATER * q_batch_correct + GPH_surf_batch + ken\n",
    "\n",
    "# TOA net energy flux (batch, time, lat, lon)\n",
    "R_T = (TOA_net_batch + OLR_batch) / N_seconds\n",
    "R_T = R_T[:, 1, :, :]\n",
    "# R_T global sum\n",
    "R_T_sum = physics_core.weighted_sum(R_T, axis=(-2, -1))\n",
    "\n",
    "# surface net energy flux (batch, time, lat, lon)\n",
    "F_S = (R_short_batch + R_long_batch + LH_batch + SH_batch) / N_seconds\n",
    "F_S = F_S[:, 1, :, :]  # Extract time index 1\n",
    "# F_S global sum\n",
    "F_S_sum = physics_core.weighted_sum(F_S, axis=(-2, -1))\n",
    "\n",
    "correction_cycle_num = 1\n",
    "\n",
    "for i in range(correction_cycle_num):\n",
    "\n",
    "    # layer-wise atmospheric energy (sensible heat + others)\n",
    "    #  (batch, time, level, lat, lon)\n",
    "    E_level = C_p * T_batch_correct + E_qgk\n",
    "\n",
    "    # total atmospheric energy (TE) of an air column\n",
    "    # (batch, time, lat, lon)\n",
    "    TE = physics_core.integral(E_level) / GRAVITY\n",
    "\n",
    "    # ---------------------------------------------------------------------------- #\n",
    "    # tendency of TE (batch, lat, lon)\n",
    "    dTE_dt = (TE[:, 1, :, :] - TE[:, 0, :, :]) / N_seconds\n",
    "    # global sum of TE tendency (batch,)\n",
    "    dTE_sum = physics_core.weighted_sum(dTE_dt, axis=(1, 2), keepdims=False)\n",
    "    # compute the residual (batch,)\n",
    "    delta_dTE_sum = R_T_sum - F_S_sum - dTE_sum\n",
    "    print('Residual to conserve energy budget [Watts]: {}'.format(delta_dTE_sum))\n",
    "    print('Sources & sinks [Watts]: {}'.format(R_T_sum - F_S_sum))\n",
    "    print('Tendency [Watts]: {}'.format(dTE_sum))\n",
    "    # ---------------------------------------------------------------------------- #\n",
    "\n",
    "    # TE at t0 and t1 (batch,)\n",
    "    total_weighted_TE_t0 = physics_core.weighted_sum(TE[:, 0, :, :], axis=(-2, -1)) \n",
    "    total_weighted_TE_t1 = physics_core.weighted_sum(TE[:, 1, :, :], axis=(-2, -1))\n",
    "\n",
    "    # calculate the correction ratio for E_t1 (batch,) --> (batch, 1, 1, 1)\n",
    "    E_correct_ratio = (N_seconds * (R_T_sum - F_S_sum) + total_weighted_TE_t0) / total_weighted_TE_t1\n",
    "    E_correct_ratio = E_correct_ratio.view(-1, 1, 1, 1)\n",
    "\n",
    "    # Apply the correction to layer-wise atmospheric energy at t1\n",
    "    # (batch, level, lat, lon)\n",
    "    E_t1_correct = E_level[:, :, 1, :, :] * E_correct_ratio\n",
    "\n",
    "    # barotropic correction of T at t1\n",
    "    T_batch_correct[:, :, 1, :, :] = (E_t1_correct - E_qgk[:, :, 1, :, :]) / C_p[:, :, 1, :, :]"
   ]
  },
  {
   "cell_type": "code",
   "execution_count": 42,
   "id": "b7895dc3-c929-4daf-b744-67b89b2330c7",
   "metadata": {},
   "outputs": [
    {
     "name": "stdout",
     "output_type": "stream",
     "text": [
      "Residual to conserve energy budget [Watts]: tensor([ 4.0856e+12, -5.4585e+12, -8.2251e+12,  2.8562e+12,  3.4532e+12,\n",
      "         2.3757e+10,  1.7193e+11, -3.4736e+12, -3.2078e+12, -1.9209e+12,\n",
      "        -4.9642e+12, -4.2896e+11,  2.1684e+12, -2.3946e+12,  1.4678e+12,\n",
      "        -8.4106e+12,  4.7229e+12, -5.0702e+12,  3.2921e+12,  2.9013e+12,\n",
      "         1.5698e+12,  7.0156e+12, -6.0409e+12,  6.2127e+12,  6.7109e+11,\n",
      "        -8.7837e+12,  4.5607e+11,  7.9457e+11, -1.0329e+12, -4.4775e+11,\n",
      "         8.4568e+12, -3.3136e+12,  3.7581e+11, -4.0332e+12, -3.8523e+12,\n",
      "         6.9149e+11, -4.4147e+12, -5.9420e+12, -4.9922e+12, -4.6278e+11,\n",
      "         3.7919e+12,  3.6335e+12, -8.9861e+12,  5.6264e+12,  1.2133e+12,\n",
      "         5.9120e+12, -2.6554e+12,  2.5995e+12, -2.2602e+12, -6.3472e+12,\n",
      "         4.7953e+12,  1.0226e+13, -2.0766e+12,  3.5557e+12,  2.4669e+12,\n",
      "         3.9728e+10, -3.0859e+12, -7.3312e+12, -9.1268e+09, -7.6075e+12,\n",
      "        -1.0609e+12, -6.3340e+12,  9.5815e+12, -9.6626e+12])\n"
     ]
    }
   ],
   "source": [
    "# ---------------------------------------------------------------------------- #\n",
    "E_level = C_p * T_batch_correct + E_qgk\n",
    "TE = physics_core.integral(E_level) / GRAVITY\n",
    "dTE_dt = (TE[:, 1, :, :] - TE[:, 0, :, :]) / N_seconds\n",
    "dTE_sum = physics_core.weighted_sum(dTE_dt, axis=(-2, -1), keepdims=False)\n",
    "energy_residual = R_T_sum - F_S_sum - dTE_sum\n",
    "print('Residual to conserve energy budget [Watts]: {}'.format(energy_residual))\n",
    "# ---------------------------------------------------------------------------- #"
   ]
  },
  {
   "cell_type": "code",
   "execution_count": 43,
   "id": "ef16b1fc-9a04-4b5f-8dbd-af997470a6ad",
   "metadata": {},
   "outputs": [
    {
     "data": {
      "text/plain": [
       "tensor(-0.0100)"
      ]
     },
     "execution_count": 43,
     "metadata": {},
     "output_type": "execute_result"
    }
   ],
   "source": [
    "(T_batch_correct - T_batch).mean()"
   ]
  },
  {
   "cell_type": "code",
   "execution_count": 44,
   "id": "581228f6-3905-4e88-a5f4-c376b753e081",
   "metadata": {},
   "outputs": [
    {
     "data": {
      "text/plain": [
       "tensor(0.1024)"
      ]
     },
     "execution_count": 44,
     "metadata": {},
     "output_type": "execute_result"
    }
   ],
   "source": [
    "(T_batch_correct - T_batch).abs().max()"
   ]
  },
  {
   "cell_type": "code",
   "execution_count": null,
   "id": "1228e0b7-7b90-4212-8f89-e634e51dc4c3",
   "metadata": {},
   "outputs": [],
   "source": []
  }
 ],
 "metadata": {
  "kernelspec": {
   "display_name": "Python 3 (ipykernel)",
   "language": "python",
   "name": "python3"
  },
  "language_info": {
   "codemirror_mode": {
    "name": "ipython",
    "version": 3
   },
   "file_extension": ".py",
   "mimetype": "text/x-python",
   "name": "python",
   "nbconvert_exporter": "python",
   "pygments_lexer": "ipython3",
   "version": "3.11.9"
  }
 },
 "nbformat": 4,
 "nbformat_minor": 5
}
