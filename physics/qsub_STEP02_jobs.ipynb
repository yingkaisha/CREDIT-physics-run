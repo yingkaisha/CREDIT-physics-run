{
 "cells": [
  {
   "cell_type": "markdown",
   "id": "3cec30bf-f012-4486-b13a-284f8a87163b",
   "metadata": {},
   "source": [
    "# Generate qsub scripts for STEP02 operations"
   ]
  },
  {
   "cell_type": "code",
   "execution_count": 1,
   "id": "5dbcd2b8-5b08-4256-bb8d-ebbc0643a9d7",
   "metadata": {},
   "outputs": [],
   "source": [
    "import os\n",
    "import yaml\n",
    "import numpy as np"
   ]
  },
  {
   "cell_type": "markdown",
   "id": "91d66d5e-4813-4102-8068-2344dd4cad32",
   "metadata": {},
   "source": [
    "## 0.25 deg ERA5 residuals"
   ]
  },
  {
   "cell_type": "code",
   "execution_count": 2,
   "id": "668a2c6d-22bf-4784-8c0c-53eb2cc5bf50",
   "metadata": {},
   "outputs": [],
   "source": [
    "conf = {}\n",
    "conf['qsub'] = {'qsub_loc': '/glade/u/home/ksha/credit-data/qsub/',\n",
    "                'scripts_loc': '/glade/u/home/ksha/credit-data/physics/scripts/'}"
   ]
  },
  {
   "cell_type": "code",
   "execution_count": 3,
   "id": "dfba742e-29be-4543-9de7-476534e42999",
   "metadata": {},
   "outputs": [],
   "source": [
    "IND_max = 65744\n",
    "INDs = np.arange(0, IND_max+501, 501)\n",
    "INDs[-1] = IND_max"
   ]
  },
  {
   "cell_type": "code",
   "execution_count": 4,
   "id": "05cfeb82-6837-44ad-bb8f-c3d7fc6905e3",
   "metadata": {},
   "outputs": [],
   "source": [
    "for i, ind_start in enumerate(INDs[:-1]):\n",
    "    \n",
    "    ind_end = INDs[i+1]\n",
    "    \n",
    "    f = open('{}ERA5_residual_025deg_{:03d}.sh'.format(conf['qsub']['qsub_loc'], i), 'w') \n",
    "    \n",
    "    heads = '''#!/bin/bash -l\n",
    "\n",
    "#PBS -N ERA5_025\n",
    "#PBS -A NAML0001\n",
    "#PBS -l walltime=23:59:59\n",
    "#PBS -l select=1:mem=16GB\n",
    "#PBS -q casper\n",
    "#PBS -o ERA5_025.log\n",
    "#PBS -e ERA5_025.err\n",
    "\n",
    "conda activate credit\n",
    "cd {}\n",
    "python ERA5_residual_verif_025_full.py {} {}\n",
    "'''.format(conf['qsub']['scripts_loc'], ind_start, ind_end)\n",
    "    \n",
    "    print(heads, file=f)    \n",
    "    f.close()\n",
    "\n",
    "f = open('{}verif_ERA5_025.sh'.format(conf['qsub']['qsub_loc']), 'w')\n",
    "\n",
    "for i, ind_start in enumerate(INDs[:-1]):\n",
    "    print('qsub ERA5_residual_025deg_{:03d}.sh'.format(i), file=f)\n",
    "    \n",
    "f.close()"
   ]
  },
  {
   "cell_type": "markdown",
   "id": "e95c18bf-e417-400b-a705-b6070d03a24e",
   "metadata": {},
   "source": [
    "### 1 deg ERA5"
   ]
  },
  {
   "cell_type": "code",
   "execution_count": 4,
   "id": "fb8fa3c6-2e3e-4f61-b977-862fb5cf8dab",
   "metadata": {},
   "outputs": [],
   "source": [
    "IND_max = 65744\n",
    "INDs = np.arange(0, IND_max+501, 501)\n",
    "INDs[-1] = IND_max"
   ]
  },
  {
   "cell_type": "code",
   "execution_count": 6,
   "id": "78fbead2-64eb-4d50-b7b9-3b46235f5b2e",
   "metadata": {},
   "outputs": [],
   "source": [
    "for i, ind_start in enumerate(INDs[:-1]):\n",
    "    \n",
    "    ind_end = INDs[i+1]\n",
    "    \n",
    "    f = open('{}ERA5_residual_1deg_{:03d}.sh'.format(conf['qsub']['qsub_loc'], i), 'w') \n",
    "    \n",
    "    heads = '''#!/bin/bash -l\n",
    "\n",
    "#PBS -N ERA5_1deg\n",
    "#PBS -A NAML0001\n",
    "#PBS -l walltime=23:59:59\n",
    "#PBS -l select=1:mem=64GB\n",
    "#PBS -q casper\n",
    "#PBS -o ERA5_1.log\n",
    "#PBS -e ERA5_1.err\n",
    "\n",
    "conda activate credit\n",
    "cd {}\n",
    "python ERA5_residual_verif_1deg_mlevel.py {} {}\n",
    "'''.format(conf['qsub']['scripts_loc'], ind_start, ind_end)\n",
    "    \n",
    "    print(heads, file=f)    \n",
    "    f.close()\n",
    "\n",
    "f = open('{}verif_ERA5_1.sh'.format(conf['qsub']['qsub_loc']), 'w')\n",
    "\n",
    "for i, ind_start in enumerate(INDs[:-1]):\n",
    "    print('qsub ERA5_residual_1deg_{:03d}.sh'.format(i), file=f)\n",
    "    \n",
    "f.close()"
   ]
  },
  {
   "cell_type": "code",
   "execution_count": null,
   "id": "516e6891-1206-47ca-ba57-47508d8489d6",
   "metadata": {},
   "outputs": [],
   "source": []
  }
 ],
 "metadata": {
  "kernelspec": {
   "display_name": "Python 3 (ipykernel)",
   "language": "python",
   "name": "python3"
  },
  "language_info": {
   "codemirror_mode": {
    "name": "ipython",
    "version": 3
   },
   "file_extension": ".py",
   "mimetype": "text/x-python",
   "name": "python",
   "nbconvert_exporter": "python",
   "pygments_lexer": "ipython3",
   "version": "3.11.9"
  }
 },
 "nbformat": 4,
 "nbformat_minor": 5
}
