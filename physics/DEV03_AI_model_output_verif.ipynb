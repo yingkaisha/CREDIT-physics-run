{
 "cells": [
  {
   "cell_type": "markdown",
   "id": "233753c4-f8c0-42d9-a0c8-a190038f49d3",
   "metadata": {},
   "source": [
    "# Global-scale atmospheric moisture and mass budgets on ERA5 pressure level data"
   ]
  },
  {
   "cell_type": "code",
   "execution_count": 1,
   "id": "c88a2547-ee20-4ccb-8395-e5805cefaba4",
   "metadata": {},
   "outputs": [],
   "source": [
    "import numpy as np\n",
    "import xarray as xr"
   ]
  },
  {
   "cell_type": "code",
   "execution_count": 2,
   "id": "145aeac9-1ac9-4326-abd4-bf4f5ee3c352",
   "metadata": {},
   "outputs": [],
   "source": [
    "import matplotlib.pyplot as plt\n",
    "%matplotlib inline"
   ]
  },
  {
   "cell_type": "code",
   "execution_count": 17,
   "id": "0ab54e3c-2251-49a8-99ad-93430bba26d6",
   "metadata": {},
   "outputs": [],
   "source": [
    "dt_str = '2020-01-01'\n",
    "\n",
    "base_dir = '/glade/derecho/scratch/ksha/CREDIT/GATHER/fuxi_dry_1deg_raw/'\n",
    "filename = base_dir + f'{dt_str}T00Z.nc'\n",
    "ds_rollout = xr.open_dataset(filename)\n",
    "\n",
    "base_dir = '/glade/derecho/scratch/ksha/CREDIT_data/ERA5_plevel_1deg/'\n",
    "filename = base_dir + 'static/ERA5_plevel_1deg_6h_conserve_static.zarr'\n",
    "ds_static = xr.open_zarr(filename)"
   ]
  },
  {
   "cell_type": "code",
   "execution_count": 18,
   "id": "f3dd1d77-6ff1-41aa-bcaa-50f115549346",
   "metadata": {},
   "outputs": [],
   "source": [
    "base_dir = '/glade/derecho/scratch/ksha/CREDIT_data/ERA5_plevel_1deg/'\n",
    "filename = base_dir + 'all_in_one/ERA5_plevel_1deg_6h_2020_conserve.zarr'\n",
    "ds_ERA5 = xr.open_zarr(filename)"
   ]
  },
  {
   "cell_type": "code",
   "execution_count": null,
   "id": "c3a0078d-4ed2-49b6-81e2-77f45de09ac1",
   "metadata": {},
   "outputs": [],
   "source": []
  },
  {
   "cell_type": "code",
   "execution_count": 19,
   "id": "b9cf44db-54b5-4139-a5ff-3e4d84f99502",
   "metadata": {},
   "outputs": [],
   "source": [
    "R = 6371000  # m\n",
    "GRAVITY = 9.80665\n",
    "RHO_WATER = 1000.0 # kg/m^3\n",
    "RAD_EARTH = 6371000 # m\n",
    "LH_WATER = 2.26e6  # J/kg\n",
    "CP_DRY = 1005 # J/kg K\n",
    "CP_VAPOR = 1846 # J/kg K"
   ]
  },
  {
   "cell_type": "code",
   "execution_count": 20,
   "id": "c45e7886-df26-465b-8a2e-a532b9d579b7",
   "metadata": {},
   "outputs": [],
   "source": [
    "x = ds_rollout['longitude']\n",
    "y = ds_rollout['latitude']\n",
    "lon, lat = np.meshgrid(x, y)\n",
    "level_p = 100*np.array(ds_static['level'])"
   ]
  },
  {
   "cell_type": "code",
   "execution_count": 21,
   "id": "87a5fa97-37f2-4f98-b1b5-37665082efc6",
   "metadata": {},
   "outputs": [
    {
     "data": {
      "text/plain": [
       "array([   100.,    200.,    300.,    500.,    700.,   1000.,   2000.,\n",
       "         3000.,   5000.,   7000.,  10000.,  12500.,  15000.,  17500.,\n",
       "        20000.,  22500.,  25000.,  30000.,  35000.,  40000.,  45000.,\n",
       "        50000.,  55000.,  60000.,  65000.,  70000.,  75000.,  77500.,\n",
       "        80000.,  82500.,  85000.,  87500.,  90000.,  92500.,  95000.,\n",
       "        97500., 100000.], dtype=float32)"
      ]
     },
     "execution_count": 21,
     "metadata": {},
     "output_type": "execute_result"
    }
   ],
   "source": [
    "level_p # Pa or kg/m/s2"
   ]
  },
  {
   "cell_type": "code",
   "execution_count": 22,
   "id": "5b526d22-9497-435c-8eef-9693de3c3b4c",
   "metadata": {},
   "outputs": [],
   "source": [
    "# level_diff = np.diff(level_p)\n",
    "# level_diff_cumsum = np.concatenate(([0], np.cumsum(level_diff)))"
   ]
  },
  {
   "cell_type": "code",
   "execution_count": 23,
   "id": "35f44d4a-4fba-4544-9bae-6e0d3798c54c",
   "metadata": {},
   "outputs": [],
   "source": [
    "q = ds_rollout['specific_total_water'].values\n",
    "T = ds_rollout['T'].values\n",
    "u = ds_rollout['U'].values\n",
    "v = ds_rollout['V'].values\n",
    "precip = ds_rollout['total_precipitation'].values\n",
    "evapor = ds_rollout['evaporation'].values\n",
    "GPH_surf = ds_static['geopotential_at_surface'].values\n",
    "TOA_net = ds_rollout['top_net_solar_radiation'].values\n",
    "OLR = ds_rollout['top_net_thermal_radiation'].values\n",
    "R_short = ds_rollout['surface_net_solar_radiation'].values\n",
    "R_long = ds_rollout['surface_net_thermal_radiation'].values\n",
    "LH = ds_rollout['surface_latent_heat_flux'].values\n",
    "SH = ds_rollout['surface_sensible_heat_flux'].values\n",
    "\n",
    "# replace to ERA5\n",
    "q_ERA5 = ds_ERA5['specific_total_water'].sel(time=dt_str).values\n",
    "T_ERA5 = ds_ERA5['T'].sel(time=dt_str).values\n",
    "u_ERA5 = ds_ERA5['U'].sel(time=dt_str).values\n",
    "v_ERA5 = ds_ERA5['V'].sel(time=dt_str).values\n",
    "precip_ERA5 = ds_ERA5['total_precipitation'].sel(time=dt_str).values\n",
    "evapor_ERA5 = ds_ERA5['evaporation'].sel(time=dt_str).values\n",
    "TOA_net_ERA5 = ds_ERA5['top_net_solar_radiation'].sel(time=dt_str).values\n",
    "OLR_ERA5 = ds_ERA5['top_net_thermal_radiation'].sel(time=dt_str).values\n",
    "R_short_ERA5 = ds_ERA5['surface_net_solar_radiation'].sel(time=dt_str).values\n",
    "R_long_ERA5 = ds_ERA5['surface_net_thermal_radiation'].sel(time=dt_str).values\n",
    "LH_ERA5 = ds_ERA5['surface_latent_heat_flux'].sel(time=dt_str).values\n",
    "SH_ERA5 = ds_ERA5['surface_sensible_heat_flux'].sel(time=dt_str).values\n",
    "\n",
    "q = np.concatenate((q_ERA5[0, ...][None, ...], q), axis=0)\n",
    "precip = np.concatenate((precip_ERA5[0, ...][None, ...], precip), axis=0)\n",
    "evapor = np.concatenate((evapor_ERA5[0, ...][None, ...], evapor), axis=0)"
   ]
  },
  {
   "cell_type": "code",
   "execution_count": 24,
   "id": "f182ad3f-7dbe-4f4d-981e-8e06aff02565",
   "metadata": {},
   "outputs": [],
   "source": [
    "N_seconds = 3600 * 6 # 6 hourly data"
   ]
  },
  {
   "cell_type": "code",
   "execution_count": 25,
   "id": "e205b7fb-c587-4b2c-a40f-d6905ecc1135",
   "metadata": {},
   "outputs": [],
   "source": [
    "def weighted_sum(data, weights, axis, keepdims=False):\n",
    "    '''\n",
    "    Compute the weighted sum of a given quantity\n",
    "\n",
    "    Args:\n",
    "        data: the quantity to be sum-ed\n",
    "        weights: weights that can be broadcasted to the shape of data\n",
    "        axis: dims to compute the sum\n",
    "        keepdims: keepdims\n",
    "\n",
    "    Returns:\n",
    "        weighted sum\n",
    "    '''\n",
    "    expanded_weights = np.broadcast_to(weights, data.shape)\n",
    "    return np.sum(data * expanded_weights, axis=axis, keepdims=keepdims)\n",
    "\n",
    "def pressure_integral(q, level_p, output_shape):\n",
    "    '''\n",
    "    Compute the pressure level integral of a given quantity using np.trapz\n",
    "\n",
    "    Args:\n",
    "        q: the quantity with dims of (level, lat, lon) or (time, level, lat, lon)\n",
    "        level_p: the pressure level of q as [Pa] and with dims of (level,)\n",
    "        output_shape: either (lat, lon) or (time, lat, lon)\n",
    "\n",
    "    Returns:\n",
    "        Pressure level integrals of q\n",
    "    '''\n",
    "    # Ensure level_p is a NumPy array\n",
    "    level_p = np.asarray(level_p)\n",
    "\n",
    "    # (level, lat, lon) --> (lat, lon)\n",
    "    if len(output_shape) == 2 and q.ndim == 3:\n",
    "        Q = np.trapz(q, x=level_p, axis=0)\n",
    "\n",
    "    # (time, level, lat, lon) --> (time, lat, lon)\n",
    "    elif len(output_shape) == 3 and q.ndim == 4:\n",
    "        Q = np.trapz(q, x=level_p, axis=1)\n",
    "\n",
    "    else:\n",
    "        raise ValueError('Invalid output_shape or dimensions of q.')\n",
    "\n",
    "    return Q"
   ]
  },
  {
   "cell_type": "code",
   "execution_count": 26,
   "id": "c9576e4f-f6a8-48fe-b869-090011fbecd1",
   "metadata": {},
   "outputs": [],
   "source": [
    "def grid_area(lat, lon):\n",
    "    '''\n",
    "    Compute grid cell areas using the exact formula for spherical quadrilaterals.\n",
    "\n",
    "    Args:\n",
    "        lat, lon: 2D arrays of latitude and longitude in degrees.\n",
    "\n",
    "    Return:\n",
    "        area: 2D array of grid cell areas in square meters.\n",
    "    '''\n",
    "    # Convert latitude and longitude to radians\n",
    "    lat_rad = np.deg2rad(lat)\n",
    "    lon_rad = np.deg2rad(lon)\n",
    "    \n",
    "    # Compute sine of latitude\n",
    "    sin_lat_rad = np.sin(lat_rad)\n",
    "    \n",
    "    # Compute gradient of sine of latitude (d_phi)\n",
    "    d_phi = np.gradient(sin_lat_rad, axis=0, edge_order=2)\n",
    "    \n",
    "    # Compute gradient of longitude (d_lambda)\n",
    "    d_lambda = np.gradient(lon_rad, axis=1, edge_order=2)\n",
    "    \n",
    "    # Adjust d_lambda to be within -π and π\n",
    "    d_lambda = (d_lambda + np.pi) % (2 * np.pi) - np.pi\n",
    "    \n",
    "    # Compute grid cell area\n",
    "    area = np.abs(RAD_EARTH**2 * d_phi * d_lambda)\n",
    "    \n",
    "    return area\n",
    "\n",
    "area = grid_area(lat, lon)\n",
    "w_lat = area #/ np.sum(area)"
   ]
  },
  {
   "cell_type": "code",
   "execution_count": 27,
   "id": "ff305d57-a874-43e1-aa3b-1c23b57c36f7",
   "metadata": {},
   "outputs": [],
   "source": [
    "output_shape = (q.shape[0],)+lon.shape"
   ]
  },
  {
   "cell_type": "code",
   "execution_count": 28,
   "id": "dc49ace6-55d0-4877-a226-d88f5070f252",
   "metadata": {},
   "outputs": [],
   "source": [
    "def mass_residual_compute(q, level_p, output_shape, w_lat):\n",
    "    mass_dry_per_area = pressure_integral(1-q, level_p, output_shape) / GRAVITY\n",
    "    mass_dry_sum = weighted_sum(mass_dry_per_area, w_lat, axis=(1, 2), keepdims=False)\n",
    "    # ----------------------------------------------------------------------- #\n",
    "    # check residual term\n",
    "    mass_dry_res = np.diff(mass_dry_sum)\n",
    "    return mass_dry_res\n"
   ]
  },
  {
   "cell_type": "code",
   "execution_count": 29,
   "id": "84aff7c6-0ae9-4182-8978-750a471820a8",
   "metadata": {},
   "outputs": [],
   "source": [
    "mass_residual = mass_residual_compute(q, level_p, output_shape, w_lat)"
   ]
  },
  {
   "cell_type": "code",
   "execution_count": 30,
   "id": "9ea06f5d-e8fc-43f4-b6b8-8813aa79efc9",
   "metadata": {},
   "outputs": [
    {
     "data": {
      "text/plain": [
       "array([ 3.55132168e+13,  3.43767759e+13, -1.69713975e+13,  2.67831969e+13,\n",
       "       -1.04526350e+13,  4.09086716e+13,  8.31145651e+12,  4.30334176e+13,\n",
       "        4.64466790e+12,  5.19408096e+13,  1.91620339e+13,  4.29138605e+13,\n",
       "        1.16382680e+13,  5.26801867e+13,  8.00381868e+12,  3.14225162e+13,\n",
       "       -5.75310545e+12,  3.37995621e+13, -1.55694893e+13,  1.60719024e+12,\n",
       "       -2.32985689e+13,  1.31689192e+13, -2.42015852e+13, -1.12547935e+13,\n",
       "       -3.44378873e+13,  1.22492105e+13, -2.99203591e+13,  2.49098977e+11,\n",
       "       -2.31524477e+13,  2.50031652e+13, -2.86271609e+13, -1.10697024e+12,\n",
       "       -1.90030900e+13,  3.71240275e+13, -1.13206348e+13,  1.94843150e+13,\n",
       "       -8.47395844e+11,  4.08886114e+13, -1.70374542e+12,  2.77828278e+13])"
      ]
     },
     "execution_count": 30,
     "metadata": {},
     "output_type": "execute_result"
    }
   ],
   "source": [
    "mass_residual"
   ]
  },
  {
   "cell_type": "code",
   "execution_count": 31,
   "id": "a3b00582-9853-4293-aa1c-2cfefa9aba48",
   "metadata": {},
   "outputs": [],
   "source": [
    "#plt.plot(mass_residual)"
   ]
  },
  {
   "cell_type": "code",
   "execution_count": 32,
   "id": "3cf8559e-9e16-40d6-83c8-c3d07907c8a9",
   "metadata": {},
   "outputs": [
    {
     "name": "stdout",
     "output_type": "stream",
     "text": [
      "Residual to conserve moisture budge [kg/s]: [ 6.89155080e+08  1.18932877e+09 -2.32658457e+09 -4.55295532e+08\n",
      " -1.32646831e+09  1.48316487e+09 -1.51274105e+09  1.75815756e+08\n",
      " -9.83049848e+08  1.39501288e+09 -1.57119160e+09 -3.62471038e+08\n",
      " -1.02451936e+09  1.29536047e+09 -1.88611670e+09 -1.06368156e+09\n",
      " -1.64573645e+09  1.02135545e+09 -2.26559515e+09 -1.36102377e+09\n",
      " -1.46075137e+09  6.64544635e+08 -1.93632121e+09 -1.46154493e+09\n",
      " -1.67079974e+09  5.57177329e+08 -2.04946776e+09 -1.16379617e+09\n",
      " -1.62896008e+09  7.86659179e+08 -2.45432269e+09 -1.31692339e+09\n",
      " -1.60106097e+09  4.16465611e+08 -2.51916669e+09 -1.06430417e+09\n",
      " -1.34180995e+09  7.49861273e+08 -2.10526055e+09 -6.46093099e+08]\n"
     ]
    }
   ],
   "source": [
    "#def water_budget_compute(q, precip, evapor, N_seconds, output_shape, w_lat):\n",
    "\n",
    "precip_flux = precip[1:, ...] * RHO_WATER / N_seconds # m/hour --> kg/m^2/s, positive\n",
    "evapor_flux = evapor[1:, ...] * RHO_WATER / N_seconds # kg/m^2/s, negative\n",
    "\n",
    "\n",
    "# pre-compute TWC\n",
    "TWC = pressure_integral(q, level_p, output_shape) / GRAVITY # kg/m^2\n",
    "dTWC_dt = np.diff(TWC, axis=0) / N_seconds # kg/m^2/s\n",
    "TWC_sum = weighted_sum(dTWC_dt, w_lat, axis=(1, 2), keepdims=False) # kg/s\n",
    "\n",
    "# pre-compute evaporation\n",
    "E_sum = weighted_sum(evapor_flux, w_lat, axis=(1, 2), keepdims=False) # kg/s\n",
    "\n",
    "\n",
    "P_sum = weighted_sum(precip_flux, w_lat, axis=(1, 2), keepdims=False) # kg/s\n",
    "\n",
    "residual = -TWC_sum - E_sum - P_sum\n",
    "print('Residual to conserve moisture budge [kg/s]: {}'.format(residual))\n"
   ]
  },
  {
   "cell_type": "code",
   "execution_count": null,
   "id": "8d78b2dd-ce73-4711-a3b1-43655ed45ed1",
   "metadata": {},
   "outputs": [],
   "source": []
  }
 ],
 "metadata": {
  "kernelspec": {
   "display_name": "Python 3 (ipykernel)",
   "language": "python",
   "name": "python3"
  },
  "language_info": {
   "codemirror_mode": {
    "name": "ipython",
    "version": 3
   },
   "file_extension": ".py",
   "mimetype": "text/x-python",
   "name": "python",
   "nbconvert_exporter": "python",
   "pygments_lexer": "ipython3",
   "version": "3.11.9"
  }
 },
 "nbformat": 4,
 "nbformat_minor": 5
}
