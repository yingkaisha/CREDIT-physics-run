{
 "cells": [
  {
   "cell_type": "markdown",
   "id": "233753c4-f8c0-42d9-a0c8-a190038f49d3",
   "metadata": {},
   "source": [
    "# Global-scale atmospheric moisture and mass budgets on ERA5 pressure level data"
   ]
  },
  {
   "cell_type": "code",
   "execution_count": 1,
   "id": "c88a2547-ee20-4ccb-8395-e5805cefaba4",
   "metadata": {},
   "outputs": [],
   "source": [
    "import numpy as np\n",
    "import xarray as xr"
   ]
  },
  {
   "cell_type": "code",
   "execution_count": 2,
   "id": "145aeac9-1ac9-4326-abd4-bf4f5ee3c352",
   "metadata": {},
   "outputs": [],
   "source": [
    "import matplotlib.pyplot as plt\n",
    "%matplotlib inline"
   ]
  },
  {
   "cell_type": "code",
   "execution_count": 3,
   "id": "0ab54e3c-2251-49a8-99ad-93430bba26d6",
   "metadata": {},
   "outputs": [],
   "source": [
    "base_dir = '/glade/derecho/scratch/ksha/CREDIT_data/ERA5_plevel_1deg/'\n",
    "filename = base_dir + 'static/ERA5_plevel_1deg_6h_conserve_static.zarr'\n",
    "ds_static = xr.open_zarr(filename)\n",
    "\n",
    "base_dir = '/glade/derecho/scratch/ksha/CREDIT_data/ERA5_plevel_1deg/'\n",
    "filename = base_dir + 'all_in_one/ERA5_plevel_1deg_6h_2020_conserve.zarr'\n",
    "ds_ERA5 = xr.open_zarr(filename)"
   ]
  },
  {
   "cell_type": "code",
   "execution_count": 4,
   "id": "c10c74a3-21ae-4bf2-b261-3fddf34ba05a",
   "metadata": {},
   "outputs": [],
   "source": [
    "ds_ERA5 = ds_ERA5.isel(time=slice(0, 5))"
   ]
  },
  {
   "cell_type": "code",
   "execution_count": 5,
   "id": "b9cf44db-54b5-4139-a5ff-3e4d84f99502",
   "metadata": {},
   "outputs": [],
   "source": [
    "R = 6371000  # m\n",
    "GRAVITY = 9.80665\n",
    "RHO_WATER = 1000.0 # kg/m^3\n",
    "RAD_EARTH = 6371000 # m\n",
    "LH_WATER = 2.26e6  # J/kg\n",
    "CP_DRY = 1005 # J/kg K\n",
    "CP_VAPOR = 1846 # J/kg K"
   ]
  },
  {
   "cell_type": "code",
   "execution_count": 6,
   "id": "c45e7886-df26-465b-8a2e-a532b9d579b7",
   "metadata": {},
   "outputs": [],
   "source": [
    "x = ds_ERA5['longitude']\n",
    "y = ds_ERA5['latitude']\n",
    "lon, lat = np.meshgrid(x, y)\n",
    "level_p = 100*np.array(ds_static['level'])"
   ]
  },
  {
   "cell_type": "code",
   "execution_count": 7,
   "id": "87a5fa97-37f2-4f98-b1b5-37665082efc6",
   "metadata": {},
   "outputs": [
    {
     "data": {
      "text/plain": [
       "array([   100.,    200.,    300.,    500.,    700.,   1000.,   2000.,\n",
       "         3000.,   5000.,   7000.,  10000.,  12500.,  15000.,  17500.,\n",
       "        20000.,  22500.,  25000.,  30000.,  35000.,  40000.,  45000.,\n",
       "        50000.,  55000.,  60000.,  65000.,  70000.,  75000.,  77500.,\n",
       "        80000.,  82500.,  85000.,  87500.,  90000.,  92500.,  95000.,\n",
       "        97500., 100000.], dtype=float32)"
      ]
     },
     "execution_count": 7,
     "metadata": {},
     "output_type": "execute_result"
    }
   ],
   "source": [
    "level_p # Pa or kg/m/s2"
   ]
  },
  {
   "cell_type": "code",
   "execution_count": 8,
   "id": "5b526d22-9497-435c-8eef-9693de3c3b4c",
   "metadata": {},
   "outputs": [],
   "source": [
    "# level_diff = np.diff(level_p)\n",
    "# level_diff_cumsum = np.concatenate(([0], np.cumsum(level_diff)))"
   ]
  },
  {
   "cell_type": "code",
   "execution_count": 11,
   "id": "2003714c-b35f-48f6-874a-0be864fed683",
   "metadata": {},
   "outputs": [],
   "source": [
    "# replace to ERA5\n",
    "q = ds_ERA5['specific_total_water'].values\n",
    "T = ds_ERA5['T'].values\n",
    "u = ds_ERA5['U'].values\n",
    "v = ds_ERA5['V'].values\n",
    "precip = ds_ERA5['total_precipitation'].values\n",
    "evapor = ds_ERA5['evaporation'].values\n",
    "TOA_net = ds_ERA5['top_net_solar_radiation'].values\n",
    "OLR = ds_ERA5['top_net_thermal_radiation'].values\n",
    "R_short = ds_ERA5['surface_net_solar_radiation'].values\n",
    "R_long = ds_ERA5['surface_net_thermal_radiation'].values\n",
    "LH = ds_ERA5['surface_latent_heat_flux'].values\n",
    "SH = ds_ERA5['surface_sensible_heat_flux'].values\n",
    "GPH_surf = ds_static['geopotential_at_surface'].values\n",
    "\n",
    "N_seconds = 3600 * 6 # 6 hourly data"
   ]
  },
  {
   "cell_type": "code",
   "execution_count": 12,
   "id": "35f44d4a-4fba-4544-9bae-6e0d3798c54c",
   "metadata": {},
   "outputs": [],
   "source": [
    "def weighted_sum(data, weights, axis, keepdims=False):\n",
    "    '''\n",
    "    Compute the weighted sum of a given quantity\n",
    "\n",
    "    Args:\n",
    "        data: the quantity to be sum-ed\n",
    "        weights: weights that can be broadcasted to the shape of data\n",
    "        axis: dims to compute the sum\n",
    "        keepdims: keepdims\n",
    "\n",
    "    Returns:\n",
    "        weighted sum\n",
    "    '''\n",
    "    expanded_weights = np.broadcast_to(weights, data.shape)\n",
    "    return np.sum(data * expanded_weights, axis=axis, keepdims=keepdims)\n",
    "\n",
    "def pressure_integral(q, level_p, output_shape):\n",
    "    '''\n",
    "    Compute the pressure level integral of a given quantity using np.trapz\n",
    "\n",
    "    Args:\n",
    "        q: the quantity with dims of (level, lat, lon) or (time, level, lat, lon)\n",
    "        level_p: the pressure level of q as [Pa] and with dims of (level,)\n",
    "        output_shape: either (lat, lon) or (time, lat, lon)\n",
    "\n",
    "    Returns:\n",
    "        Pressure level integrals of q\n",
    "    '''\n",
    "    # Ensure level_p is a NumPy array\n",
    "    level_p = np.asarray(level_p)\n",
    "\n",
    "    # (level, lat, lon) --> (lat, lon)\n",
    "    if len(output_shape) == 2 and q.ndim == 3:\n",
    "        Q = np.trapz(q, x=level_p, axis=0)\n",
    "\n",
    "    # (time, level, lat, lon) --> (time, lat, lon)\n",
    "    elif len(output_shape) == 3 and q.ndim == 4:\n",
    "        Q = np.trapz(q, x=level_p, axis=1)\n",
    "\n",
    "    else:\n",
    "        raise ValueError('Invalid output_shape or dimensions of q.')\n",
    "\n",
    "    return Q\n",
    "\n",
    "def grid_area(lat, lon):\n",
    "    '''\n",
    "    Compute grid cell areas using the exact formula for spherical quadrilaterals.\n",
    "\n",
    "    Args:\n",
    "        lat, lon: 2D arrays of latitude and longitude in degrees.\n",
    "\n",
    "    Return:\n",
    "        area: 2D array of grid cell areas in square meters.\n",
    "    '''\n",
    "    # Convert latitude and longitude to radians\n",
    "    lat_rad = np.deg2rad(lat)\n",
    "    lon_rad = np.deg2rad(lon)\n",
    "    \n",
    "    # Compute sine of latitude\n",
    "    sin_lat_rad = np.sin(lat_rad)\n",
    "    \n",
    "    # Compute gradient of sine of latitude (d_phi)\n",
    "    d_phi = np.gradient(sin_lat_rad, axis=0, edge_order=2)\n",
    "    \n",
    "    # Compute gradient of longitude (d_lambda)\n",
    "    d_lambda = np.gradient(lon_rad, axis=1, edge_order=2)\n",
    "    \n",
    "    # Adjust d_lambda to be within -π and π\n",
    "    d_lambda = (d_lambda + np.pi) % (2 * np.pi) - np.pi\n",
    "    \n",
    "    # Compute grid cell area\n",
    "    area = np.abs(RAD_EARTH**2 * d_phi * d_lambda)\n",
    "    \n",
    "    return area\n",
    "\n",
    "area = grid_area(lat, lon)\n",
    "w_lat = area #/ np.sum(area)"
   ]
  },
  {
   "cell_type": "code",
   "execution_count": 13,
   "id": "dc49ace6-55d0-4877-a226-d88f5070f252",
   "metadata": {},
   "outputs": [],
   "source": [
    "output_shape = (q.shape[0],)+lon.shape\n",
    "\n",
    "def mass_residual_compute(q, level_p, output_shape, w_lat):\n",
    "    mass_dry_per_area = pressure_integral(1-q, level_p, output_shape) / GRAVITY\n",
    "    mass_dry_sum = weighted_sum(mass_dry_per_area, w_lat, axis=(1, 2), keepdims=False)\n",
    "    # ----------------------------------------------------------------------- #\n",
    "    # check residual term\n",
    "    mass_dry_res = np.diff(mass_dry_sum)\n",
    "    return mass_dry_res\n"
   ]
  },
  {
   "cell_type": "code",
   "execution_count": 14,
   "id": "84aff7c6-0ae9-4182-8978-750a471820a8",
   "metadata": {},
   "outputs": [],
   "source": [
    "mass_residual = mass_residual_compute(q, level_p, output_shape, w_lat)"
   ]
  },
  {
   "cell_type": "code",
   "execution_count": 15,
   "id": "a3b00582-9853-4293-aa1c-2cfefa9aba48",
   "metadata": {},
   "outputs": [
    {
     "data": {
      "text/plain": [
       "[<matplotlib.lines.Line2D at 0x14812df8c890>]"
      ]
     },
     "execution_count": 15,
     "metadata": {},
     "output_type": "execute_result"
    },
    {
     "data": {
      "image/png": "[encoded data removed]",
      "text/plain": [
       "<Figure size 640x480 with 1 Axes>"
      ]
     },
     "metadata": {},
     "output_type": "display_data"
    }
   ],
   "source": [
    "plt.plot(mass_residual)"
   ]
  },
  {
   "cell_type": "code",
   "execution_count": 16,
   "id": "3cf8559e-9e16-40d6-83c8-c3d07907c8a9",
   "metadata": {},
   "outputs": [],
   "source": [
    "#def water_budget_compute(q, precip, evapor, N_seconds, output_shape, w_lat):\n",
    "\n",
    "precip_flux = precip_ERA5[1:, ...] * RHO_WATER / N_seconds # m/hour --> kg/m^2/s, positive\n",
    "evapor_flux = evapor_ERA5[1:, ...] * RHO_WATER / N_seconds # kg/m^2/s, negative\n",
    "\n",
    "# pre-compute TWC\n",
    "TWC = pressure_integral(q, level_p, output_shape) / GRAVITY # kg/m^2\n",
    "dTWC_dt = np.diff(TWC, axis=0) / N_seconds # kg/m^2/s\n",
    "TWC_sum = weighted_sum(dTWC_dt, w_lat, axis=(1, 2), keepdims=False) # kg/s\n",
    "\n",
    "# pre-compute evaporation\n",
    "E_sum = weighted_sum(evapor_flux, w_lat, axis=(1, 2), keepdims=False) # kg/s\n",
    "\n",
    "\n",
    "P_sum = weighted_sum(precip_flux, w_lat, axis=(1, 2), keepdims=False) # kg/s\n",
    "\n",
    "residual = -TWC_sum - E_sum - P_sum"
   ]
  },
  {
   "cell_type": "code",
   "execution_count": 17,
   "id": "8d78b2dd-ce73-4711-a3b1-43655ed45ed1",
   "metadata": {},
   "outputs": [
    {
     "data": {
      "text/plain": [
       "[<matplotlib.lines.Line2D at 0x14812dbec3d0>]"
      ]
     },
     "execution_count": 17,
     "metadata": {},
     "output_type": "execute_result"
    },
    {
     "data": {
      "image/png": "[encoded data removed]",
      "text/plain": [
       "<Figure size 640x480 with 1 Axes>"
      ]
     },
     "metadata": {},
     "output_type": "display_data"
    }
   ],
   "source": [
    "plt.plot(residual)"
   ]
  },
  {
   "cell_type": "code",
   "execution_count": 24,
   "id": "c38a2142-8fc1-4883-8b1c-ccb53039212f",
   "metadata": {},
   "outputs": [],
   "source": [
    "N_seconds = 3600 * 6 # 6 hourly data\n",
    "\n",
    "C_p = (1 - q) * CP_DRY + q * CP_VAPOR\n",
    "\n",
    "ken = 0.5 * (u ** 2 + v ** 2)\n",
    "\n",
    "E_qgk = LH_WATER * q + GPH_surf + ken\n",
    "\n",
    "\n",
    "R_T = (TOA_net + OLR) / N_seconds\n",
    "R_T = R_T[1:, :, :]\n",
    "R_T_sum = weighted_sum(R_T, area, axis=(-2, -1))\n",
    "\n",
    "F_S = (R_short + R_long + LH + SH) / N_seconds\n",
    "F_S = F_S[1:, :, :]\n",
    "F_S_sum = weighted_sum(F_S, area, axis=(-2, -1))\n",
    "\n",
    "# layer-wise atmospheric energy (sensible heat + others)\n",
    "E_level = C_p * T + E_qgk\n",
    "\n",
    "# total atmospheric energy (TE) of an air column\n",
    "TE = pressure_integral(E_level, level_p, output_shape) / GRAVITY\n",
    "\n",
    "# ---------------------------------------------------------------------------- #\n",
    "# tendency of TE\n",
    "dTE_dt = (TE[1:, :, :] - TE[:-1, :, :]) / N_seconds\n",
    "# global sum of TE tendency\n",
    "dTE_sum = weighted_sum(dTE_dt, area, axis=(1, 2))\n",
    "# compute the residual\n",
    "residual = (R_T_sum - F_S_sum) - dTE_sum"
   ]
  },
  {
   "cell_type": "code",
   "execution_count": 25,
   "id": "1717ab18-1f06-48e1-8147-c6205b83ea55",
   "metadata": {},
   "outputs": [
    {
     "data": {
      "text/plain": [
       "[<matplotlib.lines.Line2D at 0x14812e21e910>]"
      ]
     },
     "execution_count": 25,
     "metadata": {},
     "output_type": "execute_result"
    },
    {
     "data": {
      "image/png": "[encoded data removed]",
      "text/plain": [
       "<Figure size 640x480 with 1 Axes>"
      ]
     },
     "metadata": {},
     "output_type": "display_data"
    }
   ],
   "source": [
    "plt.plot(residual)"
   ]
  },
  {
   "cell_type": "code",
   "execution_count": null,
   "id": "48af1f3a-e888-4e58-ab5d-036913492e9c",
   "metadata": {},
   "outputs": [],
   "source": [
    "plt.plot(residual)"
   ]
  },
  {
   "cell_type": "code",
   "execution_count": null,
   "id": "cddbcde4-e492-45ad-bcff-e1db30a4d257",
   "metadata": {},
   "outputs": [],
   "source": []
  },
  {
   "cell_type": "code",
   "execution_count": null,
   "id": "bbe69d36-68ef-4080-a3e2-dcf63362db25",
   "metadata": {},
   "outputs": [],
   "source": []
  },
  {
   "cell_type": "code",
   "execution_count": null,
   "id": "0e7168c4-dda3-48ca-8dc7-f61a83b22c20",
   "metadata": {},
   "outputs": [],
   "source": []
  },
  {
   "cell_type": "code",
   "execution_count": null,
   "id": "c53dda93-eede-44c6-9cb2-1e870a001216",
   "metadata": {},
   "outputs": [],
   "source": []
  }
 ],
 "metadata": {
  "kernelspec": {
   "display_name": "Python 3 (ipykernel)",
   "language": "python",
   "name": "python3"
  },
  "language_info": {
   "codemirror_mode": {
    "name": "ipython",
    "version": 3
   },
   "file_extension": ".py",
   "mimetype": "text/x-python",
   "name": "python",
   "nbconvert_exporter": "python",
   "pygments_lexer": "ipython3",
   "version": "3.11.9"
  }
 },
 "nbformat": 4,
 "nbformat_minor": 5
}
